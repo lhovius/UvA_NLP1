{
  "nbformat": 4,
  "nbformat_minor": 0,
  "metadata": {
    "colab": {
      "name": "NLP1 2021 Practical 1 (student version)",
      "provenance": [],
      "collapsed_sections": [],
      "toc_visible": true,
      "include_colab_link": true
    },
    "kernelspec": {
      "display_name": "Python 3",
      "name": "python3"
    }
  },
  "cells": [
    {
      "cell_type": "markdown",
      "metadata": {
        "id": "view-in-github",
        "colab_type": "text"
      },
      "source": [
        "<a href=\"https://colab.research.google.com/github/lhovius/UvA_NLP1/blob/main/NLP1_2021_Practical_1_(student_version).ipynb\" target=\"_parent\"><img src=\"https://colab.research.google.com/assets/colab-badge.svg\" alt=\"Open In Colab\"/></a>"
      ]
    },
    {
      "cell_type": "markdown",
      "metadata": {
        "id": "1-aRiOgl4nHg"
      },
      "source": [
        "------\n",
        "**NLP1 Assignment 1: Elynn Weijland and Linda Hovius (12205184)**\n",
        "\n",
        "------\n",
        "\n",
        " "
      ]
    },
    {
      "cell_type": "markdown",
      "metadata": {
        "id": "lIZrAUx57vsM"
      },
      "source": [
        "Practical 1: Sentiment Detection in Movie Reviews\n",
        "========================================\n",
        "\n"
      ]
    },
    {
      "cell_type": "markdown",
      "metadata": {
        "id": "J4kXPMhyngZW"
      },
      "source": [
        "This practical concerns detecting sentiment in movie reviews. This is a typical NLP classification task.\n",
        "In [this file](https://gist.githubusercontent.com/bastings/d47423301cca214e3930061a5a75e177/raw/5113687382919e22b1f09ce71a8fecd1687a5760/reviews.json) (80MB) you will find 1000 positive and 1000 negative **movie reviews**.\n",
        "Each review is a **document** and consists of one or more sentences.\n",
        "\n",
        "To prepare yourself for this practical, you should\n",
        "have a look at a few of these texts to understand the difficulties of\n",
        "the task: how might one go about classifying the texts? You will write\n",
        "code that decides whether a movie review conveys positive or\n",
        "negative sentiment.\n",
        "\n",
        "Please make sure you have read the following paper:\n",
        "\n",
        ">   Bo Pang, Lillian Lee, and Shivakumar Vaithyanathan\n",
        "(2002). \n",
        "[Thumbs up? Sentiment Classification using Machine Learning\n",
        "Techniques](https://dl.acm.org/citation.cfm?id=1118704). EMNLP.\n",
        "\n",
        "Bo Pang et al. introduced the movie review sentiment\n",
        "classification task, and the above paper was one of the first papers on\n",
        "the topic. The first version of your sentiment classifier will do\n",
        "something similar to Pang et al.'s system. If you have questions about it,\n",
        "you should resolve you doubts as soon as possible with your TA.\n"
      ]
    },
    {
      "cell_type": "markdown",
      "metadata": {
        "id": "cb7errgRASzZ"
      },
      "source": [
        "**Advice**\n",
        "\n",
        "Please read through the entire practical and familiarise\n",
        "yourself with all requirements before you start coding or otherwise\n",
        "solving the tasks. Writing clean and concise code can make the difference\n",
        "between solving the assignment in a matter of hours, and taking days to\n",
        "run all experiments.\n",
        "\n",
        "## Environment\n",
        "\n",
        "All code should be written in **Python 3**. \n",
        "This is the default in Google Colab."
      ]
    },
    {
      "cell_type": "code",
      "metadata": {
        "colab": {
          "base_uri": "https://localhost:8080/"
        },
        "id": "SaZnxptMJiD7",
        "outputId": "8e76832f-32cc-4f05-e566-99cf93d0bcae"
      },
      "source": [
        "!python --version"
      ],
      "execution_count": null,
      "outputs": [
        {
          "name": "stdout",
          "output_type": "stream",
          "text": [
            "Python 3.7.12\n"
          ]
        }
      ]
    },
    {
      "cell_type": "markdown",
      "metadata": {
        "id": "BYZyIF7lJnGn"
      },
      "source": [
        "If you want to run code on your own computer, then download this notebook through `File -> Download .ipynb`.\n",
        "The easiest way to\n",
        "install Python is through downloading\n",
        "[Anaconda](https://www.anaconda.com/download). \n",
        "After installation, you can start the notebook by typing `jupyter notebook filename.ipynb`.\n",
        "You can also use an IDE\n",
        "such as [PyCharm](https://www.jetbrains.com/pycharm/download/) to make\n",
        "coding and debugging easier. It is good practice to create a [virtual\n",
        "environment](https://docs.python.org/3/tutorial/venv.html) for this\n",
        "project, so that any Python packages don’t interfere with other\n",
        "projects. \n",
        " \n",
        "\n",
        "**Learning Python 3**\n",
        "\n",
        "If you are new to Python 3, you may want to check out a few of these resources:\n",
        "- https://learnxinyminutes.com/docs/python3/\n",
        "- https://www.learnpython.org/\n",
        "- https://docs.python.org/3/tutorial/"
      ]
    },
    {
      "cell_type": "code",
      "metadata": {
        "id": "hok-BFu9lGoK"
      },
      "source": [
        "import math\n",
        "import os\n",
        "import sys\n",
        "from subprocess import call\n",
        "from nltk import FreqDist\n",
        "from nltk.util import ngrams\n",
        "from nltk.stem.porter import PorterStemmer\n",
        "import sklearn as sk\n",
        "from google.colab import drive\n",
        "import pickle\n",
        "import json\n",
        "from collections import Counter\n",
        "import requests\n",
        "import matplotlib.pyplot as plt\n",
        "import numpy as np\n",
        "import pandas as pd\n",
        "import seaborn as sns"
      ],
      "execution_count": 1,
      "outputs": []
    },
    {
      "cell_type": "markdown",
      "metadata": {
        "id": "bXWyGHwE-ieQ"
      },
      "source": [
        "## Loading the data\n",
        "\n",
        "**Download the sentiment lexicon and the movie reviews dataset.**"
      ]
    },
    {
      "cell_type": "code",
      "metadata": {
        "colab": {
          "base_uri": "https://localhost:8080/"
        },
        "id": "lm-rakqtlMOT",
        "outputId": "49ab3683-dd37-4be7-ee3e-bf6787ddf827"
      },
      "source": [
        "# download sentiment lexicon\n",
        "!wget https://gist.githubusercontent.com/bastings/d6f99dcb6c82231b94b013031356ba05/raw/f80a0281eba8621b122012c89c8b5e2200b39fd6/sent_lexicon\n",
        "# download review data\n",
        "!wget https://gist.githubusercontent.com/bastings/d47423301cca214e3930061a5a75e177/raw/5113687382919e22b1f09ce71a8fecd1687a5760/reviews.json"
      ],
      "execution_count": 2,
      "outputs": [
        {
          "output_type": "stream",
          "name": "stdout",
          "text": [
            "--2021-11-06 10:09:04--  https://gist.githubusercontent.com/bastings/d6f99dcb6c82231b94b013031356ba05/raw/f80a0281eba8621b122012c89c8b5e2200b39fd6/sent_lexicon\n",
            "Resolving gist.githubusercontent.com (gist.githubusercontent.com)... 185.199.110.133, 185.199.109.133, 185.199.111.133, ...\n",
            "Connecting to gist.githubusercontent.com (gist.githubusercontent.com)|185.199.110.133|:443... connected.\n",
            "HTTP request sent, awaiting response... 200 OK\n",
            "Length: 662577 (647K) [text/plain]\n",
            "Saving to: ‘sent_lexicon’\n",
            "\n",
            "sent_lexicon        100%[===================>] 647.05K  --.-KB/s    in 0.04s   \n",
            "\n",
            "2021-11-06 10:09:04 (14.4 MB/s) - ‘sent_lexicon’ saved [662577/662577]\n",
            "\n",
            "--2021-11-06 10:09:04--  https://gist.githubusercontent.com/bastings/d47423301cca214e3930061a5a75e177/raw/5113687382919e22b1f09ce71a8fecd1687a5760/reviews.json\n",
            "Resolving gist.githubusercontent.com (gist.githubusercontent.com)... 185.199.110.133, 185.199.109.133, 185.199.111.133, ...\n",
            "Connecting to gist.githubusercontent.com (gist.githubusercontent.com)|185.199.110.133|:443... connected.\n",
            "HTTP request sent, awaiting response... 200 OK\n",
            "Length: 83503869 (80M) [text/plain]\n",
            "Saving to: ‘reviews.json’\n",
            "\n",
            "reviews.json        100%[===================>]  79.63M   190MB/s    in 0.4s    \n",
            "\n",
            "2021-11-06 10:09:05 (190 MB/s) - ‘reviews.json’ saved [83503869/83503869]\n",
            "\n"
          ]
        }
      ]
    },
    {
      "cell_type": "markdown",
      "metadata": {
        "id": "AkPwuHp5LSuQ"
      },
      "source": [
        "**Load the movie reviews.**\n",
        "\n",
        "Each word in a review comes with its part-of-speech tag. For documentation on POS-tags, see https://catalog.ldc.upenn.edu/docs/LDC99T42/tagguid1.pdf.\n"
      ]
    },
    {
      "cell_type": "code",
      "metadata": {
        "colab": {
          "base_uri": "https://localhost:8080/"
        },
        "id": "careEKj-mRpl",
        "outputId": "92c9a879-e938-4bae-e08a-e227bbfd2780"
      },
      "source": [
        "# file structure is a list of dictionaries met 'cv' als indexnummer:\n",
        "# [\n",
        "#  {\"cv\": integer, \"sentiment\": str, \"content\": list} \n",
        "#  {\"cv\": integer, \"sentiment\": str, \"content\": list} \n",
        "#   ..\n",
        "# ]\n",
        "# where `content` is a list of sentences, \n",
        "# with a sentence being a list of (token, pos_tag) pairs.\n",
        "\n",
        "with open(\"reviews.json\", mode=\"r\", encoding=\"utf-8\") as f:\n",
        "  reviews = json.load(f)\n",
        "  \n",
        "print(\"Total number of reviews:\", len(reviews), '\\n') # length want het is een list\n",
        "\n",
        "def print_sentence_with_pos(s):\n",
        "  print(\" \".join(\"%s/%s\" % (token, pos_tag) for token, pos_tag in s))\n",
        "\n",
        "for i, r in enumerate(reviews):\n",
        "  print(r[\"cv\"], r[\"sentiment\"], len(r[\"content\"]))  # cv, sentiment, num sents\n",
        "  print_sentence_with_pos(r[\"content\"][0])\n",
        "  if i == 4: \n",
        "    break\n",
        "    \n",
        "c = Counter()\n",
        "for review in reviews:\n",
        "  for sentence in review[\"content\"]:\n",
        "    for token, pos_tag in sentence:\n",
        "      c[token.lower()] += 1\n",
        "      \n",
        "print(\"\\nNumber of word types:\", len(c))\n",
        "print(\"Number of word tokens:\", sum(c.values()))\n",
        "\n",
        "print(\"\\nMost common tokens:\")\n",
        "for token, count in c.most_common(20):\n",
        "  print(\"%10s : %8d\" % (token, count))"
      ],
      "execution_count": 3,
      "outputs": [
        {
          "output_type": "stream",
          "name": "stdout",
          "text": [
            "Total number of reviews: 2000 \n",
            "\n",
            "0 NEG 29\n",
            "Two/CD teen/JJ couples/NNS go/VBP to/TO a/DT church/NN party/NN ,/, drink/NN and/CC then/RB drive/NN ./.\n",
            "1 NEG 11\n",
            "Damn/JJ that/IN Y2K/CD bug/NN ./.\n",
            "2 NEG 24\n",
            "It/PRP is/VBZ movies/NNS like/IN these/DT that/WDT make/VBP a/DT jaded/JJ movie/NN viewer/NN thankful/JJ for/IN the/DT invention/NN of/IN the/DT Timex/NNP IndiGlo/NNP watch/NN ./.\n",
            "3 NEG 19\n",
            "QUEST/NN FOR/IN CAMELOT/NNP ``/`` Quest/NNP for/IN Camelot/NNP ''/'' is/VBZ Warner/NNP Bros./NNP '/POS first/JJ feature-length/JJ ,/, fully-animated/JJ attempt/NN to/TO steal/VB clout/NN from/IN Disney/NNP 's/POS cartoon/NN empire/NN ,/, but/CC the/DT mouse/NN has/VBZ no/DT reason/NN to/TO be/VB worried/VBN ./.\n",
            "4 NEG 38\n",
            "Synopsis/NNPS :/: A/DT mentally/RB unstable/JJ man/NN undergoing/VBG psychotherapy/NN saves/VBZ a/DT boy/NN from/IN a/DT potentially/RB fatal/JJ accident/NN and/CC then/RB falls/VBZ in/IN love/NN with/IN the/DT boy/NN 's/POS mother/NN ,/, a/DT fledgling/NN restauranteur/NN ./.\n",
            "\n",
            "Number of word types: 47743\n",
            "Number of word tokens: 1512359\n",
            "\n",
            "Most common tokens:\n",
            "         , :    77842\n",
            "       the :    75948\n",
            "         . :    59027\n",
            "         a :    37583\n",
            "       and :    35235\n",
            "        of :    33864\n",
            "        to :    31601\n",
            "        is :    25972\n",
            "        in :    21563\n",
            "        's :    18043\n",
            "        it :    15904\n",
            "      that :    15820\n",
            "     -rrb- :    11768\n",
            "     -lrb- :    11670\n",
            "        as :    11312\n",
            "      with :    10739\n",
            "       for :     9816\n",
            "       his :     9542\n",
            "      this :     9497\n",
            "      film :     9404\n"
          ]
        }
      ]
    },
    {
      "cell_type": "markdown",
      "metadata": {
        "id": "E6PWaEoh8B34"
      },
      "source": [
        "# Lexicon-based approach (3.5pts)\n",
        "\n"
      ]
    },
    {
      "cell_type": "markdown",
      "metadata": {
        "id": "JsTSMb6ma4E8"
      },
      "source": [
        "A traditional approach to classify documents according to their sentiment is the lexicon-based approach. To implement this approach, you need a **sentiment lexicon**, i.e., a list of words annotated with a sentiment label (e.g., positive and negative, or a score from 0 to 5).\n",
        "\n",
        "In this practical, you will use the sentiment\n",
        "lexicon released by Wilson et al. (2005).\n",
        "\n",
        "> Theresa Wilson, Janyce Wiebe, and Paul Hoffmann\n",
        "(2005). [Recognizing Contextual Polarity in Phrase-Level Sentiment\n",
        "Analysis](http://www.aclweb.org/anthology/H/H05/H05-1044.pdf). HLT-EMNLP.\n",
        "\n",
        "Pay attention to all the information available in the sentiment lexicon. The field *word1* contains the lemma, *priorpolarity* contains the sentiment label (positive, negative, both, or neutral), *type* gives you the magnitude of the word's sentiment (strong or weak), and *pos1* gives you the part-of-speech tag of the lemma. Some lemmas can have multiple part-of-speech tags and thus multiple entries in the lexicon. The path of the lexicon file is `\"sent_lexicon\"`.\n"
      ]
    },
    {
      "cell_type": "code",
      "metadata": {
        "id": "Ogq0Eq2hQglh",
        "colab": {
          "base_uri": "https://localhost:8080/"
        },
        "outputId": "514d2352-bedb-4d1a-ddce-42b8122eefd7"
      },
      "source": [
        "with open(\"sent_lexicon\", mode=\"r\", encoding=\"utf-8\") as f:\n",
        "  line_cnt = 0\n",
        "  for line in f:\n",
        "    print(line.strip().split())\n",
        "    line_cnt += 1\n",
        "    if line_cnt > 4:\n",
        "      break"
      ],
      "execution_count": 4,
      "outputs": [
        {
          "output_type": "stream",
          "name": "stdout",
          "text": [
            "['type=weaksubj', 'len=1', 'word1=abandoned', 'pos1=adj', 'stemmed1=n', 'priorpolarity=negative']\n",
            "['type=weaksubj', 'len=1', 'word1=abandonment', 'pos1=noun', 'stemmed1=n', 'priorpolarity=negative']\n",
            "['type=weaksubj', 'len=1', 'word1=abandon', 'pos1=verb', 'stemmed1=y', 'priorpolarity=negative']\n",
            "['type=strongsubj', 'len=1', 'word1=abase', 'pos1=verb', 'stemmed1=y', 'priorpolarity=negative']\n",
            "['type=strongsubj', 'len=1', 'word1=abasement', 'pos1=anypos', 'stemmed1=y', 'priorpolarity=negative']\n"
          ]
        }
      ]
    },
    {
      "cell_type": "code",
      "metadata": {
        "id": "nacNP9KYeHml"
      },
      "source": [
        "def content_to_text(content):\n",
        "  text = ''\n",
        "  for sent in content:\n",
        "    for combi in sent:\n",
        "      word = combi[0]\n",
        "      text = text+' '+word\n",
        "  return text"
      ],
      "execution_count": 5,
      "outputs": []
    },
    {
      "cell_type": "code",
      "metadata": {
        "colab": {
          "base_uri": "https://localhost:8080/",
          "height": 202
        },
        "id": "0r6J8FwkS7Hx",
        "outputId": "d91b741a-e32e-4a1e-eb0b-9c744a322c61"
      },
      "source": [
        "reviewsDF = pd.DataFrame(reviews)\n",
        "reviewsDF['text'] = reviewsDF['content'].apply(content_to_text)\n",
        "reviewsDF.head()"
      ],
      "execution_count": 6,
      "outputs": [
        {
          "output_type": "execute_result",
          "data": {
            "text/html": [
              "<div>\n",
              "<style scoped>\n",
              "    .dataframe tbody tr th:only-of-type {\n",
              "        vertical-align: middle;\n",
              "    }\n",
              "\n",
              "    .dataframe tbody tr th {\n",
              "        vertical-align: top;\n",
              "    }\n",
              "\n",
              "    .dataframe thead th {\n",
              "        text-align: right;\n",
              "    }\n",
              "</style>\n",
              "<table border=\"1\" class=\"dataframe\">\n",
              "  <thead>\n",
              "    <tr style=\"text-align: right;\">\n",
              "      <th></th>\n",
              "      <th>cv</th>\n",
              "      <th>sentiment</th>\n",
              "      <th>content</th>\n",
              "      <th>text</th>\n",
              "    </tr>\n",
              "  </thead>\n",
              "  <tbody>\n",
              "    <tr>\n",
              "      <th>0</th>\n",
              "      <td>0</td>\n",
              "      <td>NEG</td>\n",
              "      <td>[[[Two, CD], [teen, JJ], [couples, NNS], [go, ...</td>\n",
              "      <td>Two teen couples go to a church party , drink...</td>\n",
              "    </tr>\n",
              "    <tr>\n",
              "      <th>1</th>\n",
              "      <td>1</td>\n",
              "      <td>NEG</td>\n",
              "      <td>[[[Damn, JJ], [that, IN], [Y2K, CD], [bug, NN]...</td>\n",
              "      <td>Damn that Y2K bug . It 's got a head start in...</td>\n",
              "    </tr>\n",
              "    <tr>\n",
              "      <th>2</th>\n",
              "      <td>2</td>\n",
              "      <td>NEG</td>\n",
              "      <td>[[[It, PRP], [is, VBZ], [movies, NNS], [like, ...</td>\n",
              "      <td>It is movies like these that make a jaded mov...</td>\n",
              "    </tr>\n",
              "    <tr>\n",
              "      <th>3</th>\n",
              "      <td>3</td>\n",
              "      <td>NEG</td>\n",
              "      <td>[[[QUEST, NN], [FOR, IN], [CAMELOT, NNP], [``,...</td>\n",
              "      <td>QUEST FOR CAMELOT `` Quest for Camelot '' is ...</td>\n",
              "    </tr>\n",
              "    <tr>\n",
              "      <th>4</th>\n",
              "      <td>4</td>\n",
              "      <td>NEG</td>\n",
              "      <td>[[[Synopsis, NNPS], [:, :], [A, DT], [mentally...</td>\n",
              "      <td>Synopsis : A mentally unstable man undergoing...</td>\n",
              "    </tr>\n",
              "  </tbody>\n",
              "</table>\n",
              "</div>"
            ],
            "text/plain": [
              "   cv  ...                                               text\n",
              "0   0  ...   Two teen couples go to a church party , drink...\n",
              "1   1  ...   Damn that Y2K bug . It 's got a head start in...\n",
              "2   2  ...   It is movies like these that make a jaded mov...\n",
              "3   3  ...   QUEST FOR CAMELOT `` Quest for Camelot '' is ...\n",
              "4   4  ...   Synopsis : A mentally unstable man undergoing...\n",
              "\n",
              "[5 rows x 4 columns]"
            ]
          },
          "metadata": {},
          "execution_count": 6
        }
      ]
    },
    {
      "cell_type": "markdown",
      "metadata": {
        "id": "Mml4nOtIUBhn"
      },
      "source": [
        "\n",
        "Lexica such as this can be used to solve\n",
        "the classification task without using Machine Learning. For example, one might look up every word $w_1 ... w_n$ in a document, and compute a **binary score**\n",
        "$S_{binary}$ by counting how many words have a positive or a\n",
        "negative label in the sentiment lexicon $SLex$.\n",
        "\n",
        "$$S_{binary}(w_1 w_2 ... w_n) = \\sum_{i = 1}^{n}\\text{sign}(SLex\\big[w_i\\big])$$\n",
        "\n",
        "where $\\text{sign}(SLex\\big[w_i\\big])$ refers to the polarity of $w_i$.\n",
        "\n",
        "**Threshold.** On average, there are more positive than negative words per review (~7.13 more positive than negative per review) to take this bias into account you should use a threshold of **8** (roughly the bias itself) to make it harder to classify as positive.\n",
        "\n",
        "$$\n",
        "\\text{classify}(S_{binary}(w_1 w_2 ... w_n)) = \\bigg\\{\\begin{array}{ll}\n",
        "        \\text{positive} & \\text{if } S_{binary}(w_1w_2...w_n) > threshold\\\\\n",
        "        \\text{negative} & \\text{otherwise}\n",
        "        \\end{array}\n",
        "$$\n"
      ]
    },
    {
      "cell_type": "markdown",
      "metadata": {
        "id": "tOFnMvbeeZrc"
      },
      "source": [
        "#### (Q1.1) Implement this approach and report its classification accuracy. (1 pt)"
      ]
    },
    {
      "cell_type": "code",
      "metadata": {
        "colab": {
          "base_uri": "https://localhost:8080/",
          "height": 334
        },
        "id": "ctUstXj6W-19",
        "outputId": "7b752a7c-4ad3-4c9d-c8af-1653752c2178"
      },
      "source": [
        "reviewsDF[['sentiment', 'nr_tokens']].groupby('sentiment').describe()\n",
        "# OVERLEG ELYNN, WAAR KOMT DIE 7.13 VANDAAN? IS DAT HET AANTAL ZINNEN OF ZO? HEB JE NODIG VOOR DE ALTERNATIEVE VARIABELE THRESHOLD!"
      ],
      "execution_count": 8,
      "outputs": [
        {
          "output_type": "error",
          "ename": "KeyError",
          "evalue": "ignored",
          "traceback": [
            "\u001b[0;31m---------------------------------------------------------------------------\u001b[0m",
            "\u001b[0;31mKeyError\u001b[0m                                  Traceback (most recent call last)",
            "\u001b[0;32m<ipython-input-8-de0c1f8be2d9>\u001b[0m in \u001b[0;36m<module>\u001b[0;34m()\u001b[0m\n\u001b[0;32m----> 1\u001b[0;31m \u001b[0mreviewsDF\u001b[0m\u001b[0;34m[\u001b[0m\u001b[0;34m[\u001b[0m\u001b[0;34m'sentiment'\u001b[0m\u001b[0;34m,\u001b[0m \u001b[0;34m'nr_tokens'\u001b[0m\u001b[0;34m]\u001b[0m\u001b[0;34m]\u001b[0m\u001b[0;34m.\u001b[0m\u001b[0mgroupby\u001b[0m\u001b[0;34m(\u001b[0m\u001b[0;34m'sentiment'\u001b[0m\u001b[0;34m)\u001b[0m\u001b[0;34m.\u001b[0m\u001b[0mdescribe\u001b[0m\u001b[0;34m(\u001b[0m\u001b[0;34m)\u001b[0m\u001b[0;34m\u001b[0m\u001b[0;34m\u001b[0m\u001b[0m\n\u001b[0m\u001b[1;32m      2\u001b[0m \u001b[0;31m# OVERLEG ELYNN, WAAR KOMT DIE 7.13 VANDAAN? IS DAT HET AANTAL ZINNEN OF ZO? HEB JE NODIG VOOR DE ALTERNATIEVE VARIABELE THRESHOLD!\u001b[0m\u001b[0;34m\u001b[0m\u001b[0;34m\u001b[0m\u001b[0;34m\u001b[0m\u001b[0m\n",
            "\u001b[0;32m/usr/local/lib/python3.7/dist-packages/pandas/core/frame.py\u001b[0m in \u001b[0;36m__getitem__\u001b[0;34m(self, key)\u001b[0m\n\u001b[1;32m   2910\u001b[0m             \u001b[0;32mif\u001b[0m \u001b[0mis_iterator\u001b[0m\u001b[0;34m(\u001b[0m\u001b[0mkey\u001b[0m\u001b[0;34m)\u001b[0m\u001b[0;34m:\u001b[0m\u001b[0;34m\u001b[0m\u001b[0;34m\u001b[0m\u001b[0m\n\u001b[1;32m   2911\u001b[0m                 \u001b[0mkey\u001b[0m \u001b[0;34m=\u001b[0m \u001b[0mlist\u001b[0m\u001b[0;34m(\u001b[0m\u001b[0mkey\u001b[0m\u001b[0;34m)\u001b[0m\u001b[0;34m\u001b[0m\u001b[0;34m\u001b[0m\u001b[0m\n\u001b[0;32m-> 2912\u001b[0;31m             \u001b[0mindexer\u001b[0m \u001b[0;34m=\u001b[0m \u001b[0mself\u001b[0m\u001b[0;34m.\u001b[0m\u001b[0mloc\u001b[0m\u001b[0;34m.\u001b[0m\u001b[0m_get_listlike_indexer\u001b[0m\u001b[0;34m(\u001b[0m\u001b[0mkey\u001b[0m\u001b[0;34m,\u001b[0m \u001b[0maxis\u001b[0m\u001b[0;34m=\u001b[0m\u001b[0;36m1\u001b[0m\u001b[0;34m,\u001b[0m \u001b[0mraise_missing\u001b[0m\u001b[0;34m=\u001b[0m\u001b[0;32mTrue\u001b[0m\u001b[0;34m)\u001b[0m\u001b[0;34m[\u001b[0m\u001b[0;36m1\u001b[0m\u001b[0;34m]\u001b[0m\u001b[0;34m\u001b[0m\u001b[0;34m\u001b[0m\u001b[0m\n\u001b[0m\u001b[1;32m   2913\u001b[0m \u001b[0;34m\u001b[0m\u001b[0m\n\u001b[1;32m   2914\u001b[0m         \u001b[0;31m# take() does not accept boolean indexers\u001b[0m\u001b[0;34m\u001b[0m\u001b[0;34m\u001b[0m\u001b[0;34m\u001b[0m\u001b[0m\n",
            "\u001b[0;32m/usr/local/lib/python3.7/dist-packages/pandas/core/indexing.py\u001b[0m in \u001b[0;36m_get_listlike_indexer\u001b[0;34m(self, key, axis, raise_missing)\u001b[0m\n\u001b[1;32m   1252\u001b[0m             \u001b[0mkeyarr\u001b[0m\u001b[0;34m,\u001b[0m \u001b[0mindexer\u001b[0m\u001b[0;34m,\u001b[0m \u001b[0mnew_indexer\u001b[0m \u001b[0;34m=\u001b[0m \u001b[0max\u001b[0m\u001b[0;34m.\u001b[0m\u001b[0m_reindex_non_unique\u001b[0m\u001b[0;34m(\u001b[0m\u001b[0mkeyarr\u001b[0m\u001b[0;34m)\u001b[0m\u001b[0;34m\u001b[0m\u001b[0;34m\u001b[0m\u001b[0m\n\u001b[1;32m   1253\u001b[0m \u001b[0;34m\u001b[0m\u001b[0m\n\u001b[0;32m-> 1254\u001b[0;31m         \u001b[0mself\u001b[0m\u001b[0;34m.\u001b[0m\u001b[0m_validate_read_indexer\u001b[0m\u001b[0;34m(\u001b[0m\u001b[0mkeyarr\u001b[0m\u001b[0;34m,\u001b[0m \u001b[0mindexer\u001b[0m\u001b[0;34m,\u001b[0m \u001b[0maxis\u001b[0m\u001b[0;34m,\u001b[0m \u001b[0mraise_missing\u001b[0m\u001b[0;34m=\u001b[0m\u001b[0mraise_missing\u001b[0m\u001b[0;34m)\u001b[0m\u001b[0;34m\u001b[0m\u001b[0;34m\u001b[0m\u001b[0m\n\u001b[0m\u001b[1;32m   1255\u001b[0m         \u001b[0;32mreturn\u001b[0m \u001b[0mkeyarr\u001b[0m\u001b[0;34m,\u001b[0m \u001b[0mindexer\u001b[0m\u001b[0;34m\u001b[0m\u001b[0;34m\u001b[0m\u001b[0m\n\u001b[1;32m   1256\u001b[0m \u001b[0;34m\u001b[0m\u001b[0m\n",
            "\u001b[0;32m/usr/local/lib/python3.7/dist-packages/pandas/core/indexing.py\u001b[0m in \u001b[0;36m_validate_read_indexer\u001b[0;34m(self, key, indexer, axis, raise_missing)\u001b[0m\n\u001b[1;32m   1302\u001b[0m             \u001b[0;32mif\u001b[0m \u001b[0mraise_missing\u001b[0m\u001b[0;34m:\u001b[0m\u001b[0;34m\u001b[0m\u001b[0;34m\u001b[0m\u001b[0m\n\u001b[1;32m   1303\u001b[0m                 \u001b[0mnot_found\u001b[0m \u001b[0;34m=\u001b[0m \u001b[0mlist\u001b[0m\u001b[0;34m(\u001b[0m\u001b[0mset\u001b[0m\u001b[0;34m(\u001b[0m\u001b[0mkey\u001b[0m\u001b[0;34m)\u001b[0m \u001b[0;34m-\u001b[0m \u001b[0mset\u001b[0m\u001b[0;34m(\u001b[0m\u001b[0max\u001b[0m\u001b[0;34m)\u001b[0m\u001b[0;34m)\u001b[0m\u001b[0;34m\u001b[0m\u001b[0;34m\u001b[0m\u001b[0m\n\u001b[0;32m-> 1304\u001b[0;31m                 \u001b[0;32mraise\u001b[0m \u001b[0mKeyError\u001b[0m\u001b[0;34m(\u001b[0m\u001b[0;34mf\"{not_found} not in index\"\u001b[0m\u001b[0;34m)\u001b[0m\u001b[0;34m\u001b[0m\u001b[0;34m\u001b[0m\u001b[0m\n\u001b[0m\u001b[1;32m   1305\u001b[0m \u001b[0;34m\u001b[0m\u001b[0m\n\u001b[1;32m   1306\u001b[0m             \u001b[0;31m# we skip the warning on Categorical\u001b[0m\u001b[0;34m\u001b[0m\u001b[0;34m\u001b[0m\u001b[0;34m\u001b[0m\u001b[0m\n",
            "\u001b[0;31mKeyError\u001b[0m: \"['nr_tokens'] not in index\""
          ]
        }
      ]
    },
    {
      "cell_type": "code",
      "metadata": {
        "id": "7QSE-bIhmmcZ",
        "colab": {
          "base_uri": "https://localhost:8080/"
        },
        "outputId": "d613122b-43fd-46ac-b2e7-8ef82283bc35"
      },
      "source": [
        "# Create a lookup dictionary (dictionary is fast because of hashing)\n",
        "# We will need the weights later on, so we'll add them right away\n",
        "\n",
        "sent_lex = dict()\n",
        "weight_lex =dict()\n",
        "with open(\"sent_lexicon\", mode=\"r\", encoding=\"utf-8\") as f:\n",
        "#  line_cnt = 0\n",
        "  for line in f:\n",
        "    lijst = line.strip().split()\n",
        "    sent_lex[lijst[2][6:]]=lijst[5][14:]\n",
        "    if lijst[0][5:10].startswith('str'):\n",
        "      weight_lex[lijst[2][6:]]=2\n",
        "    elif lijst[0][5:10].startswith('wea'):\n",
        "      weight_lex[lijst[2][6:]]=1\n",
        "\n",
        "for i,s in enumerate(sent_lex):\n",
        "  print(f'Sentiment lexicon has {len(sent_lex)} entries, starting with: {s}')\n",
        "  print(f'Weight lexicon has {len(weight_lex)} entries, starting with: {s}')\n",
        "  if i==0:\n",
        "    break"
      ],
      "execution_count": 9,
      "outputs": [
        {
          "output_type": "stream",
          "name": "stdout",
          "text": [
            "Sentiment lexicon has 6886 entries, starting with: abandoned\n",
            "Weight lexicon has 6886 entries, starting with: abandoned\n"
          ]
        }
      ]
    },
    {
      "cell_type": "code",
      "metadata": {
        "id": "_ANoe0MMFJ9U"
      },
      "source": [
        "def create_unweighted_polarity(threshold,text):\n",
        "  # insert assert dtypes\n",
        "  polarity=threshold\n",
        "  for token in text.split():\n",
        "    t = token.lower()\n",
        "    if t in sent_lex:\n",
        "      if sent_lex[t]=='positive':\n",
        "        polarity+=1\n",
        "      elif sent_lex[t]=='negative':\n",
        "        polarity-=1\n",
        "  return polarity"
      ],
      "execution_count": 10,
      "outputs": []
    },
    {
      "cell_type": "code",
      "metadata": {
        "id": "he_a_7QrGK-g"
      },
      "source": [
        "reviewsDF['unweighted_polarity'] = [create_unweighted_polarity(-8,txt) for txt in reviewsDF['text']]\n",
        "reviewsDF['unweighted_predict'] = ['POS' if x>=0 else 'NEG' for x in reviewsDF['unweighted_polarity']]"
      ],
      "execution_count": 11,
      "outputs": []
    },
    {
      "cell_type": "code",
      "metadata": {
        "colab": {
          "base_uri": "https://localhost:8080/"
        },
        "id": "w9yeUB76wPeF",
        "outputId": "08cedda0-29b0-4d3f-c82a-2565a9f0ecd7"
      },
      "source": [
        "# compare y_true with y_predict to calculate prediction accuracy\n",
        "# we create a list of binary indicators, called token_results, where 1 indicates a correct classification and 0 an incorrect one\n",
        "token_results = []\n",
        "for true, predict in zip(reviewsDF['sentiment'],reviewsDF['unweighted_predict']):\n",
        "  if true==predict:\n",
        "    token_results.append(1)\n",
        "  else:\n",
        "    token_results.append(0)\n",
        "\n",
        "print(f'Length token_results is {len(token_results)}, first entry is {token_results[0]}')\n",
        "print(f\"Accuracy of unweighted sign-only classification (with fixed threshold): {sum(token_results)/len(token_results)}\")"
      ],
      "execution_count": 12,
      "outputs": [
        {
          "output_type": "stream",
          "name": "stdout",
          "text": [
            "Length token_results is 2000, first entry is 0\n",
            "Accuracy of unweighted sign-only classification (with fixed threshold): 0.679\n"
          ]
        }
      ]
    },
    {
      "cell_type": "markdown",
      "metadata": {
        "id": "Twox0s_3eS0V"
      },
      "source": [
        "As the sentiment lexicon also has information about the **magnitude** of\n",
        "sentiment (e.g., *“excellent\"* has the same sentiment _polarity_ as *“good\"* but it has a higher magnitude), we can take a more fine-grained approach by adding up all\n",
        "sentiment scores, and deciding the polarity of the movie review using\n",
        "the sign of the weighted score $S_{weighted}$.\n",
        "\n",
        "$$S_{weighted}(w_1w_2...w_n) = \\sum_{i = 1}^{n}SLex\\big[w_i\\big]$$\n",
        "\n",
        "\n",
        "Make sure you define an appropriate threshold for this approach.\n",
        "\n",
        "#### (Q1.2) Now incorporate magnitude information and report the classification accuracy. Don't forget to use the threshold. (1pt)"
      ]
    },
    {
      "cell_type": "code",
      "metadata": {
        "colab": {
          "base_uri": "https://localhost:8080/",
          "height": 300
        },
        "id": "jx0b5wb651fv",
        "outputId": "762219e5-f750-4310-b2c9-3bc2c5affc2f"
      },
      "source": [
        "# Before we see what the weights do, let's first take a look at the unweighted distribution of polarity scores\n",
        "# This will be handy to make a valid comparison between the two distributions later (and set the threshold right)\n",
        "\n",
        "plt.figure(figsize=(9,4))\n",
        "plt.hist(reviewsDF['unweighted_polarity'], bins=40)\n",
        "plt.show()\n",
        "\n",
        "print(f\"Mean of unweighted polarity (with threshold): {np.mean(reviewsDF['unweighted_polarity'])}\")\n",
        "print(f\"Standard deviation of unweighted polarity (with threshold): {np.std(reviewsDF['unweighted_polarity'])}\")"
      ],
      "execution_count": 13,
      "outputs": [
        {
          "output_type": "display_data",
          "data": {
            "image/png": "[encoded data removed]",
            "text/plain": [
              "<Figure size 648x288 with 1 Axes>"
            ]
          },
          "metadata": {
            "needs_background": "light"
          }
        },
        {
          "output_type": "stream",
          "name": "stdout",
          "text": [
            "Mean of unweighted polarity (with threshold): -0.806\n",
            "Standard deviation of unweighted polarity (with threshold): 14.808996049698989\n"
          ]
        }
      ]
    },
    {
      "cell_type": "code",
      "metadata": {
        "id": "I4pyXr0FLrke"
      },
      "source": [
        "def create_weighted_polarity(threshold,text):\n",
        "  # insert assert dtypes\n",
        "  polarity=threshold\n",
        "  for token in text.split():\n",
        "    t = token.lower()\n",
        "    if t in sent_lex:\n",
        "      if sent_lex[t]=='positive':\n",
        "        polarity+=1*weight_lex[t]\n",
        "      elif sent_lex[t]=='negative':\n",
        "        polarity-=1*weight_lex[t]\n",
        "  return polarity"
      ],
      "execution_count": 14,
      "outputs": []
    },
    {
      "cell_type": "code",
      "metadata": {
        "id": "8xAoHV08LrRR"
      },
      "source": [
        "reviewsDF['weighted_polarity'] = [create_weighted_polarity(-8,txt) for txt in reviewsDF['text']]\n",
        "reviewsDF['weighted_predict'] = ['POS' if x>=0 else 'NEG' for x in reviewsDF['weighted_polarity']]"
      ],
      "execution_count": 15,
      "outputs": []
    },
    {
      "cell_type": "code",
      "metadata": {
        "colab": {
          "base_uri": "https://localhost:8080/",
          "height": 300
        },
        "id": "EUfCh9ui9aXD",
        "outputId": "41cc3306-bd66-445b-9760-7e10d67930ac"
      },
      "source": [
        "# what is the distribution of the weighted polarity scores?\n",
        "plt.figure(figsize=(10,4))\n",
        "plt.hist(reviewsDF['weighted_polarity'], bins=40)\n",
        "plt.show()\n",
        "\n",
        "print(f\"Mean of weighted polarity (with threshold): {np.mean(reviewsDF['weighted_polarity'])}\")\n",
        "print(f\"Standard deviation of weighted polarity (with threshold): {np.std(reviewsDF['weighted_polarity'])}\")\n",
        "# The mean went up by 2 points and the std also nearly doubled. This means that we need to tweak the threshold"
      ],
      "execution_count": 16,
      "outputs": [
        {
          "output_type": "display_data",
          "data": {
            "image/png": "[encoded data removed]",
            "text/plain": [
              "<Figure size 720x288 with 1 Axes>"
            ]
          },
          "metadata": {
            "needs_background": "light"
          }
        },
        {
          "output_type": "stream",
          "name": "stdout",
          "text": [
            "Mean of weighted polarity (with threshold): 2.8195\n",
            "Standard deviation of weighted polarity (with threshold): 24.316289185441132\n"
          ]
        }
      ]
    },
    {
      "cell_type": "code",
      "metadata": {
        "colab": {
          "base_uri": "https://localhost:8080/"
        },
        "id": "Fta4LQdYMsoy",
        "outputId": "f6db4e7b-395a-4924-9536-c9b629b9ee85"
      },
      "source": [
        "reviewsDF['weighted_polarity'] = [create_weighted_polarity(-11.5,txt) for txt in reviewsDF['text']]\n",
        "reviewsDF['weighted_predict'] = ['POS' if x>=0 else 'NEG' for x in reviewsDF['weighted_polarity']]\n",
        "print(f\"Mean of weighted polarity (with threshold): {np.mean(reviewsDF['weighted_polarity'])}\")\n",
        "# We tried different thresholds, -11.5 comes close to the unweighted mean"
      ],
      "execution_count": 17,
      "outputs": [
        {
          "output_type": "stream",
          "name": "stdout",
          "text": [
            "Mean of weighted polarity (with threshold): -0.6805\n"
          ]
        }
      ]
    },
    {
      "cell_type": "code",
      "metadata": {
        "colab": {
          "base_uri": "https://localhost:8080/"
        },
        "id": "N5bj6k3g7mzn",
        "outputId": "cbe9ddb7-ee53-482e-da32-0acb4b9e3cdf"
      },
      "source": [
        "# compare y_true with y_predict to calculate prediction accuracy\n",
        "# we create a list of binary indicators, called magnitude_results, where 1 indicates a correct classification and 0 an incorrect one\n",
        "magnitude_results = []\n",
        "for true, predict in zip(reviewsDF['sentiment'],reviewsDF['weighted_predict']):\n",
        "  if true==predict:\n",
        "    magnitude_results.append(1)\n",
        "  else:\n",
        "    magnitude_results.append(0)\n",
        "print(f'length magnitude_results is {len(magnitude_results)}, first entry is {magnitude_results[0]}')\n",
        "\n",
        "print(f\"Accuracy of weighted sign-only classification (with fixed threshold): {sum(magnitude_results)/len(magnitude_results)}\")\n",
        "# It is a marginal improvement, we went from 0.679 to 0.696"
      ],
      "execution_count": 18,
      "outputs": [
        {
          "output_type": "stream",
          "name": "stdout",
          "text": [
            "length magnitude_results is 2000, first entry is 0\n",
            "Accuracy of weighted sign-only classification (with fixed threshold): 0.696\n"
          ]
        }
      ]
    },
    {
      "cell_type": "markdown",
      "metadata": {
        "id": "h9SHoGPfsAHV"
      },
      "source": [
        "#### (Q.1.4) Make a barplot of the two results (0.5pt)"
      ]
    },
    {
      "cell_type": "code",
      "metadata": {
        "id": "8LgBcYcXsEk3",
        "colab": {
          "base_uri": "https://localhost:8080/",
          "height": 404
        },
        "outputId": "3b7b431d-bf48-4ea1-bd3d-73292d574b49"
      },
      "source": [
        "fig,ax = plt.subplots(1,1,figsize=(8,6))\n",
        "y = [sum(token_results)/len(token_results), sum(magnitude_results)/len(magnitude_results)]\n",
        "x = 'Unweighted Weighted'.split()\n",
        "sns.barplot(x=x,y=y,ax=ax)\n",
        "ax.set_xlabel(\"Accuracy of Sentiment Predictions\")\n",
        "ax.set_ylabel(\"Proportion of Correct Predictions\")\n",
        "ax.set_title(\"Comparison of Unweighted versus Weighted Accuracies\", fontsize=14)\n",
        "ax.set_ylim(0,1)\n",
        "plt.show()"
      ],
      "execution_count": 19,
      "outputs": [
        {
          "output_type": "display_data",
          "data": {
            "image/png": "[encoded data removed]",
            "text/plain": [
              "<Figure size 576x432 with 1 Axes>"
            ]
          },
          "metadata": {
            "needs_background": "light"
          }
        }
      ]
    },
    {
      "cell_type": "markdown",
      "metadata": {
        "id": "sNhS8OCVxMHd"
      },
      "source": [
        "#### (Q1.3) A better threshold (1pt)\n",
        "Above we have defined a threshold to account for an inherent bias in the dataset: there are more positive than negative words per review.\n",
        "However, that threshold does not take into account *document length*. Explain why this is a problem and implement an alternative way to compute the threshold."
      ]
    },
    {
      "cell_type": "markdown",
      "metadata": {
        "id": "xo7gk1I-omLI"
      },
      "source": [
        "Document Length could affect the sentiment of the review in two ways:\n",
        "\n",
        "\n",
        "1.   Regression to the mean: it is likely that shorter reviews have fewer words from the sentiment lexicon and therefore fewer values to calculate the overall score. In general, when a value is calculated from a small number of values, it tends to digress more from the grand mean than when it is calculated from a large number of values. If this is the case in this dataset, we would see that the highest and the lowest scores on the polarity scales (both weighted and unweighted) would come from the shorter reviews\n",
        "2.   Answer tendencies: people who are positive might take more time to write their reviews (they are enthusiastic, want to help readers make the right choice, want to help the movie makers get more traffic), whereas dissatisfied people might feel that a simple explanation of why they're negative suffices.\n",
        "\n"
      ]
    },
    {
      "cell_type": "code",
      "metadata": {
        "colab": {
          "base_uri": "https://localhost:8080/",
          "height": 297
        },
        "id": "LQ-odhTyQ0Wl",
        "outputId": "15fd58a9-cff1-4f86-b87c-1299b6b459a1"
      },
      "source": [
        "reviewsDF['nr_tokens'] = [len(x) for x in reviewsDF['text'].str.split()]\n",
        "reviewsDF['length_bin'] = pd.qcut(np.array(reviewsDF['nr_tokens']),5, labels='very_short short medium long very_long'.split())\n",
        "sns.histplot(reviewsDF['nr_tokens']) # not too skewed, considering it's made of counts; still, we might consider ln-transform if we need it to be Gaussian"
      ],
      "execution_count": 20,
      "outputs": [
        {
          "output_type": "execute_result",
          "data": {
            "text/plain": [
              "<matplotlib.axes._subplots.AxesSubplot at 0x7fc8b52a5c50>"
            ]
          },
          "metadata": {},
          "execution_count": 20
        },
        {
          "output_type": "display_data",
          "data": {
            "image/png": "[encoded data removed]",
            "text/plain": [
              "<Figure size 432x288 with 1 Axes>"
            ]
          },
          "metadata": {
            "needs_background": "light"
          }
        }
      ]
    },
    {
      "cell_type": "code",
      "metadata": {
        "id": "1D0VMm6QCCT5",
        "colab": {
          "base_uri": "https://localhost:8080/"
        },
        "outputId": "4384318f-7b0f-482c-c660-999e17d3ac48"
      },
      "source": [
        "corr_length_sent = np.corrcoef(reviewsDF['nr_tokens'], reviewsDF['weighted_polarity'])[0][1]\n",
        "corr_length_sent"
      ],
      "execution_count": 21,
      "outputs": [
        {
          "output_type": "execute_result",
          "data": {
            "text/plain": [
              "0.24971950935019657"
            ]
          },
          "metadata": {},
          "execution_count": 21
        }
      ]
    },
    {
      "cell_type": "code",
      "metadata": {
        "id": "Ye79189-H81U",
        "colab": {
          "base_uri": "https://localhost:8080/",
          "height": 624
        },
        "outputId": "fd0f1aed-9fad-4124-8db2-7b434c4b237b"
      },
      "source": [
        "weight_per_group = reviewsDF[['length_bin','weighted_polarity']].groupby('length_bin')\n",
        "print(weight_per_group.describe()) # we see an increase in both mean and std, because the lowest minimum is found in the highest group.\n",
        "# The 'regression to the mean' explanation seems invalid; the shorter the text, the less it deviates from its (in general negative) sentiment\n",
        "# Rather, it seems that - although the longer texts tend to be the most positive - the really annoyed reviewers tend to write long stories too\n",
        "\n",
        "plt.figure(figsize=(8,7))\n",
        "sns.scatterplot(x=reviewsDF['nr_tokens'], y=reviewsDF['weighted_polarity'])\n",
        "plt.show()"
      ],
      "execution_count": 22,
      "outputs": [
        {
          "output_type": "stream",
          "name": "stdout",
          "text": [
            "           weighted_polarity                       ...                  \n",
            "                       count      mean        std  ...  50%   75%    max\n",
            "length_bin                                         ...                  \n",
            "very_short             403.0 -7.142680  15.224730  ... -7.5   2.0   42.5\n",
            "short                  400.0 -3.882500  18.094744  ... -4.0   8.5   51.5\n",
            "medium                 397.0 -2.031486  21.431053  ... -3.5  12.5   65.5\n",
            "long                   400.0  0.015000  24.323319  ... -1.5  14.5   87.5\n",
            "very_long              400.0  9.677500  34.541116  ...  8.5  33.5  138.5\n",
            "\n",
            "[5 rows x 8 columns]\n"
          ]
        },
        {
          "output_type": "display_data",
          "data": {
            "image/png": "[encoded data removed]",
            "text/plain": [
              "<Figure size 576x504 with 1 Axes>"
            ]
          },
          "metadata": {
            "needs_background": "light"
          }
        }
      ]
    },
    {
      "cell_type": "code",
      "metadata": {
        "colab": {
          "base_uri": "https://localhost:8080/"
        },
        "id": "I6cXj83jLYna",
        "outputId": "2ad27c4d-671a-4539-ed72-3cc48e2ca181"
      },
      "source": [
        "\"\"\"\n",
        "Given that there seems to be a somewhat linear relationship between positivity and review length, \n",
        "we decided to create a simple Linear Regression between these two to use as threshold.\n",
        "This way, the threshold for each review's polarity will be based on its review length, \n",
        "as measured by the number of tokens in its review.\n",
        "\"\"\"\n",
        "\n",
        "Beta_1 = corr_length_sent*(np.std(reviewsDF['weighted_polarity'])/np.std(reviewsDF['nr_tokens']))\n",
        "Beta_0 = reviewsDF['weighted_polarity'].mean()- reviewsDF['nr_tokens'].mean()*Beta_1\n",
        "print(f\"Linear Regression line: Threshold = {round(Beta_0,2)} + {round(Beta_1,3)} * nr_tokens\")"
      ],
      "execution_count": 23,
      "outputs": [
        {
          "output_type": "stream",
          "name": "stdout",
          "text": [
            "Linear Regression line: Threshold = -14.51 + 0.018 * nr_tokens\n"
          ]
        }
      ]
    },
    {
      "cell_type": "code",
      "metadata": {
        "id": "IqlYfu0vV0In"
      },
      "source": [
        "def create_varthreshold_polarity(nr_tokens,text, Beta_0=Beta_0):\n",
        "  # insert assert dtypes\n",
        "  threshold = Beta_0+Beta_1*nr_tokens\n",
        "  polarity=threshold\n",
        "  for token in text.split():\n",
        "    t = token.lower()\n",
        "    if t in sent_lex:\n",
        "      if sent_lex[t]=='positive':\n",
        "        polarity+=1*weight_lex[t]\n",
        "      elif sent_lex[t]=='negative':\n",
        "        polarity-=1*weight_lex[t]\n",
        "  return polarity"
      ],
      "execution_count": 24,
      "outputs": []
    },
    {
      "cell_type": "code",
      "metadata": {
        "colab": {
          "base_uri": "https://localhost:8080/",
          "height": 297
        },
        "id": "O3LC5Xf4WNSl",
        "outputId": "0e0a6efb-acc7-4ef3-d7d4-939d435c9bda"
      },
      "source": [
        "reviewsDF['varthres_polarity'] = reviewsDF.apply(lambda row: create_varthreshold_polarity(row.nr_tokens,row.text), axis=1)\n",
        "reviewsDF['varthres_predict'] = ['POS' if x>=0 else 'NEG' for x in reviewsDF['varthres_polarity']]\n",
        "print(f\"Mean of weighted polarity (with length-based threshold): {round(reviewsDF['varthres_polarity'].mean(),2)}\")\n",
        "sns.histplot(reviewsDF['varthres_polarity'])\n",
        "plt.show()\n",
        "\n",
        "# Oumph, the mean is now much higher - do we need to correct this?"
      ],
      "execution_count": 25,
      "outputs": [
        {
          "output_type": "stream",
          "name": "stdout",
          "text": [
            "Mean of weighted polarity (with length-based threshold): 10.14\n"
          ]
        },
        {
          "output_type": "display_data",
          "data": {
            "image/png": "[encoded data removed]",
            "text/plain": [
              "<Figure size 432x288 with 1 Axes>"
            ]
          },
          "metadata": {
            "needs_background": "light"
          }
        }
      ]
    },
    {
      "cell_type": "code",
      "metadata": {
        "colab": {
          "base_uri": "https://localhost:8080/"
        },
        "id": "AODrPWYYbLr6",
        "outputId": "c11cbe84-c797-4746-d779-29666c4da392"
      },
      "source": [
        "# compare y_true with y_predict to calculate prediction accuracy\n",
        "# we create a list of binary indicators, called threshold_results, where 1 indicates a correct classification and 0 an incorrect one\n",
        "threshold_results = []\n",
        "for true, predict in zip(reviewsDF['sentiment'],reviewsDF['varthres_predict']):\n",
        "  if true==predict:\n",
        "    threshold_results.append(1)\n",
        "  else:\n",
        "    threshold_results.append(0)\n",
        "print(f'length threshold_results is {len(threshold_results)}, first entry is {threshold_results[0]}')\n",
        "\n",
        "print(f\"Accuracy of weighted sign-only classification (with fixed threshold): {sum(threshold_results)/len(threshold_results)}\")\n",
        "# It is worse now, possibly because the mean is too high"
      ],
      "execution_count": 26,
      "outputs": [
        {
          "output_type": "stream",
          "name": "stdout",
          "text": [
            "length threshold_results is 2000, first entry is 0\n",
            "Accuracy of weighted sign-only classification (with fixed threshold): 0.654\n"
          ]
        }
      ]
    },
    {
      "cell_type": "code",
      "metadata": {
        "colab": {
          "base_uri": "https://localhost:8080/",
          "height": 297
        },
        "id": "j9S2_An98zUk",
        "outputId": "f6c49480-992b-41e4-bcfe-ef6a1bf56030"
      },
      "source": [
        "# Make another one with a lower Beta_0, just to get the mean back to 0:\n",
        "reviewsDF['varthres_polarity'] = reviewsDF.apply(lambda row: create_varthreshold_polarity(row.nr_tokens,row.text,Beta_0-10.14), axis=1)\n",
        "reviewsDF['varthres_predict'] = ['POS' if x>=0 else 'NEG' for x in reviewsDF['varthres_polarity']]\n",
        "print(f\"Mean of weighted polarity (with length-based threshold): {round(reviewsDF['varthres_polarity'].mean(),2)}\")\n",
        "sns.histplot(reviewsDF['varthres_polarity'])\n",
        "plt.show()\n",
        "\n",
        "# Now the mean is 0"
      ],
      "execution_count": 27,
      "outputs": [
        {
          "output_type": "stream",
          "name": "stdout",
          "text": [
            "Mean of weighted polarity (with length-based threshold): -0.0\n"
          ]
        },
        {
          "output_type": "display_data",
          "data": {
            "image/png": "[encoded data removed]",
            "text/plain": [
              "<Figure size 432x288 with 1 Axes>"
            ]
          },
          "metadata": {
            "needs_background": "light"
          }
        }
      ]
    },
    {
      "cell_type": "code",
      "metadata": {
        "id": "LlD5I8IVWpms",
        "colab": {
          "base_uri": "https://localhost:8080/"
        },
        "outputId": "062f422f-2305-4b49-9f21-5684464ef6c4"
      },
      "source": [
        "# compare y_true with y_predict to calculate prediction accuracy\n",
        "# we create a list of binary indicators, called threshold_results, where 1 indicates a correct classification and 0 an incorrect one\n",
        "threshold_results = []\n",
        "for true, predict in zip(reviewsDF['sentiment'],reviewsDF['varthres_predict']):\n",
        "  if true==predict:\n",
        "    threshold_results.append(1)\n",
        "  else:\n",
        "    threshold_results.append(0)\n",
        "print(f'length threshold_results is {len(threshold_results)}, first entry is {threshold_results[0]}')\n",
        "\n",
        "print(f\"Accuracy of weighted sign-only classification (with fixed threshold): {sum(threshold_results)/len(threshold_results)}\")\n",
        "# Better than the regular Beta_0 but not an improvement over the previous two"
      ],
      "execution_count": 28,
      "outputs": [
        {
          "output_type": "stream",
          "name": "stdout",
          "text": [
            "length threshold_results is 2000, first entry is 0\n",
            "Accuracy of weighted sign-only classification (with fixed threshold): 0.6805\n"
          ]
        }
      ]
    },
    {
      "cell_type": "code",
      "metadata": {
        "id": "9VQ67xUnVE39"
      },
      "source": [
        "# Alternative approach: calculate the average threshold per token:\n",
        "thresh_per_word = 11.5/ reviewsDF['nr_tokens'].mean()\n",
        "\n",
        "def create_varthreshold_polarity2(nr_tokens,text):\n",
        "  threshold = - thresh_per_word*nr_tokens\n",
        "  polarity=threshold\n",
        "  for token in text.split():\n",
        "    t = token.lower()\n",
        "    if t in sent_lex:\n",
        "      if sent_lex[t]=='positive':\n",
        "        polarity+=1*weight_lex[t]\n",
        "      elif sent_lex[t]=='negative':\n",
        "        polarity-=1*weight_lex[t]\n",
        "  return polarity"
      ],
      "execution_count": 29,
      "outputs": []
    },
    {
      "cell_type": "code",
      "metadata": {
        "colab": {
          "base_uri": "https://localhost:8080/",
          "height": 297
        },
        "id": "PwmqamI5WUE-",
        "outputId": "48abcb91-dc92-4a39-f869-047ff0ec3ac7"
      },
      "source": [
        "reviewsDF['varthres_polarity'] = reviewsDF.apply(lambda row: create_varthreshold_polarity2(row.nr_tokens,row.text), axis=1)\n",
        "reviewsDF['varthres_predict'] = ['POS' if x>=0 else 'NEG' for x in reviewsDF['varthres_polarity']]\n",
        "print(f\"Mean of weighted polarity (with length-based threshold): {round(reviewsDF['varthres_polarity'].mean(),2)}\")\n",
        "sns.histplot(reviewsDF['varthres_polarity'])\n",
        "plt.show()"
      ],
      "execution_count": 30,
      "outputs": [
        {
          "output_type": "stream",
          "name": "stdout",
          "text": [
            "Mean of weighted polarity (with length-based threshold): -0.68\n"
          ]
        },
        {
          "output_type": "display_data",
          "data": {
            "image/png": "[encoded data removed]",
            "text/plain": [
              "<Figure size 432x288 with 1 Axes>"
            ]
          },
          "metadata": {
            "needs_background": "light"
          }
        }
      ]
    },
    {
      "cell_type": "code",
      "metadata": {
        "colab": {
          "base_uri": "https://localhost:8080/"
        },
        "id": "xHcOH8T1WdHr",
        "outputId": "c0f3b1fd-f2f9-4ce3-c342-bc1469d29a7c"
      },
      "source": [
        "# compare y_true with y_predict to calculate prediction accuracy\n",
        "# we create a list of binary indicators, called threshold_results, where 1 indicates a correct classification and 0 an incorrect one\n",
        "threshold_results = []\n",
        "for true, predict in zip(reviewsDF['sentiment'],reviewsDF['varthres_predict']):\n",
        "  if true==predict:\n",
        "    threshold_results.append(1)\n",
        "  else:\n",
        "    threshold_results.append(0)\n",
        "print(f'length threshold_results is {len(threshold_results)}, first entry is {threshold_results[0]}')\n",
        "print(f\"Accuracy of weighted sign-only classification (with fixed threshold): {sum(threshold_results)/len(threshold_results)}\")\n",
        "# Slight improvement"
      ],
      "execution_count": 31,
      "outputs": [
        {
          "output_type": "stream",
          "name": "stdout",
          "text": [
            "length threshold_results is 2000, first entry is 0\n",
            "Accuracy of weighted sign-only classification (with fixed threshold): 0.6945\n"
          ]
        }
      ]
    },
    {
      "cell_type": "markdown",
      "metadata": {
        "id": "LibV4nR89BXb"
      },
      "source": [
        "# Naive Bayes (9.5pts)"
      ]
    },
    {
      "cell_type": "markdown",
      "metadata": {
        "id": "fnF9adQnuwia"
      },
      "source": [
        "\n",
        "Your second task is to program a simple Machine Learning approach that operates\n",
        "on a simple Bag-of-Words (BoW) representation of the text data, as\n",
        "described by Pang et al. (2002). In this approach, the only features we\n",
        "will consider are the words in the text themselves, without bringing in\n",
        "external sources of information. The BoW model is a popular way of\n",
        "representing texts as vectors, making it\n",
        "easy to apply classical Machine Learning algorithms on NLP tasks.\n",
        "However, the BoW representation is also very crude, since it discards\n",
        "all information related to word order and grammatical structure in the\n",
        "original text—as the name suggests.\n",
        "\n",
        "## Writing your own classifier (4pts)\n",
        "\n",
        "Write your own code to implement the Naive Bayes (NB) classifier. As\n",
        "a reminder, the Naive Bayes classifier works according to the following\n",
        "equation:\n",
        "$$\\hat{c} = \\operatorname*{arg\\,max}_{c \\in C} P(c|\\bar{f}) = \\operatorname*{arg\\,max}_{c \\in C} P(c)\\prod^n_{i=1} P(f_i|c)$$\n",
        "where $C = \\{ \\text{POS}, \\text{NEG} \\}$ is the set of possible classes,\n",
        "$\\hat{c} \\in C$ is the most probable class, and $\\bar{f}$ is the feature\n",
        "vector. Remember that we use the log of these probabilities when making\n",
        "a prediction:\n",
        "$$\\hat{c} = \\operatorname*{arg\\,max}_{c \\in C} \\Big\\{\\log P(c) + \\sum^n_{i=1} \\log P(f_i|c)\\Big\\}$$\n",
        "\n",
        "You can find more details about Naive Bayes in [Jurafsky &\n",
        "Martin](https://web.stanford.edu/~jurafsky/slp3/). You can also look at\n",
        "this helpful\n",
        "[pseudo-code](https://nlp.stanford.edu/IR-book/html/htmledition/naive-bayes-text-classification-1.html).\n",
        "\n",
        "*Note: this section and the next aim to put you in a position to replicate\n",
        "    Pang et al.'s Naive Bayes results. However, your numerical results\n",
        "    will differ from theirs, as they used different data.*\n",
        "\n",
        "**You must write the Naive Bayes training and prediction code from\n",
        "scratch.** You will not be given credit for using off-the-shelf Machine\n",
        "Learning libraries.\n",
        "\n",
        "The data contains the text of the reviews, where each document consists\n",
        "of the sentences in the review, the sentiment of the review and an index\n",
        "(cv) that you will later use for cross-validation. The\n",
        "text has already been tokenised and POS-tagged for you. Your algorithm\n",
        "should read in the text, **lowercase it**, store the words and their\n",
        "frequencies in an appropriate data structure that allows for easy\n",
        "computation of the probabilities used in the Naive Bayes algorithm, and\n",
        "then make predictions for new instances.\n"
      ]
    },
    {
      "cell_type": "markdown",
      "metadata": {
        "id": "vEpyQSBSkb33"
      },
      "source": [
        "#### (Q2.1) Unseen words (1pt)\n",
        "The presence of words in the test dataset that\n",
        "have not been seen during training can cause probabilities in the Naive Bayes classifier to equal $0$.\n",
        "These can be words which are unseen in both positive and negative training reviews (case 1), but also words which are seen in reviews _of only one sentiment class_ in the training dataset (case 2). In both cases, **you should skip these words for both classes**.  What would be the problem instead with skipping words only for one class in case 2? "
      ]
    },
    {
      "cell_type": "markdown",
      "metadata": {
        "id": "BanFiYYnoxDW"
      },
      "source": [
        "*Write your answer here.*"
      ]
    },
    {
      "cell_type": "markdown",
      "metadata": {
        "id": "gsZRhaI3WvzC"
      },
      "source": [
        "#### (Q2.2) Train your classifier on (positive and negative) reviews with cv-value 000-899, and test it on the remaining (positive and negative) reviews cv900–cv999.  Report results using classification accuracy as your evaluation metric. Your  features are the word vocabulary. The value of a feature is the count of that feature (word) in the document. (2pts)\n"
      ]
    },
    {
      "cell_type": "code",
      "metadata": {
        "id": "G7zaJYGFvIJ3",
        "colab": {
          "base_uri": "https://localhost:8080/"
        },
        "outputId": "b4ddb3a4-3e0a-46fd-ed36-2ba88db92e81"
      },
      "source": [
        "# YOUR CODE HERE\n",
        "train = reviewsDF[reviewsDF['cv']<=899][['cv', 'sentiment', 'text', 'nr_tokens', 'length_bin']]\n",
        "test = reviewsDF[(reviewsDF['cv']>=900)&(reviewsDF['cv']<=999)][['cv', 'sentiment', 'text', 'nr_tokens', 'length_bin']]\n",
        "print(f\"length training set: {len(train)}, with {len(train[train['sentiment']=='POS'])} Positive reviews\")\n",
        "print(f\"length test set: {len(test)}, with {len(test[test['sentiment']=='POS'])} Positive reviews\")\n",
        "# Both are balanced"
      ],
      "execution_count": 32,
      "outputs": [
        {
          "output_type": "stream",
          "name": "stdout",
          "text": [
            "length training set: 1800, with 900 Positive reviews\n",
            "length test set: 200, with 100 Positive reviews\n"
          ]
        }
      ]
    },
    {
      "cell_type": "code",
      "metadata": {
        "id": "B9u6-YezUc59"
      },
      "source": [
        "# manual version of the above:\n",
        "\"\"\"\n",
        "We start with creating a full vocab of all tokens in the training set, with frequency set at 1,\n",
        "in order to:\n",
        "- prevent 0 counts in a class (which will always lead to 0 probabilites for this class, no matter the evidence)\n",
        "- enable comparisons over classes, giving them the same vocab size\n",
        "\n",
        "Next, we create two frequency dictionaries, one for words in the positive reviews, one for the negative ones.\n",
        "\n",
        "Finally, we create two probability dictionaries, that have these counts normalized and transformed to log likelihoods\n",
        "\"\"\"\n",
        "# step 1: instantiate two count dictionaries with all word counts set to 1\n",
        "alltext = {t.lower() for t in ' '.join(train['text']).split()}\n",
        "lookup_POS = {t:1 for t in alltext}\n",
        "lookup_NEG = {t:1 for t in alltext}\n",
        "\n",
        "# step 2: fill the two dictionaries with the actual word counts from the texts in their class:\n",
        "postexts = ''.join(train[train['sentiment']=='POS']['text']).split()\n",
        "for t in postexts:\n",
        "  token=t.lower()\n",
        "  lookup_POS[token] += 1\n",
        "negtexts = ''.join(train[train['sentiment']=='NEG']['text']).split()\n",
        "for t in negtexts:\n",
        "  token=t.lower()\n",
        "  lookup_NEG[token] += 1\n",
        "\n",
        "# step 3: create two new dictionaries with the normalized log-likelihoods of these counts per class:\n",
        "lookup_POSprob = dict()\n",
        "lookup_NEGprob = dict()\n",
        "for word in lookup_POS:\n",
        "  lookup_POSprob[word] = np.log( lookup_POS[word] / (len(postexts)+len(alltext)) )\n",
        "for word in lookup_NEG:\n",
        "  lookup_NEGprob[word] = np.log( lookup_NEG[word] / (len(negtexts)+len(alltext)) )  \n",
        "\n",
        "prior_POS = len(train[train['sentiment']=='POS']) / len(train)\n",
        "prior_NEG = len(train[train['sentiment']=='NEG']) / len(train)"
      ],
      "execution_count": 33,
      "outputs": []
    },
    {
      "cell_type": "code",
      "metadata": {
        "id": "K0H7mDFOLm2M"
      },
      "source": [
        "# create a function to calculate log-likelihoods. We use the natural logarithm for this:\n",
        "def calculate_class_prob(text, lookup_POSprob=lookup_POSprob, lookup_NEGprob=lookup_NEGprob):\n",
        "  \"\"\"\n",
        "  This function takes as input: \n",
        "  - raw text in string format\n",
        "  - two lookup dictionaries (one for each class) with normalized log probabilites for each word\n",
        "\n",
        "  The function calculates the total log likelihood of a text belonging to one of these two classes,\n",
        "  based on Naive Bayes. It returns a POS or NEG class prediction.\n",
        "  \"\"\"\n",
        "  prob_pos = 0\n",
        "  prob_neg = 0\n",
        "  for token in text.split():\n",
        "    t=token.lower()\n",
        "    if t in alltext:\n",
        "      prob_pos += lookup_POSprob[t]\n",
        "      prob_neg += lookup_NEGprob[t]\n",
        "  if prob_pos*prior_POS > prob_neg*prior_NEG:\n",
        "    return 'POS'\n",
        "  else:\n",
        "    return 'NEG'\n",
        "  # return prob_pos*prior_POS,prob_neg*prior_NEG"
      ],
      "execution_count": 34,
      "outputs": []
    },
    {
      "cell_type": "code",
      "metadata": {
        "colab": {
          "base_uri": "https://localhost:8080/",
          "height": 171
        },
        "id": "qJ0zAjTuPI9b",
        "outputId": "f4393aaa-d649-4571-8a46-fb84f6f36f1c"
      },
      "source": [
        "test['predict_NB'] = test['text'].apply(calculate_class_prob)\n",
        "test.groupby('predict_NB').describe()"
      ],
      "execution_count": 35,
      "outputs": [
        {
          "output_type": "execute_result",
          "data": {
            "text/html": [
              "<div>\n",
              "<style scoped>\n",
              "    .dataframe tbody tr th:only-of-type {\n",
              "        vertical-align: middle;\n",
              "    }\n",
              "\n",
              "    .dataframe tbody tr th {\n",
              "        vertical-align: top;\n",
              "    }\n",
              "\n",
              "    .dataframe thead tr th {\n",
              "        text-align: left;\n",
              "    }\n",
              "\n",
              "    .dataframe thead tr:last-of-type th {\n",
              "        text-align: right;\n",
              "    }\n",
              "</style>\n",
              "<table border=\"1\" class=\"dataframe\">\n",
              "  <thead>\n",
              "    <tr>\n",
              "      <th></th>\n",
              "      <th colspan=\"8\" halign=\"left\">cv</th>\n",
              "      <th colspan=\"8\" halign=\"left\">nr_tokens</th>\n",
              "    </tr>\n",
              "    <tr>\n",
              "      <th></th>\n",
              "      <th>count</th>\n",
              "      <th>mean</th>\n",
              "      <th>std</th>\n",
              "      <th>min</th>\n",
              "      <th>25%</th>\n",
              "      <th>50%</th>\n",
              "      <th>75%</th>\n",
              "      <th>max</th>\n",
              "      <th>count</th>\n",
              "      <th>mean</th>\n",
              "      <th>std</th>\n",
              "      <th>min</th>\n",
              "      <th>25%</th>\n",
              "      <th>50%</th>\n",
              "      <th>75%</th>\n",
              "      <th>max</th>\n",
              "    </tr>\n",
              "    <tr>\n",
              "      <th>predict_NB</th>\n",
              "      <th></th>\n",
              "      <th></th>\n",
              "      <th></th>\n",
              "      <th></th>\n",
              "      <th></th>\n",
              "      <th></th>\n",
              "      <th></th>\n",
              "      <th></th>\n",
              "      <th></th>\n",
              "      <th></th>\n",
              "      <th></th>\n",
              "      <th></th>\n",
              "      <th></th>\n",
              "      <th></th>\n",
              "      <th></th>\n",
              "      <th></th>\n",
              "    </tr>\n",
              "  </thead>\n",
              "  <tbody>\n",
              "    <tr>\n",
              "      <th>NEG</th>\n",
              "      <td>107.0</td>\n",
              "      <td>950.018692</td>\n",
              "      <td>29.188387</td>\n",
              "      <td>900.0</td>\n",
              "      <td>923.5</td>\n",
              "      <td>949.0</td>\n",
              "      <td>976.5</td>\n",
              "      <td>999.0</td>\n",
              "      <td>107.0</td>\n",
              "      <td>734.663551</td>\n",
              "      <td>321.592058</td>\n",
              "      <td>188.0</td>\n",
              "      <td>555.0</td>\n",
              "      <td>673.0</td>\n",
              "      <td>883.5</td>\n",
              "      <td>1797.0</td>\n",
              "    </tr>\n",
              "    <tr>\n",
              "      <th>POS</th>\n",
              "      <td>93.0</td>\n",
              "      <td>948.903226</td>\n",
              "      <td>28.794649</td>\n",
              "      <td>900.0</td>\n",
              "      <td>926.0</td>\n",
              "      <td>951.0</td>\n",
              "      <td>973.0</td>\n",
              "      <td>999.0</td>\n",
              "      <td>93.0</td>\n",
              "      <td>805.677419</td>\n",
              "      <td>358.350908</td>\n",
              "      <td>251.0</td>\n",
              "      <td>568.0</td>\n",
              "      <td>758.0</td>\n",
              "      <td>983.0</td>\n",
              "      <td>2030.0</td>\n",
              "    </tr>\n",
              "  </tbody>\n",
              "</table>\n",
              "</div>"
            ],
            "text/plain": [
              "               cv                                ... nr_tokens                      \n",
              "            count        mean        std    min  ...       25%    50%    75%     max\n",
              "predict_NB                                       ...                                \n",
              "NEG         107.0  950.018692  29.188387  900.0  ...     555.0  673.0  883.5  1797.0\n",
              "POS          93.0  948.903226  28.794649  900.0  ...     568.0  758.0  983.0  2030.0\n",
              "\n",
              "[2 rows x 16 columns]"
            ]
          },
          "metadata": {},
          "execution_count": 35
        }
      ]
    },
    {
      "cell_type": "code",
      "metadata": {
        "colab": {
          "base_uri": "https://localhost:8080/"
        },
        "id": "c2Voc-5UAcWw",
        "outputId": "1c55d75d-271f-4d17-aef1-ec5c9ac3d8f8"
      },
      "source": [
        "# Measure accuracy\n",
        "test_results = []\n",
        "for true, predict in zip(test['sentiment'],test['predict_NB']):\n",
        "  if true==predict:\n",
        "    test_results.append(1)\n",
        "  else:\n",
        "    test_results.append(0)\n",
        "print(f'length test_results is {len(test_results)}, first entry is {test_results[0]}')\n",
        "\n",
        "print(f\"Accuracy of Naive Bayes classification: {sum(test_results)/len(test_results)}\")\n",
        "# Quite the improvement"
      ],
      "execution_count": 36,
      "outputs": [
        {
          "output_type": "stream",
          "name": "stdout",
          "text": [
            "length test_results is 200, first entry is 1\n",
            "Accuracy of Naive Bayes classification (without Smoothing): 0.825\n"
          ]
        }
      ]
    },
    {
      "cell_type": "markdown",
      "metadata": {
        "id": "0INK-PBoM6CB"
      },
      "source": [
        "#### (Q2.3) Would you consider accuracy to also be a good way to evaluate your classifier in a situation where 90% of your data instances are of positive movie reviews? (1pt)\n",
        "\n",
        "Simulate this scenario by keeping the positive reviews\n",
        "data unchanged, but only using negative reviews cv000–cv089 for\n",
        "training, and cv900–cv909 for testing. Calculate the classification\n",
        "accuracy, and explain what changed."
      ]
    },
    {
      "cell_type": "markdown",
      "metadata": {
        "id": "oFbcsYlipBAw"
      },
      "source": [
        "*Write your answer here.*\n",
        "We see below that the classifier learns to classify everything as positive, because that already gives an accuracy of 90% (because 90% of the data in both the training and test set is now positive). "
      ]
    },
    {
      "cell_type": "code",
      "metadata": {
        "id": "GWDkt5ZrrFGp",
        "colab": {
          "base_uri": "https://localhost:8080/"
        },
        "outputId": "2c89d4a1-ca49-4ea8-951e-7b085de2064e"
      },
      "source": [
        "# YOUR CODE HERE\n",
        "train2 = train[ ((train.sentiment=='NEG') & (train['cv']<=89)) | (train.sentiment=='POS') ].copy()\n",
        "print(f\"length of train2: {len(train2)}, with {len(train2[train2.sentiment=='POS'])} positive and {len(train2[train2.sentiment=='NEG'])} negative reviews\")\n",
        "test2 = test[ ((test.sentiment=='NEG') & (test.cv<=909)) | (test.sentiment=='POS') ].copy()\n",
        "print(f\"length of test2: {len(test2)}, with {len(test2[test2.sentiment=='POS'])} positive and {len(test2[test2.sentiment=='NEG'])} negative reviews\")"
      ],
      "execution_count": 66,
      "outputs": [
        {
          "output_type": "stream",
          "name": "stdout",
          "text": [
            "length of train2: 990, with 900 positive and 90 negative reviews\n",
            "length of test2: 110, with 100 positive and 10 negative reviews\n"
          ]
        }
      ]
    },
    {
      "cell_type": "code",
      "metadata": {
        "id": "ZEJyE9jvSAZU"
      },
      "source": [
        "# manual version of the above:\n",
        "\"\"\"\n",
        "We start with creating a full vocab of all tokens in the training set, with frequency set at 1,\n",
        "in order to:\n",
        "- prevent 0 counts in a class (which will always lead to 0 probabilites for this class, no matter the evidence)\n",
        "- enable comparisons over classes, giving them the same vocab size\n",
        "\n",
        "Next, we create two frequency dictionaries, one for words in the positive reviews, one for the negative ones.\n",
        "\n",
        "Finally, we create two probability dictionaries, that have these counts normalized and transformed to log likelihoods\n",
        "\"\"\"\n",
        "# step 1: instantiate two count dictionaries with all word counts set to 1\n",
        "alltext = {t.lower() for t in ' '.join(train2['text']).split()}\n",
        "lookup_POS = {t:1 for t in alltext}\n",
        "lookup_NEG = {t:1 for t in alltext}\n",
        "\n",
        "# step 2: fill the two dictionaries with the actual word counts from the texts in their class:\n",
        "postexts = ''.join(train2[train2['sentiment']=='POS']['text']).split()\n",
        "for t in postexts:\n",
        "  token=t.lower()\n",
        "  lookup_POS[token] += 1\n",
        "negtexts = ''.join(train2[train2['sentiment']=='NEG']['text']).split()\n",
        "for t in negtexts:\n",
        "  token=t.lower()\n",
        "  lookup_NEG[token] += 1\n",
        "\n",
        "# step 3: create two new dictionaries with the normalized log-likelihoods of these counts per class:\n",
        "lookup_POSprob = dict()\n",
        "lookup_NEGprob = dict()\n",
        "for word in lookup_POS:\n",
        "  lookup_POSprob[word] = np.log( lookup_POS[word] / (len(postexts)+len(alltext)) )\n",
        "for word in lookup_NEG:\n",
        "  lookup_NEGprob[word] = np.log( lookup_NEG[word] / (len(negtexts)+len(alltext)) )  "
      ],
      "execution_count": 67,
      "outputs": []
    },
    {
      "cell_type": "code",
      "metadata": {
        "colab": {
          "base_uri": "https://localhost:8080/",
          "height": 387
        },
        "id": "7qpFxO9lSNOX",
        "outputId": "1cc402e4-337c-489f-e847-5f739752a48d"
      },
      "source": [
        "test2['predict_NB'] = test2['text'].apply(calculate_class_prob)\n",
        "test2.groupby('predict_NB').describe()\n",
        "# As expected, it assumes everything is now positive, it no discerns negative from positive"
      ],
      "execution_count": 68,
      "outputs": [
        {
          "output_type": "error",
          "ename": "KeyError",
          "evalue": "ignored",
          "traceback": [
            "\u001b[0;31m---------------------------------------------------------------------------\u001b[0m",
            "\u001b[0;31mKeyError\u001b[0m                                  Traceback (most recent call last)",
            "\u001b[0;32m<ipython-input-68-a317bd190498>\u001b[0m in \u001b[0;36m<module>\u001b[0;34m()\u001b[0m\n\u001b[0;32m----> 1\u001b[0;31m \u001b[0mtest2\u001b[0m\u001b[0;34m[\u001b[0m\u001b[0;34m'predict_NB'\u001b[0m\u001b[0;34m]\u001b[0m \u001b[0;34m=\u001b[0m \u001b[0mtest2\u001b[0m\u001b[0;34m[\u001b[0m\u001b[0;34m'text'\u001b[0m\u001b[0;34m]\u001b[0m\u001b[0;34m.\u001b[0m\u001b[0mapply\u001b[0m\u001b[0;34m(\u001b[0m\u001b[0mcalculate_class_prob\u001b[0m\u001b[0;34m)\u001b[0m\u001b[0;34m\u001b[0m\u001b[0;34m\u001b[0m\u001b[0m\n\u001b[0m\u001b[1;32m      2\u001b[0m \u001b[0mtest2\u001b[0m\u001b[0;34m.\u001b[0m\u001b[0mgroupby\u001b[0m\u001b[0;34m(\u001b[0m\u001b[0;34m'predict_NB'\u001b[0m\u001b[0;34m)\u001b[0m\u001b[0;34m.\u001b[0m\u001b[0mdescribe\u001b[0m\u001b[0;34m(\u001b[0m\u001b[0;34m)\u001b[0m\u001b[0;34m\u001b[0m\u001b[0;34m\u001b[0m\u001b[0m\n\u001b[1;32m      3\u001b[0m \u001b[0;31m# As expected, it assumes everything is now positive, it no discerns negative from positive\u001b[0m\u001b[0;34m\u001b[0m\u001b[0;34m\u001b[0m\u001b[0;34m\u001b[0m\u001b[0m\n",
            "\u001b[0;32m/usr/local/lib/python3.7/dist-packages/pandas/core/series.py\u001b[0m in \u001b[0;36mapply\u001b[0;34m(self, func, convert_dtype, args, **kwds)\u001b[0m\n\u001b[1;32m   4211\u001b[0m             \u001b[0;32melse\u001b[0m\u001b[0;34m:\u001b[0m\u001b[0;34m\u001b[0m\u001b[0;34m\u001b[0m\u001b[0m\n\u001b[1;32m   4212\u001b[0m                 \u001b[0mvalues\u001b[0m \u001b[0;34m=\u001b[0m \u001b[0mself\u001b[0m\u001b[0;34m.\u001b[0m\u001b[0mastype\u001b[0m\u001b[0;34m(\u001b[0m\u001b[0mobject\u001b[0m\u001b[0;34m)\u001b[0m\u001b[0;34m.\u001b[0m\u001b[0m_values\u001b[0m\u001b[0;34m\u001b[0m\u001b[0;34m\u001b[0m\u001b[0m\n\u001b[0;32m-> 4213\u001b[0;31m                 \u001b[0mmapped\u001b[0m \u001b[0;34m=\u001b[0m \u001b[0mlib\u001b[0m\u001b[0;34m.\u001b[0m\u001b[0mmap_infer\u001b[0m\u001b[0;34m(\u001b[0m\u001b[0mvalues\u001b[0m\u001b[0;34m,\u001b[0m \u001b[0mf\u001b[0m\u001b[0;34m,\u001b[0m \u001b[0mconvert\u001b[0m\u001b[0;34m=\u001b[0m\u001b[0mconvert_dtype\u001b[0m\u001b[0;34m)\u001b[0m\u001b[0;34m\u001b[0m\u001b[0;34m\u001b[0m\u001b[0m\n\u001b[0m\u001b[1;32m   4214\u001b[0m \u001b[0;34m\u001b[0m\u001b[0m\n\u001b[1;32m   4215\u001b[0m         \u001b[0;32mif\u001b[0m \u001b[0mlen\u001b[0m\u001b[0;34m(\u001b[0m\u001b[0mmapped\u001b[0m\u001b[0;34m)\u001b[0m \u001b[0;32mand\u001b[0m \u001b[0misinstance\u001b[0m\u001b[0;34m(\u001b[0m\u001b[0mmapped\u001b[0m\u001b[0;34m[\u001b[0m\u001b[0;36m0\u001b[0m\u001b[0;34m]\u001b[0m\u001b[0;34m,\u001b[0m \u001b[0mSeries\u001b[0m\u001b[0;34m)\u001b[0m\u001b[0;34m:\u001b[0m\u001b[0;34m\u001b[0m\u001b[0;34m\u001b[0m\u001b[0m\n",
            "\u001b[0;32mpandas/_libs/lib.pyx\u001b[0m in \u001b[0;36mpandas._libs.lib.map_infer\u001b[0;34m()\u001b[0m\n",
            "\u001b[0;32m<ipython-input-64-a3e0bc619ab5>\u001b[0m in \u001b[0;36mcalculate_class_prob\u001b[0;34m(text, lookup_POSprob, lookup_NEGprob)\u001b[0m\n\u001b[1;32m     13\u001b[0m     \u001b[0mt\u001b[0m\u001b[0;34m=\u001b[0m\u001b[0mtoken\u001b[0m\u001b[0;34m.\u001b[0m\u001b[0mlower\u001b[0m\u001b[0;34m(\u001b[0m\u001b[0;34m)\u001b[0m\u001b[0;34m\u001b[0m\u001b[0;34m\u001b[0m\u001b[0m\n\u001b[1;32m     14\u001b[0m     \u001b[0;32mif\u001b[0m \u001b[0mt\u001b[0m \u001b[0;32min\u001b[0m \u001b[0malltext\u001b[0m\u001b[0;34m:\u001b[0m\u001b[0;34m\u001b[0m\u001b[0;34m\u001b[0m\u001b[0m\n\u001b[0;32m---> 15\u001b[0;31m       \u001b[0mprob_pos\u001b[0m \u001b[0;34m+=\u001b[0m \u001b[0mlookup_POSprob\u001b[0m\u001b[0;34m[\u001b[0m\u001b[0mt\u001b[0m\u001b[0;34m]\u001b[0m\u001b[0;34m\u001b[0m\u001b[0;34m\u001b[0m\u001b[0m\n\u001b[0m\u001b[1;32m     16\u001b[0m       \u001b[0mprob_neg\u001b[0m \u001b[0;34m+=\u001b[0m \u001b[0mlookup_NEGprob\u001b[0m\u001b[0;34m[\u001b[0m\u001b[0mt\u001b[0m\u001b[0;34m]\u001b[0m\u001b[0;34m\u001b[0m\u001b[0;34m\u001b[0m\u001b[0m\n\u001b[1;32m     17\u001b[0m   \u001b[0;32mif\u001b[0m \u001b[0mprob_pos\u001b[0m\u001b[0;34m*\u001b[0m\u001b[0mprior_POS\u001b[0m \u001b[0;34m>\u001b[0m \u001b[0mprob_neg\u001b[0m\u001b[0;34m*\u001b[0m\u001b[0mprior_NEG\u001b[0m\u001b[0;34m:\u001b[0m\u001b[0;34m\u001b[0m\u001b[0;34m\u001b[0m\u001b[0m\n",
            "\u001b[0;31mKeyError\u001b[0m: 'titan'"
          ]
        }
      ]
    },
    {
      "cell_type": "code",
      "metadata": {
        "colab": {
          "base_uri": "https://localhost:8080/"
        },
        "id": "a0mRmvSxSab2",
        "outputId": "0fd00c88-fdb0-469e-8223-6c1bad21f3df"
      },
      "source": [
        "# Measure accuracy\n",
        "test_results = []\n",
        "for true, predict in zip(test2['sentiment'],test2['predict_NB']):\n",
        "  if true==predict:\n",
        "    test_results.append(1)\n",
        "  else:\n",
        "    test_results.append(0)\n",
        "print(f'length test_results is {len(test_results)}, first entry is {test_results[0]}')\n",
        "\n",
        "print(f\"Accuracy of Naive Bayes classification (without Smoothing): {sum(test_results)/len(test_results)}\")"
      ],
      "execution_count": 40,
      "outputs": [
        {
          "output_type": "stream",
          "name": "stdout",
          "text": [
            "length test_results is 110, first entry is 1\n",
            "Accuracy of Naive Bayes classification (without Smoothing): 0.8181818181818182\n"
          ]
        }
      ]
    },
    {
      "cell_type": "markdown",
      "metadata": {
        "id": "6wJzcHX3WUDm"
      },
      "source": [
        "## Smoothing (1pt)\n",
        "\n",
        "As mentioned above, the presence of words in the test dataset that\n",
        "have not been seen during training can cause probabilities in the Naive\n",
        "Bayes classifier to be $0$, thus making that particular test instance\n",
        "undecidable. The standard way to mitigate this effect (as well as to\n",
        "give more clout to rare words) is to use smoothing, in which the\n",
        "probability fraction\n",
        "$$\\frac{\\text{count}(w_i, c)}{\\sum\\limits_{w\\in V} \\text{count}(w, c)}$$ for a word\n",
        "$w_i$ becomes\n",
        "$$\\frac{\\text{count}(w_i, c) + \\text{smoothing}(w_i)}{\\sum\\limits_{w\\in V} \\text{count}(w, c) + \\sum\\limits_{w \\in V} \\text{smoothing}(w)}$$\n",
        "\n",
        "\n",
        "\n"
      ]
    },
    {
      "cell_type": "markdown",
      "metadata": {
        "id": "PBNIcbwUWphC"
      },
      "source": [
        "#### (Q2.4) Implement Laplace feature smoothing (1pt)\n",
        "Implement Laplace smoothing, i.e., smoothing with a constant value ($smoothing(w) = \\kappa, \\forall w \\in V$), in your Naive\n",
        "Bayes classifier’s code, and report the impact on performance. \n",
        "Use $\\kappa = 1$."
      ]
    },
    {
      "cell_type": "code",
      "metadata": {
        "id": "g03yflCc9kpW"
      },
      "source": [
        "# YOUR CODE HERE\n",
        "\n",
        "# OVERLEG ELYNN, VOLGENS MIJ HEB IK HEM GELIJK AL SMOOTHED GEMAAKT TOCH? ALS ZIJ DE UNSMOOTHED HEEFT, KUNNEN WE GEWOON COMBINEREN"
      ],
      "execution_count": null,
      "outputs": []
    },
    {
      "cell_type": "markdown",
      "metadata": {
        "id": "ZiGcgwba87D5"
      },
      "source": [
        "## Cross-Validation (1.5pts)\n",
        "\n",
        "A serious danger in using Machine Learning on small datasets, with many\n",
        "iterations of slightly different versions of the algorithms, is ending up with Type III errors, also called the “testing hypotheses\n",
        "suggested by the data” errors. This type of error occurs when we make\n",
        "repeated improvements to our classifiers by playing with features and\n",
        "their processing, but we don’t get a fresh, never-before seen test\n",
        "dataset every time. Thus, we risk developing a classifier that gets better\n",
        "and better on our data, but only gets worse at generalizing to new, unseen data. In other words, we risk developping a classifier that overfits.\n",
        "\n",
        "A simple method to guard against Type III errors is to use\n",
        "Cross-Validation. In **N-fold Cross-Validation**, we divide the data into N\n",
        "distinct chunks, or folds. Then, we repeat the experiment N times: each\n",
        "time holding out one of the folds for testing, training our classifier\n",
        "on the remaining N - 1 data folds, and reporting performance on the\n",
        "held-out fold. We can use different strategies for dividing the data:\n",
        "\n",
        "-   Consecutive splitting:\n",
        "  - cv000–cv099 = Split 1\n",
        "  - cv100–cv199 = Split 2\n",
        "  - etc.\n",
        "  \n",
        "-   Round-robin splitting (mod 10):\n",
        "  - cv000, cv010, cv020, … = Split 1\n",
        "  - cv001, cv011, cv021, … = Split 2\n",
        "  - etc.\n",
        "\n",
        "-   Random sampling/splitting\n",
        "  - Not used here (but you may choose to split this way in a non-educational situation)\n",
        "\n"
      ]
    },
    {
      "cell_type": "markdown",
      "metadata": {
        "id": "8OeLcbSauGtR"
      },
      "source": [
        "#### (Q2.5) Write the code to implement 10-fold cross-validation using round-robin splitting for your Naive Bayes classifier from Q2.4 and compute the 10 accuracies. Report the final performance, which is the average of the performances per fold. If all splits perform equally well, this is a good sign. (1pt)"
      ]
    },
    {
      "cell_type": "code",
      "metadata": {
        "id": "We4VXQ2LwOdy"
      },
      "source": [
        "def calculate_class_prob(text, lookup_POSprob=lookup_POSprob, lookup_NEGprob=lookup_NEGprob):\n",
        "  \"\"\"\n",
        "  This function takes as input: \n",
        "  - raw text in string format\n",
        "  - two lookup dictionaries (one for each class) with normalized log probabilites for each word\n",
        "\n",
        "  The function calculates the total log likelihood of a text belonging to one of these two classes,\n",
        "  based on Naive Bayes. It returns a POS or NEG class prediction.\n",
        "  \"\"\"\n",
        "  prob_pos = 0\n",
        "  prob_neg = 0\n",
        "  for token in text.split():\n",
        "    t=token.lower()\n",
        "    if t in alltext:\n",
        "      prob_pos += lookup_POSprob[t]\n",
        "      prob_neg += lookup_NEGprob[t]\n",
        "  if prob_pos*prior_POS > prob_neg*prior_NEG:\n",
        "    return 'POS'\n",
        "  else:\n",
        "    return 'NEG'"
      ],
      "execution_count": 64,
      "outputs": []
    },
    {
      "cell_type": "code",
      "metadata": {
        "id": "3KeCGPa7Nuzx",
        "colab": {
          "base_uri": "https://localhost:8080/"
        },
        "outputId": "8007471c-0a36-4d2a-abf4-e45f34144798"
      },
      "source": [
        "# YOUR CODE HERE\n",
        "accuracy_results = []\n",
        "\n",
        "for i in range(10):\n",
        "  train_val = train[i::10].copy()\n",
        "  train_train = train[~train.isin(train_val)].dropna()\n",
        "\n",
        "  # step 1: instantiate two count dictionaries with all word counts set to 1\n",
        "  alltext = {t.lower() for t in ' '.join(train_train['text']).split()}\n",
        "  lookup_POS = {t:1 for t in alltext}\n",
        "  lookup_NEG = {t:1 for t in alltext}\n",
        "  # step 2: fill the two dictionaries with the actual word counts from the texts in their class:\n",
        "  postexts = ''.join(train_train[train_train['sentiment']=='POS']['text']).split()\n",
        "  for t in postexts:\n",
        "    token=t.lower()\n",
        "    lookup_POS[token] += 1\n",
        "  negtexts = ''.join(train_train[train_train['sentiment']=='NEG']['text']).split()\n",
        "  for t in negtexts:\n",
        "    token=t.lower()\n",
        "    lookup_NEG[token] += 1\n",
        "  # step 3: create two new dictionaries with the normalized log-likelihoods of these counts per class:\n",
        "  lookup_POSprob = dict()\n",
        "  lookup_NEGprob = dict()\n",
        "  for word in lookup_POS:\n",
        "    lookup_POSprob[word] = np.log( lookup_POS[word] / (len(postexts)+len(alltext)) )\n",
        "  for word in lookup_NEG:\n",
        "    lookup_NEGprob[word] = np.log( lookup_NEG[word] / (len(negtexts)+len(alltext)) )  \n",
        "  prior_POS = len(train_train[train_train['sentiment']=='POS']) / len(train_train)\n",
        "  prior_NEG = len(train_train[train_train['sentiment']=='NEG']) / len(train_train) \n",
        "  # get accuracy score for this fold:\n",
        "  train_val['predict_NB'] = train_val['text'].apply(calculate_class_prob)\n",
        "  validation_results = []\n",
        "  for true, predict in zip(train_val['sentiment'],train_val['predict_NB']):\n",
        "    if true==predict:\n",
        "      validation_results.append(1)\n",
        "    else:\n",
        "      validation_results.append(0)\n",
        "  accuracy=sum(validation_results)/len(validation_results)\n",
        "  accuracy_results.append(accuracy)\n",
        "  print(f\"Accuracy of Naive Bayes classification (fold {i}): {sum(validation_results)/len(validation_results)}\")"
      ],
      "execution_count": 73,
      "outputs": [
        {
          "output_type": "stream",
          "name": "stdout",
          "text": [
            "Accuracy of Naive Bayes classification (fold 0): 0.7722222222222223\n",
            "Accuracy of Naive Bayes classification (fold 1): 0.9888888888888889\n",
            "Accuracy of Naive Bayes classification (fold 2): 0.9666666666666667\n",
            "Accuracy of Naive Bayes classification (fold 3): 0.9611111111111111\n",
            "Accuracy of Naive Bayes classification (fold 4): 0.9611111111111111\n",
            "Accuracy of Naive Bayes classification (fold 5): 0.9611111111111111\n",
            "Accuracy of Naive Bayes classification (fold 6): 0.9666666666666667\n",
            "Accuracy of Naive Bayes classification (fold 7): 0.9555555555555556\n",
            "Accuracy of Naive Bayes classification (fold 8): 0.9722222222222222\n",
            "Accuracy of Naive Bayes classification (fold 9): 0.9666666666666667\n"
          ]
        }
      ]
    },
    {
      "cell_type": "markdown",
      "metadata": {
        "id": "otdlsDXBNyOa"
      },
      "source": [
        "#### (Q2.6) Report the variance of the 10 accuracy scores. (0.5pt)\n",
        "\n",
        "**Please report all future results using 10-fold cross-validation now\n",
        "(unless told to use the held-out test set).**"
      ]
    },
    {
      "cell_type": "code",
      "metadata": {
        "id": "ZoBQm1KuNzNR",
        "colab": {
          "base_uri": "https://localhost:8080/",
          "height": 221
        },
        "outputId": "b01d2766-5099-4a72-e36a-6a00de85dde1"
      },
      "source": [
        "# YOUR CODE HERE\n",
        "print(f\"mean of 10-fold NB with smoothing: {np.mean(accuracy_results):.3f}, variance: {np.var(accuracy_results):.4f}\")\n",
        "print(f\"number of tokens in the last held-out training set: {len(all_text)}\")"
      ],
      "execution_count": 93,
      "outputs": [
        {
          "output_type": "stream",
          "name": "stdout",
          "text": [
            "mean of 10-fold NB with smoothing: 0.935, variance: 0.0035311728395061746\n"
          ]
        },
        {
          "output_type": "error",
          "ename": "NameError",
          "evalue": "ignored",
          "traceback": [
            "\u001b[0;31m---------------------------------------------------------------------------\u001b[0m",
            "\u001b[0;31mNameError\u001b[0m                                 Traceback (most recent call last)",
            "\u001b[0;32m<ipython-input-93-0a396d2a6654>\u001b[0m in \u001b[0;36m<module>\u001b[0;34m()\u001b[0m\n\u001b[1;32m      1\u001b[0m \u001b[0;31m# YOUR CODE HERE\u001b[0m\u001b[0;34m\u001b[0m\u001b[0;34m\u001b[0m\u001b[0;34m\u001b[0m\u001b[0m\n\u001b[1;32m      2\u001b[0m \u001b[0mprint\u001b[0m\u001b[0;34m(\u001b[0m\u001b[0;34mf\"mean of 10-fold NB with smoothing: {np.mean(accuracy_results):.3f}, variance: {np.var(accuracy_results)}\"\u001b[0m\u001b[0;34m)\u001b[0m\u001b[0;34m\u001b[0m\u001b[0;34m\u001b[0m\u001b[0m\n\u001b[0;32m----> 3\u001b[0;31m \u001b[0mprint\u001b[0m\u001b[0;34m(\u001b[0m\u001b[0;34mf\"number of tokens in the last held-out training set: {len(all_text)}\"\u001b[0m\u001b[0;34m)\u001b[0m\u001b[0;34m\u001b[0m\u001b[0;34m\u001b[0m\u001b[0m\n\u001b[0m",
            "\u001b[0;31mNameError\u001b[0m: name 'all_text' is not defined"
          ]
        }
      ]
    },
    {
      "cell_type": "markdown",
      "metadata": {
        "id": "s6A2zX9_BRKm"
      },
      "source": [
        "## Features, overfitting, and the curse of dimensionality\n",
        "\n",
        "In the Bag-of-Words model, ideally we would like each distinct word in\n",
        "the text to be mapped to its own dimension in the output vector\n",
        "representation. However, real world text is messy, and we need to decide\n",
        "on what we consider to be a word. For example, is “`word`\" different\n",
        "from “`Word`\", from “`word`”, or from “`words`\"? Too strict a\n",
        "definition, and the number of features explodes, while our algorithm\n",
        "fails to learn anything generalisable. Too lax, and we risk destroying\n",
        "our learning signal. In the following section, you will learn about\n",
        "confronting the feature sparsity and the overfitting problems as they\n",
        "occur in NLP classification tasks."
      ]
    },
    {
      "cell_type": "markdown",
      "metadata": {
        "id": "EKK8FNt8VtcZ"
      },
      "source": [
        "### Stemming (1.5pts)\n",
        "\n",
        "To make your algorithm more robust, use stemming and hash different inflections of a word to the same feature in the BoW vector space. Please use the [Porter stemming\n",
        "    algorithm](http://www.nltk.org/howto/stem.html) from NLTK.\n",
        "\n"
      ]
    },
    {
      "cell_type": "code",
      "metadata": {
        "id": "NxtCul1IrBi_"
      },
      "source": [
        "# YOUR CODE HERE\n",
        "from nltk.stem.porter import *\n",
        "stemmer = PorterStemmer()"
      ],
      "execution_count": 80,
      "outputs": []
    },
    {
      "cell_type": "markdown",
      "metadata": {
        "id": "6SrJ1BeLXTnk"
      },
      "source": [
        "#### (Q2.7): How does the performance of your classifier change when you use stemming on your training and test datasets? (1pt)\n",
        "Use cross-validation to evaluate the classifier. \n"
      ]
    },
    {
      "cell_type": "code",
      "metadata": {
        "id": "JG9VzSeC4vUd"
      },
      "source": [
        "def calculate_class_prob(text, lookup_POSprob=lookup_POSprob, lookup_NEGprob=lookup_NEGprob):\n",
        "  \"\"\"\n",
        "  This function takes as input: \n",
        "  - raw text in string format\n",
        "  - two lookup dictionaries (one for each class) with normalized log probabilites for each word\n",
        "\n",
        "  The function calculates the total log likelihood of a text belonging to one of these two classes,\n",
        "  based on Naive Bayes. It returns a POS or NEG class prediction.\n",
        "  \"\"\"\n",
        "  prob_pos = 0\n",
        "  prob_neg = 0\n",
        "  for token in text.split():\n",
        "    t=stemmer.stem(token.lower())\n",
        "    if t in alltext:\n",
        "      prob_pos += lookup_POSprob[t]\n",
        "      prob_neg += lookup_NEGprob[t]\n",
        "  if prob_pos*prior_POS > prob_neg*prior_NEG:\n",
        "    return 'POS'\n",
        "  else:\n",
        "    return 'NEG'"
      ],
      "execution_count": 91,
      "outputs": []
    },
    {
      "cell_type": "code",
      "metadata": {
        "id": "gYqKBOiIrInT",
        "colab": {
          "base_uri": "https://localhost:8080/"
        },
        "outputId": "1e07ad5f-1c32-4fd9-9d85-f0da1ebc8ee0"
      },
      "source": [
        "# YOUR ANSWER HERE\n",
        "\n",
        "accuracy_results = []\n",
        "\n",
        "for i in range(10):\n",
        "  train_val = train[i::10].copy()\n",
        "  train_train = train[~train.isin(train_val)].dropna()\n",
        "\n",
        "  # step 1: instantiate two count dictionaries with all word counts set to 1\n",
        "  alltext = {stemmer.stem(t.lower()) for t in ' '.join(train_train['text']).split()}\n",
        "  lookup_POS = {t:1 for t in alltext}\n",
        "  lookup_NEG = {t:1 for t in alltext}\n",
        "  # step 2: fill the two dictionaries with the actual word counts from the texts in their class:\n",
        "  postexts = ''.join(train_train[train_train['sentiment']=='POS']['text']).split()\n",
        "  for t in postexts:\n",
        "    token=stemmer.stem(t.lower())\n",
        "    lookup_POS[token] += 1\n",
        "  negtexts = ''.join(train_train[train_train['sentiment']=='NEG']['text']).split()\n",
        "  for t in negtexts:\n",
        "    token=stemmer.stem(t.lower())\n",
        "    lookup_NEG[token] += 1\n",
        "  # step 3: create two new dictionaries with the normalized log-likelihoods of these counts per class:\n",
        "  lookup_POSprob = dict()\n",
        "  lookup_NEGprob = dict()\n",
        "  for word in lookup_POS:\n",
        "    lookup_POSprob[word] = np.log( lookup_POS[word] / (len(postexts)+len(alltext)) )\n",
        "  for word in lookup_NEG:\n",
        "    lookup_NEGprob[word] = np.log( lookup_NEG[word] / (len(negtexts)+len(alltext)) )  \n",
        "  prior_POS = len(train_train[train_train['sentiment']=='POS']) / len(train_train)\n",
        "  prior_NEG = len(train_train[train_train['sentiment']=='NEG']) / len(train_train) \n",
        "  \n",
        "  # get accuracy score for this fold:\n",
        "  train_val['predict_NB'] = train_val['text'].apply(calculate_class_prob)\n",
        "  validation_results = []\n",
        "  for true, predict in zip(train_val['sentiment'],train_val['predict_NB']):\n",
        "    if true==predict:\n",
        "      validation_results.append(1)\n",
        "    else:\n",
        "      validation_results.append(0)\n",
        "  accuracy=sum(validation_results)/len(validation_results)\n",
        "  accuracy_results.append(accuracy)\n",
        "  print(f\"Accuracy of Naive Bayes with Porter Stemmer (fold {i}): {sum(validation_results)/len(validation_results)}\")"
      ],
      "execution_count": 92,
      "outputs": [
        {
          "output_type": "stream",
          "name": "stdout",
          "text": [
            "Accuracy of Naive Bayes with Porter Stemmer (fold 0): 0.7611111111111111\n",
            "Accuracy of Naive Bayes with Porter Stemmer (fold 1): 0.9666666666666667\n",
            "Accuracy of Naive Bayes with Porter Stemmer (fold 2): 0.9388888888888889\n",
            "Accuracy of Naive Bayes with Porter Stemmer (fold 3): 0.9666666666666667\n",
            "Accuracy of Naive Bayes with Porter Stemmer (fold 4): 0.9444444444444444\n",
            "Accuracy of Naive Bayes with Porter Stemmer (fold 5): 0.9611111111111111\n",
            "Accuracy of Naive Bayes with Porter Stemmer (fold 6): 0.9666666666666667\n",
            "Accuracy of Naive Bayes with Porter Stemmer (fold 7): 0.9277777777777778\n",
            "Accuracy of Naive Bayes with Porter Stemmer (fold 8): 0.9666666666666667\n",
            "Accuracy of Naive Bayes with Porter Stemmer (fold 9): 0.95\n"
          ]
        }
      ]
    },
    {
      "cell_type": "code",
      "metadata": {
        "colab": {
          "base_uri": "https://localhost:8080/"
        },
        "id": "SdeLoF1T56jD",
        "outputId": "55f8e35d-dd28-498c-9614-3ec90cf5c28f"
      },
      "source": [
        "# YOUR CODE HERE\n",
        "print(f\"mean of 10-fold NB with Porter Stemmer: {np.mean(accuracy_results):.3f}, variance: {np.var(accuracy_results):.4f}\")\n",
        "print(f\"number of tokens in the last held-out training set: {len(alltext)}\")"
      ],
      "execution_count": 98,
      "outputs": [
        {
          "output_type": "stream",
          "name": "stdout",
          "text": [
            "mean of 10-fold NB with Porter Stemmer: 0.935, variance: 0.0035\n",
            "number of tokens in the last held-out training set: 30922\n"
          ]
        }
      ]
    },
    {
      "cell_type": "markdown",
      "metadata": {
        "id": "JkDHVq_1XUVP"
      },
      "source": [
        "#### (Q2.8) What happens to the number of features (i.e., the size of the vocabulary) when using stemming as opposed to (Q2.4)? (0.5pt)\n",
        "Give actual numbers. You can use the held-out training set to determine these."
      ]
    },
    {
      "cell_type": "code",
      "metadata": {
        "id": "MA3vee5-rJyy"
      },
      "source": [
        "# YOUR CODE HERE\n",
        "print(f\"Number of different tokens in the last held-out training set with Porter stemmer: {len(alltext)}\")\n",
        "#print(f\"number of different tokens in the last held-out training set without Porter stemmer: {len(alltext)}\")"
      ],
      "execution_count": null,
      "outputs": []
    },
    {
      "cell_type": "markdown",
      "metadata": {
        "id": "SoazfxbNV5Lq"
      },
      "source": [
        "### N-grams (1.5pts)\n",
        "\n",
        "A simple way of retaining some of the word\n",
        "order information when using bag-of-words representations is to use **n-gram** features. \n",
        "\n",
        "\n",
        "\n",
        "\n"
      ]
    },
    {
      "cell_type": "markdown",
      "metadata": {
        "id": "OHjy3I7-qWiu"
      },
      "source": [
        "#### (Q2.9) Retrain your classifier from (Q2.4) using **unigrams+bigrams** and **unigrams+bigrams+trigrams** as features. (1pt)\n",
        "Report accuracy and compare it with that of the approaches you have previously implemented. You are allowed to use NLTK to build n-grams from sentences."
      ]
    },
    {
      "cell_type": "code",
      "metadata": {
        "id": "eYuKMTOpq9jz"
      },
      "source": [
        "# YOUR CODE HERE\n"
      ],
      "execution_count": null,
      "outputs": []
    },
    {
      "cell_type": "markdown",
      "metadata": {
        "id": "dVrGGArkrWoL"
      },
      "source": [
        "\n",
        "#### Q2.10: How many features does the BoW model have to take into account now? (0.5pt)\n",
        "How would you expect the number of features to increase theoretically (e.g., linear, square, cubed, exponential)? How does this number compare, in practice, to the number of features at (Q2.8)?\n",
        "\n",
        "Use the held-out training set once again for this.\n"
      ]
    },
    {
      "cell_type": "markdown",
      "metadata": {
        "id": "yEGZ9SV8pPaa"
      },
      "source": [
        "*Write your answer here.*"
      ]
    },
    {
      "cell_type": "code",
      "metadata": {
        "id": "_z8sAJeUrdtM"
      },
      "source": [
        "# YOUR CODE HERE"
      ],
      "execution_count": null,
      "outputs": []
    },
    {
      "cell_type": "markdown",
      "metadata": {
        "id": "CHWKDL3YV6vh"
      },
      "source": [
        "# Support Vector Machines (4pts)"
      ]
    },
    {
      "cell_type": "markdown",
      "metadata": {
        "id": "hJSYhcVaoJGt"
      },
      "source": [
        "Though simple to understand, implement, and debug, one\n",
        "major problem with the Naive Bayes classifier is that its performance\n",
        "deteriorates (becomes skewed) when it is being used with features which\n",
        "are not independent (i.e., are correlated). Another popular classifier\n",
        "that doesn’t scale as well to big data, and is not as simple to debug as\n",
        "Naive Bayes, but that doesn’t assume feature independence is the Support\n",
        "Vector Machine (SVM) classifier.\n",
        "\n",
        "You can find more details about SVMs in Chapter 7 of Bishop: Pattern Recognition and Machine Learning.\n",
        "Other sources for learning SVM:\n",
        "* http://web.mit.edu/zoya/www/SVM.pdf\n",
        "* http://www.cs.columbia.edu/~kathy/cs4701/documents/jason_svm_tutorial.pdf\n",
        "* https://pythonprogramming.net/support-vector-machine-intro-machine-learning-tutorial/\n",
        "\n",
        "\n",
        "\n",
        "\n",
        "\n",
        "\n",
        "\n",
        "Use the scikit-learn implementation of \n",
        "[SVM](http://scikit-learn.org/stable/modules/svm.html) with the default parameters. (You are not expected to perform any hyperparameter tuning, but feel free to do it if you think it gives you good insights for the discussion in question 5.)\n",
        "\n"
      ]
    },
    {
      "cell_type": "markdown",
      "metadata": {
        "id": "0LnzNtQBV8gr"
      },
      "source": [
        "#### (Q3.1): Train SVM and compare to Naive Bayes (2pts)\n",
        "\n",
        "Train an SVM classifier (sklearn.svm.LinearSVC) using the features collected for Naive Bayes. Compare the\n",
        "classification performance of the SVM classifier to that of the Naive\n",
        "Bayes classifier with smoothing.\n",
        "Use cross-validation to evaluate the performance of the classifiers.\n",
        "\n"
      ]
    },
    {
      "cell_type": "code",
      "metadata": {
        "id": "JBscui8Mvoz0"
      },
      "source": [
        "# YOUR CODE HERE"
      ],
      "execution_count": null,
      "outputs": []
    },
    {
      "cell_type": "markdown",
      "metadata": {
        "id": "ifXVWcK0V9qY"
      },
      "source": [
        "### POS disambiguation (2pts)\n",
        "\n",
        "Now add in part-of-speech features. You will find the\n",
        "movie review dataset has already been POS-tagged for you ([here](https://catalog.ldc.upenn.edu/docs/LDC99T42/tagguid1.pdf) you find the tagset). Try to\n",
        "replicate the results obtained by Pang et al. (2002).\n",
        "\n"
      ]
    },
    {
      "cell_type": "markdown",
      "metadata": {
        "id": "xA3I82o4oWGu"
      },
      "source": [
        "####(Q3.2) Replace your features with word+POS features, and report performance with the SVM. Use cross-validation to evaluate the classifier and compare the results with (Q3.1). Does part-of-speech information help? Explain why this may be the case. (1pt)\n"
      ]
    },
    {
      "cell_type": "code",
      "metadata": {
        "id": "NOvjYe-t2Br6"
      },
      "source": [
        "# YOUR CODE HERE"
      ],
      "execution_count": null,
      "outputs": []
    },
    {
      "cell_type": "markdown",
      "metadata": {
        "id": "L0dt_oQupUNe"
      },
      "source": [
        "*Write your answer here.*"
      ]
    },
    {
      "cell_type": "markdown",
      "metadata": {
        "id": "Su-3w87eMW0w"
      },
      "source": [
        "#### (Q3.3) Discard all closed-class words from your data (keep only nouns, verbs, adjectives, and adverbs), and report performance. Does this help? Use cross-validation to evaluate the classifier and compare the results with (Q3.2). Are closed-class words detrimental to the classifier? Explain why this may be the case. (1pt)"
      ]
    },
    {
      "cell_type": "code",
      "metadata": {
        "id": "CCUPlPozCYUX"
      },
      "source": [
        "# YOUR CODE HERE"
      ],
      "execution_count": null,
      "outputs": []
    },
    {
      "cell_type": "markdown",
      "metadata": {
        "id": "YaxCVrs8pWSp"
      },
      "source": [
        "*Write your answer here.*"
      ]
    },
    {
      "cell_type": "markdown",
      "metadata": {
        "id": "nfwqOciAl2No"
      },
      "source": [
        "# (Q4) Discussion (max. 500 words). (5pts)\n",
        "\n",
        "> Based on your experiments, what are the effective features and techniques in sentiment analysis? What information do different features encode?\n",
        "Why is this important? What are the limitations of these features and techniques?\n",
        " \n"
      ]
    },
    {
      "cell_type": "markdown",
      "metadata": {
        "id": "ZYuse5WLmekZ"
      },
      "source": [
        "*Write your answer here in up to 500 words (-0.25pt for >50 extra words, -0.5 points for >100 extra words, ...)*.\n"
      ]
    },
    {
      "cell_type": "markdown",
      "metadata": {
        "id": "iwaKwfWQhRk_"
      },
      "source": [
        "# Submission \n"
      ]
    },
    {
      "cell_type": "code",
      "metadata": {
        "id": "aOUeaET5ijk-"
      },
      "source": [
        "# Write your names and student numbers here:\n",
        "# Student 1 #12345\n",
        "# Student 2 #12345"
      ],
      "execution_count": null,
      "outputs": []
    },
    {
      "cell_type": "markdown",
      "metadata": {
        "id": "3A9K-H6Tii3X"
      },
      "source": [
        "**That's it!**\n",
        "\n",
        "- Check if you answered all questions fully and correctly. \n",
        "- Download your completed notebook using `File -> Download .ipynb` \n",
        "- Check if your answers are all included in the file you submit.\n",
        "- Submit your .ipynb file via *Canvas*. One submission per group. "
      ]
    },
    {
      "cell_type": "code",
      "metadata": {
        "id": "YHslatYAKBrF"
      },
      "source": [
        ""
      ],
      "execution_count": null,
      "outputs": []
    }
  ]
}
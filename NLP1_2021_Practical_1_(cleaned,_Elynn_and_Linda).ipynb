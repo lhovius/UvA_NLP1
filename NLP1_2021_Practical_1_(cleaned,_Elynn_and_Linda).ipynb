{
  "nbformat": 4,
  "nbformat_minor": 0,
  "metadata": {
    "colab": {
      "name": "NLP1 2021 Practical 1 (cleaned, Elynn and Linda)",
      "provenance": [],
      "collapsed_sections": []
    },
    "kernelspec": {
      "display_name": "Python 3",
      "name": "python3"
    }
  },
  "cells": [
    {
      "cell_type": "markdown",
      "metadata": {
        "id": "1-aRiOgl4nHg"
      },
      "source": [
        "------\n",
        "**NLP1 Assignment 1: Elynn Weijland (13895958) and Linda Hovius (12205184)**\n",
        "\n",
        "------\n",
        "\n",
        " "
      ]
    },
    {
      "cell_type": "markdown",
      "metadata": {
        "id": "lIZrAUx57vsM"
      },
      "source": [
        "Practical 1: Sentiment Detection in Movie Reviews\n",
        "========================================\n",
        "\n"
      ]
    },
    {
      "cell_type": "markdown",
      "metadata": {
        "id": "J4kXPMhyngZW"
      },
      "source": [
        "This practical concerns detecting sentiment in movie reviews. This is a typical NLP classification task.\n",
        "In [this file](https://gist.githubusercontent.com/bastings/d47423301cca214e3930061a5a75e177/raw/5113687382919e22b1f09ce71a8fecd1687a5760/reviews.json) (80MB) you will find 1000 positive and 1000 negative **movie reviews**.\n",
        "Each review is a **document** and consists of one or more sentences.\n",
        "\n",
        "To prepare yourself for this practical, you should\n",
        "have a look at a few of these texts to understand the difficulties of\n",
        "the task: how might one go about classifying the texts? You will write\n",
        "code that decides whether a movie review conveys positive or\n",
        "negative sentiment.\n",
        "\n",
        "Please make sure you have read the following paper:\n",
        "\n",
        ">   Bo Pang, Lillian Lee, and Shivakumar Vaithyanathan\n",
        "(2002). \n",
        "[Thumbs up? Sentiment Classification using Machine Learning\n",
        "Techniques](https://dl.acm.org/citation.cfm?id=1118704). EMNLP.\n",
        "\n",
        "Bo Pang et al. introduced the movie review sentiment\n",
        "classification task, and the above paper was one of the first papers on\n",
        "the topic. The first version of your sentiment classifier will do\n",
        "something similar to Pang et al.'s system. If you have questions about it,\n",
        "you should resolve you doubts as soon as possible with your TA.\n"
      ]
    },
    {
      "cell_type": "markdown",
      "metadata": {
        "id": "cb7errgRASzZ"
      },
      "source": [
        "**Advice**\n",
        "\n",
        "Please read through the entire practical and familiarise\n",
        "yourself with all requirements before you start coding or otherwise\n",
        "solving the tasks. Writing clean and concise code can make the difference\n",
        "between solving the assignment in a matter of hours, and taking days to\n",
        "run all experiments.\n",
        "\n",
        "## Environment\n",
        "\n",
        "All code should be written in **Python 3**. \n",
        "This is the default in Google Colab."
      ]
    },
    {
      "cell_type": "code",
      "metadata": {
        "id": "SaZnxptMJiD7"
      },
      "source": [
        "!python --version"
      ],
      "execution_count": null,
      "outputs": []
    },
    {
      "cell_type": "markdown",
      "metadata": {
        "id": "BYZyIF7lJnGn"
      },
      "source": [
        "If you want to run code on your own computer, then download this notebook through `File -> Download .ipynb`.\n",
        "The easiest way to\n",
        "install Python is through downloading\n",
        "[Anaconda](https://www.anaconda.com/download). \n",
        "After installation, you can start the notebook by typing `jupyter notebook filename.ipynb`.\n",
        "You can also use an IDE\n",
        "such as [PyCharm](https://www.jetbrains.com/pycharm/download/) to make\n",
        "coding and debugging easier. It is good practice to create a [virtual\n",
        "environment](https://docs.python.org/3/tutorial/venv.html) for this\n",
        "project, so that any Python packages don’t interfere with other\n",
        "projects. \n",
        " \n",
        "\n",
        "**Learning Python 3**\n",
        "\n",
        "If you are new to Python 3, you may want to check out a few of these resources:\n",
        "- https://learnxinyminutes.com/docs/python3/\n",
        "- https://www.learnpython.org/\n",
        "- https://docs.python.org/3/tutorial/"
      ]
    },
    {
      "cell_type": "code",
      "metadata": {
        "id": "hok-BFu9lGoK"
      },
      "source": [
        "import math\n",
        "import os\n",
        "import sys\n",
        "from subprocess import call\n",
        "from nltk import FreqDist\n",
        "from nltk.util import ngrams\n",
        "from nltk.stem.porter import PorterStemmer\n",
        "import sklearn as sk\n",
        "from google.colab import drive\n",
        "import pickle\n",
        "import json\n",
        "from collections import Counter\n",
        "import requests\n",
        "import matplotlib.pyplot as plt\n",
        "import numpy as np\n",
        "import pandas as pd\n",
        "import seaborn as sns"
      ],
      "execution_count": 1,
      "outputs": []
    },
    {
      "cell_type": "markdown",
      "metadata": {
        "id": "bXWyGHwE-ieQ"
      },
      "source": [
        "## Loading the data\n",
        "\n",
        "**Download the sentiment lexicon and the movie reviews dataset.**"
      ]
    },
    {
      "cell_type": "code",
      "metadata": {
        "id": "lm-rakqtlMOT",
        "colab": {
          "base_uri": "https://localhost:8080/"
        },
        "outputId": "8eeee9c0-dec8-4ceb-ff1f-6b21856990c6"
      },
      "source": [
        "# download sentiment lexicon\n",
        "!wget https://gist.githubusercontent.com/bastings/d6f99dcb6c82231b94b013031356ba05/raw/f80a0281eba8621b122012c89c8b5e2200b39fd6/sent_lexicon\n",
        "# download review data\n",
        "!wget https://gist.githubusercontent.com/bastings/d47423301cca214e3930061a5a75e177/raw/5113687382919e22b1f09ce71a8fecd1687a5760/reviews.json"
      ],
      "execution_count": 2,
      "outputs": [
        {
          "output_type": "stream",
          "name": "stdout",
          "text": [
            "--2021-11-17 19:34:04--  https://gist.githubusercontent.com/bastings/d6f99dcb6c82231b94b013031356ba05/raw/f80a0281eba8621b122012c89c8b5e2200b39fd6/sent_lexicon\n",
            "Resolving gist.githubusercontent.com (gist.githubusercontent.com)... 185.199.109.133, 185.199.111.133, 185.199.108.133, ...\n",
            "Connecting to gist.githubusercontent.com (gist.githubusercontent.com)|185.199.109.133|:443... connected.\n",
            "HTTP request sent, awaiting response... 200 OK\n",
            "Length: 662577 (647K) [text/plain]\n",
            "Saving to: ‘sent_lexicon’\n",
            "\n",
            "sent_lexicon        100%[===================>] 647.05K  --.-KB/s    in 0.05s   \n",
            "\n",
            "2021-11-17 19:34:04 (12.0 MB/s) - ‘sent_lexicon’ saved [662577/662577]\n",
            "\n",
            "--2021-11-17 19:34:05--  https://gist.githubusercontent.com/bastings/d47423301cca214e3930061a5a75e177/raw/5113687382919e22b1f09ce71a8fecd1687a5760/reviews.json\n",
            "Resolving gist.githubusercontent.com (gist.githubusercontent.com)... 185.199.108.133, 185.199.111.133, 185.199.109.133, ...\n",
            "Connecting to gist.githubusercontent.com (gist.githubusercontent.com)|185.199.108.133|:443... connected.\n",
            "HTTP request sent, awaiting response... 200 OK\n",
            "Length: 83503869 (80M) [text/plain]\n",
            "Saving to: ‘reviews.json’\n",
            "\n",
            "reviews.json        100%[===================>]  79.63M   173MB/s    in 0.5s    \n",
            "\n",
            "2021-11-17 19:34:10 (173 MB/s) - ‘reviews.json’ saved [83503869/83503869]\n",
            "\n"
          ]
        }
      ]
    },
    {
      "cell_type": "markdown",
      "metadata": {
        "id": "AkPwuHp5LSuQ"
      },
      "source": [
        "**Load the movie reviews.**\n",
        "\n",
        "Each word in a review comes with its part-of-speech tag. For documentation on POS-tags, see https://catalog.ldc.upenn.edu/docs/LDC99T42/tagguid1.pdf.\n"
      ]
    },
    {
      "cell_type": "code",
      "metadata": {
        "id": "careEKj-mRpl",
        "colab": {
          "base_uri": "https://localhost:8080/"
        },
        "outputId": "79b89058-1063-4998-8f89-22f443cffbbd"
      },
      "source": [
        "with open(\"reviews.json\", mode=\"r\", encoding=\"utf-8\") as f:\n",
        "  reviews = json.load(f)\n",
        "print(\"Total number of reviews:\", len(reviews), '\\n')\n",
        "\n",
        "def print_sentence_with_pos(s):\n",
        "  print(\" \".join(\"%s/%s\" % (token, pos_tag) for token, pos_tag in s))\n",
        "for i, r in enumerate(reviews):\n",
        "  print(r[\"cv\"], r[\"sentiment\"], len(r[\"content\"]))  # cv, sentiment, num sents\n",
        "  print_sentence_with_pos(r[\"content\"][0])\n",
        "  if i == 4: \n",
        "    break\n",
        "    \n",
        "c = Counter()\n",
        "for review in reviews:\n",
        "  for sentence in review[\"content\"]:\n",
        "    for token, pos_tag in sentence:\n",
        "      c[token.lower()] += 1\n",
        "print(\"\\nNumber of word types:\", len(c))\n",
        "print(\"Number of word tokens:\", sum(c.values()))\n",
        "\n",
        "print(\"\\nMost common tokens:\")\n",
        "for token, count in c.most_common(20):\n",
        "  print(\"%10s : %8d\" % (token, count))"
      ],
      "execution_count": 3,
      "outputs": [
        {
          "output_type": "stream",
          "name": "stdout",
          "text": [
            "Total number of reviews: 2000 \n",
            "\n",
            "0 NEG 29\n",
            "Two/CD teen/JJ couples/NNS go/VBP to/TO a/DT church/NN party/NN ,/, drink/NN and/CC then/RB drive/NN ./.\n",
            "1 NEG 11\n",
            "Damn/JJ that/IN Y2K/CD bug/NN ./.\n",
            "2 NEG 24\n",
            "It/PRP is/VBZ movies/NNS like/IN these/DT that/WDT make/VBP a/DT jaded/JJ movie/NN viewer/NN thankful/JJ for/IN the/DT invention/NN of/IN the/DT Timex/NNP IndiGlo/NNP watch/NN ./.\n",
            "3 NEG 19\n",
            "QUEST/NN FOR/IN CAMELOT/NNP ``/`` Quest/NNP for/IN Camelot/NNP ''/'' is/VBZ Warner/NNP Bros./NNP '/POS first/JJ feature-length/JJ ,/, fully-animated/JJ attempt/NN to/TO steal/VB clout/NN from/IN Disney/NNP 's/POS cartoon/NN empire/NN ,/, but/CC the/DT mouse/NN has/VBZ no/DT reason/NN to/TO be/VB worried/VBN ./.\n",
            "4 NEG 38\n",
            "Synopsis/NNPS :/: A/DT mentally/RB unstable/JJ man/NN undergoing/VBG psychotherapy/NN saves/VBZ a/DT boy/NN from/IN a/DT potentially/RB fatal/JJ accident/NN and/CC then/RB falls/VBZ in/IN love/NN with/IN the/DT boy/NN 's/POS mother/NN ,/, a/DT fledgling/NN restauranteur/NN ./.\n",
            "\n",
            "Number of word types: 47743\n",
            "Number of word tokens: 1512359\n",
            "\n",
            "Most common tokens:\n",
            "         , :    77842\n",
            "       the :    75948\n",
            "         . :    59027\n",
            "         a :    37583\n",
            "       and :    35235\n",
            "        of :    33864\n",
            "        to :    31601\n",
            "        is :    25972\n",
            "        in :    21563\n",
            "        's :    18043\n",
            "        it :    15904\n",
            "      that :    15820\n",
            "     -rrb- :    11768\n",
            "     -lrb- :    11670\n",
            "        as :    11312\n",
            "      with :    10739\n",
            "       for :     9816\n",
            "       his :     9542\n",
            "      this :     9497\n",
            "      film :     9404\n"
          ]
        }
      ]
    },
    {
      "cell_type": "code",
      "metadata": {
        "id": "nacNP9KYeHml",
        "colab": {
          "base_uri": "https://localhost:8080/",
          "height": 111
        },
        "outputId": "51937615-7948-42e0-d734-d720fa0db3c7"
      },
      "source": [
        "def content_to_text(content):\n",
        "  text = ''\n",
        "  for sent in content:\n",
        "    for combi in sent:\n",
        "      word = combi[0]\n",
        "      text = text+' '+word\n",
        "  return text\n",
        "def content_to_POStext(content):\n",
        "  text = ''\n",
        "  for sent in content:\n",
        "    for combi in sent:\n",
        "      word = combi[0]+'_'+combi[1]\n",
        "      text = text+' '+word\n",
        "  return text\n",
        "\n",
        "reviewsDF = pd.DataFrame(reviews)\n",
        "reviewsDF['text'] = reviewsDF['content'].apply(content_to_text)\n",
        "reviewsDF['nr_tokens'] = [len(txt.split()) for txt in reviewsDF['text']]\n",
        "reviewsDF['word_POS'] = reviewsDF['content'].apply(content_to_POStext)  \n",
        "reviewsDF.head(2)"
      ],
      "execution_count": 4,
      "outputs": [
        {
          "output_type": "execute_result",
          "data": {
            "text/html": [
              "<div>\n",
              "<style scoped>\n",
              "    .dataframe tbody tr th:only-of-type {\n",
              "        vertical-align: middle;\n",
              "    }\n",
              "\n",
              "    .dataframe tbody tr th {\n",
              "        vertical-align: top;\n",
              "    }\n",
              "\n",
              "    .dataframe thead th {\n",
              "        text-align: right;\n",
              "    }\n",
              "</style>\n",
              "<table border=\"1\" class=\"dataframe\">\n",
              "  <thead>\n",
              "    <tr style=\"text-align: right;\">\n",
              "      <th></th>\n",
              "      <th>cv</th>\n",
              "      <th>sentiment</th>\n",
              "      <th>content</th>\n",
              "      <th>text</th>\n",
              "      <th>nr_tokens</th>\n",
              "      <th>word_POS</th>\n",
              "    </tr>\n",
              "  </thead>\n",
              "  <tbody>\n",
              "    <tr>\n",
              "      <th>0</th>\n",
              "      <td>0</td>\n",
              "      <td>NEG</td>\n",
              "      <td>[[[Two, CD], [teen, JJ], [couples, NNS], [go, ...</td>\n",
              "      <td>Two teen couples go to a church party , drink...</td>\n",
              "      <td>770</td>\n",
              "      <td>Two_CD teen_JJ couples_NNS go_VBP to_TO a_DT ...</td>\n",
              "    </tr>\n",
              "    <tr>\n",
              "      <th>1</th>\n",
              "      <td>1</td>\n",
              "      <td>NEG</td>\n",
              "      <td>[[[Damn, JJ], [that, IN], [Y2K, CD], [bug, NN]...</td>\n",
              "      <td>Damn that Y2K bug . It 's got a head start in...</td>\n",
              "      <td>282</td>\n",
              "      <td>Damn_JJ that_IN Y2K_CD bug_NN ._. It_PRP 's_V...</td>\n",
              "    </tr>\n",
              "  </tbody>\n",
              "</table>\n",
              "</div>"
            ],
            "text/plain": [
              "   cv sentiment  ... nr_tokens                                           word_POS\n",
              "0   0       NEG  ...       770   Two_CD teen_JJ couples_NNS go_VBP to_TO a_DT ...\n",
              "1   1       NEG  ...       282   Damn_JJ that_IN Y2K_CD bug_NN ._. It_PRP 's_V...\n",
              "\n",
              "[2 rows x 6 columns]"
            ]
          },
          "metadata": {},
          "execution_count": 4
        }
      ]
    },
    {
      "cell_type": "markdown",
      "metadata": {
        "id": "E6PWaEoh8B34"
      },
      "source": [
        "# Lexicon-based approach (3.5pts)\n",
        "\n"
      ]
    },
    {
      "cell_type": "markdown",
      "metadata": {
        "id": "JsTSMb6ma4E8"
      },
      "source": [
        "A traditional approach to classify documents according to their sentiment is the lexicon-based approach. To implement this approach, you need a **sentiment lexicon**, i.e., a list of words annotated with a sentiment label (e.g., positive and negative, or a score from 0 to 5).\n",
        "\n",
        "In this practical, you will use the sentiment\n",
        "lexicon released by Wilson et al. (2005).\n",
        "\n",
        "> Theresa Wilson, Janyce Wiebe, and Paul Hoffmann\n",
        "(2005). [Recognizing Contextual Polarity in Phrase-Level Sentiment\n",
        "Analysis](http://www.aclweb.org/anthology/H/H05/H05-1044.pdf). HLT-EMNLP.\n",
        "\n",
        "Pay attention to all the information available in the sentiment lexicon. The field *word1* contains the lemma, *priorpolarity* contains the sentiment label (positive, negative, both, or neutral), *type* gives you the magnitude of the word's sentiment (strong or weak), and *pos1* gives you the part-of-speech tag of the lemma. Some lemmas can have multiple part-of-speech tags and thus multiple entries in the lexicon. The path of the lexicon file is `\"sent_lexicon\"`.\n"
      ]
    },
    {
      "cell_type": "code",
      "metadata": {
        "id": "Ogq0Eq2hQglh",
        "colab": {
          "base_uri": "https://localhost:8080/"
        },
        "outputId": "63e7c0dd-2dc3-45c0-a2c7-8c16e676a805"
      },
      "source": [
        "with open(\"sent_lexicon\", mode=\"r\", encoding=\"utf-8\") as f:\n",
        "  line_cnt = 0\n",
        "  for line in f:\n",
        "    print(line.strip().split())\n",
        "    line_cnt += 1\n",
        "    if line_cnt > 4:\n",
        "      break"
      ],
      "execution_count": 5,
      "outputs": [
        {
          "output_type": "stream",
          "name": "stdout",
          "text": [
            "['type=weaksubj', 'len=1', 'word1=abandoned', 'pos1=adj', 'stemmed1=n', 'priorpolarity=negative']\n",
            "['type=weaksubj', 'len=1', 'word1=abandonment', 'pos1=noun', 'stemmed1=n', 'priorpolarity=negative']\n",
            "['type=weaksubj', 'len=1', 'word1=abandon', 'pos1=verb', 'stemmed1=y', 'priorpolarity=negative']\n",
            "['type=strongsubj', 'len=1', 'word1=abase', 'pos1=verb', 'stemmed1=y', 'priorpolarity=negative']\n",
            "['type=strongsubj', 'len=1', 'word1=abasement', 'pos1=anypos', 'stemmed1=y', 'priorpolarity=negative']\n"
          ]
        }
      ]
    },
    {
      "cell_type": "markdown",
      "metadata": {
        "id": "Mml4nOtIUBhn"
      },
      "source": [
        "\n",
        "Lexica such as this can be used to solve\n",
        "the classification task without using Machine Learning. For example, one might look up every word $w_1 ... w_n$ in a document, and compute a **binary score**\n",
        "$S_{binary}$ by counting how many words have a positive or a\n",
        "negative label in the sentiment lexicon $SLex$.\n",
        "\n",
        "$$S_{binary}(w_1 w_2 ... w_n) = \\sum_{i = 1}^{n}\\text{sign}(SLex\\big[w_i\\big])$$\n",
        "\n",
        "where $\\text{sign}(SLex\\big[w_i\\big])$ refers to the polarity of $w_i$.\n",
        "\n",
        "**Threshold.** On average, there are more positive than negative words per review (~7.13 more positive than negative per review) to take this bias into account you should use a threshold of **8** (roughly the bias itself) to make it harder to classify as positive.\n",
        "\n",
        "$$\n",
        "\\text{classify}(S_{binary}(w_1 w_2 ... w_n)) = \\bigg\\{\\begin{array}{ll}\n",
        "        \\text{positive} & \\text{if } S_{binary}(w_1w_2...w_n) > threshold\\\\\n",
        "        \\text{negative} & \\text{otherwise}\n",
        "        \\end{array}\n",
        "$$\n"
      ]
    },
    {
      "cell_type": "markdown",
      "metadata": {
        "id": "tOFnMvbeeZrc"
      },
      "source": [
        "#### (Q1.1) Implement this approach and report its classification accuracy. (1 pt)"
      ]
    },
    {
      "cell_type": "code",
      "metadata": {
        "id": "7QSE-bIhmmcZ"
      },
      "source": [
        "sent_lex = dict()\n",
        "weight_lex =dict()\n",
        "with open(\"sent_lexicon\", mode=\"r\", encoding=\"utf-8\") as f:\n",
        "  for line in f:\n",
        "    lijst = line.strip().split()\n",
        "    sent_lex[lijst[2][6:]]=lijst[5][14:]\n",
        "    if lijst[0][5:10].startswith('str'):\n",
        "      weight_lex[lijst[2][6:]]=3\n",
        "    elif lijst[0][5:10].startswith('wea'):\n",
        "      weight_lex[lijst[2][6:]]=1"
      ],
      "execution_count": 6,
      "outputs": []
    },
    {
      "cell_type": "code",
      "metadata": {
        "id": "_ANoe0MMFJ9U"
      },
      "source": [
        "def create_unweighted_polarity(threshold,text):\n",
        "  polarity=threshold\n",
        "  for token in text.split():\n",
        "    t = token.lower()\n",
        "    if t in sent_lex:\n",
        "      if sent_lex[t]=='positive':\n",
        "        polarity+=1\n",
        "      elif sent_lex[t]=='negative':\n",
        "        polarity-=1\n",
        "  return polarity"
      ],
      "execution_count": 7,
      "outputs": []
    },
    {
      "cell_type": "code",
      "metadata": {
        "id": "he_a_7QrGK-g",
        "colab": {
          "base_uri": "https://localhost:8080/"
        },
        "outputId": "24535aba-945c-4a1d-c307-8393bc90c490"
      },
      "source": [
        "thresh = 0\n",
        "reviewsDF['unweighted_polarity'] = [create_unweighted_polarity(thresh,txt) for txt in reviewsDF['text']]\n",
        "print(f\"bias towards positive words in ALL reviews with threshold {thresh} is: {reviewsDF['unweighted_polarity'].mean()}\")\n",
        "thresh = -8\n",
        "reviewsDF['unweighted_polarity'] = [create_unweighted_polarity(thresh,txt) for txt in reviewsDF['text']]\n",
        "print(f\"bias towards positive words in ALL reviews with threshold {thresh} is: {reviewsDF['unweighted_polarity'].mean()}\")"
      ],
      "execution_count": 8,
      "outputs": [
        {
          "output_type": "stream",
          "name": "stdout",
          "text": [
            "bias towards positive words in ALL reviews with threshold 0 is: 7.194\n",
            "bias towards positive words in ALL reviews with threshold -8 is: -0.806\n"
          ]
        }
      ]
    },
    {
      "cell_type": "code",
      "metadata": {
        "id": "rIqQqMgu34As",
        "colab": {
          "base_uri": "https://localhost:8080/"
        },
        "outputId": "3f9a4cb8-5316-456c-a622-8ce1dfed9e44"
      },
      "source": [
        "reviewsDF['unweighted_predict'] = ['POS' if x>=0 else 'NEG' for x in reviewsDF['unweighted_polarity']]\n",
        "print(f\"Accuracy of unweighted sign-only classification (with fixed threshold): {(len(reviewsDF[reviewsDF.sentiment==reviewsDF.unweighted_predict])/len(reviewsDF))}\")"
      ],
      "execution_count": 12,
      "outputs": [
        {
          "output_type": "stream",
          "name": "stdout",
          "text": [
            "Accuracy of unweighted sign-only classification (with fixed threshold): 0.679\n"
          ]
        }
      ]
    },
    {
      "cell_type": "markdown",
      "metadata": {
        "id": "Twox0s_3eS0V"
      },
      "source": [
        "As the sentiment lexicon also has information about the **magnitude** of\n",
        "sentiment (e.g., *“excellent\"* has the same sentiment _polarity_ as *“good\"* but it has a higher magnitude), we can take a more fine-grained approach by adding up all\n",
        "sentiment scores, and deciding the polarity of the movie review using\n",
        "the sign of the weighted score $S_{weighted}$.\n",
        "\n",
        "$$S_{weighted}(w_1w_2...w_n) = \\sum_{i = 1}^{n}SLex\\big[w_i\\big]$$\n",
        "\n",
        "\n",
        "Make sure you define an appropriate threshold for this approach.\n",
        "\n",
        "#### (Q1.2) Now incorporate magnitude information and report the classification accuracy. Don't forget to use the threshold. (1pt)"
      ]
    },
    {
      "cell_type": "code",
      "metadata": {
        "id": "I4pyXr0FLrke"
      },
      "source": [
        "def create_weighted_polarity(threshold,text):\n",
        "  polarity=threshold\n",
        "  for token in text.split():\n",
        "    t = token.lower()\n",
        "    if t in sent_lex:\n",
        "      if sent_lex[t]=='positive':\n",
        "        polarity+=1*weight_lex[t]\n",
        "      elif sent_lex[t]=='negative':\n",
        "        polarity-=1*weight_lex[t]\n",
        "  return polarity"
      ],
      "execution_count": 9,
      "outputs": []
    },
    {
      "cell_type": "code",
      "metadata": {
        "id": "VnRkTT5X5Hbq",
        "colab": {
          "base_uri": "https://localhost:8080/"
        },
        "outputId": "c8771604-349b-4386-ac9f-a7441c81185f"
      },
      "source": [
        "thresh = 0\n",
        "reviewsDF['weighted_polarity'] = [create_weighted_polarity(thresh,txt) for txt in reviewsDF['text']]\n",
        "print(f\"bias towards positive words in ALL reviews with threshold {thresh} is: {reviewsDF['weighted_polarity'].mean()}\")\n",
        "thresh = -21\n",
        "reviewsDF['weighted_polarity'] = [create_weighted_polarity(thresh,txt) for txt in reviewsDF['text']]\n",
        "print(f\"bias towards positive words in ALL reviews with threshold {thresh} is: {reviewsDF['weighted_polarity'].mean()}\")"
      ],
      "execution_count": 10,
      "outputs": [
        {
          "output_type": "stream",
          "name": "stdout",
          "text": [
            "bias towards positive words in ALL reviews with threshold 0 is: 14.445\n",
            "bias towards positive words in ALL reviews with threshold -21 is: -6.555\n"
          ]
        }
      ]
    },
    {
      "cell_type": "code",
      "metadata": {
        "id": "Ikdx3nIA5Tsh",
        "colab": {
          "base_uri": "https://localhost:8080/"
        },
        "outputId": "796f56f1-7754-44f1-eaf3-54e9a66f9e29"
      },
      "source": [
        "reviewsDF['weighted_predict'] = ['POS' if x>=0 else 'NEG' for x in reviewsDF['weighted_polarity']]\n",
        "print(f\"Accuracy of weighted classification (with fixed threshold): {(len(reviewsDF[reviewsDF.sentiment==reviewsDF.weighted_predict])/len(reviewsDF))}\")"
      ],
      "execution_count": 14,
      "outputs": [
        {
          "output_type": "stream",
          "name": "stdout",
          "text": [
            "Accuracy of weighted classification (with fixed threshold): 0.6935\n"
          ]
        }
      ]
    },
    {
      "cell_type": "markdown",
      "metadata": {
        "id": "h9SHoGPfsAHV"
      },
      "source": [
        "#### (Q.1.4) Make a barplot of the two results (0.5pt)"
      ]
    },
    {
      "cell_type": "code",
      "metadata": {
        "id": "8LgBcYcXsEk3",
        "colab": {
          "base_uri": "https://localhost:8080/",
          "height": 409
        },
        "outputId": "32ec035e-bf2d-4e79-f129-c26a23e70022"
      },
      "source": [
        "fig,ax = plt.subplots(1,1,figsize=(8,6))\n",
        "y = [len(reviewsDF[reviewsDF.sentiment==reviewsDF.unweighted_predict])/len(reviewsDF), \n",
        "     len(reviewsDF[reviewsDF.sentiment==reviewsDF.weighted_predict])/len(reviewsDF)]\n",
        "x = 'Unweighted Weighted'.split()\n",
        "sns.barplot(x=x,y=y,ax=ax)\n",
        "ax.set_xlabel(\"Accuracy of Sentiment Predictions\",fontsize=12)\n",
        "ax.set_ylabel(\"Proportion of Correct Predictions\",fontsize=12)\n",
        "ax.set_title(\"Comparison of Unweighted versus Weighted Accuracies\", fontsize=16)\n",
        "ax.set_ylim(0,1)\n",
        "plt.show()"
      ],
      "execution_count": 15,
      "outputs": [
        {
          "output_type": "display_data",
          "data": {
            "image/png": "[encoded data removed]",
            "text/plain": [
              "<Figure size 576x432 with 1 Axes>"
            ]
          },
          "metadata": {
            "needs_background": "light"
          }
        }
      ]
    },
    {
      "cell_type": "markdown",
      "metadata": {
        "id": "sNhS8OCVxMHd"
      },
      "source": [
        "#### (Q1.3) A better threshold (1pt)\n",
        "Above we have defined a threshold to account for an inherent bias in the dataset: there are more positive than negative words per review.\n",
        "However, that threshold does not take into account *document length*. Explain why this is a problem and implement an alternative way to compute the threshold."
      ]
    },
    {
      "cell_type": "markdown",
      "metadata": {
        "id": "xo7gk1I-omLI"
      },
      "source": [
        "We have seen that people tend to use more positive words than negative ones, irrespective of their sentiment. That means that longer texts will have more 'extra' positive words than shorter texts. Eg: if 100-word reviews have, on average, 8 more positive than negative words, then 1000-word reviews will on average have 80 more positive than negative words. \n",
        "\n"
      ]
    },
    {
      "cell_type": "code",
      "metadata": {
        "id": "SSxYmQYFUkg6",
        "colab": {
          "base_uri": "https://localhost:8080/"
        },
        "outputId": "77205e9b-8847-4666-8e82-3aafd44d8740"
      },
      "source": [
        "thresh = 0\n",
        "reviewsDF['weighted_polarity'] = [create_weighted_polarity(thresh,txt) for txt in reviewsDF['text']]\n",
        "meanthres = reviewsDF['weighted_polarity'].mean() / reviewsDF['nr_tokens'].mean()\n",
        "\n",
        "def create_varthres_weighted_polarity(text, nr_tokens,meanthres=meanthres):\n",
        "  polarity = -(nr_tokens*meanthres)\n",
        "  for token in text.split():\n",
        "    t = token.lower()\n",
        "    if t in sent_lex:\n",
        "      if sent_lex[t]=='positive':\n",
        "        polarity+=1*weight_lex[t]\n",
        "      elif sent_lex[t]=='negative':\n",
        "        polarity-=1*weight_lex[t]\n",
        "  return polarity\n",
        "\n",
        "reviewsDF['varthres_polarity'] = reviewsDF.apply(lambda row: create_varthres_weighted_polarity(row.text,row.nr_tokens), axis=1)\n",
        "reviewsDF['varthres_predict'] = ['POS' if x>=0 else 'NEG' for x in reviewsDF['varthres_polarity']]\n",
        "print(f\"Accuracy of weighted classification (with variable threshold): {(len(reviewsDF[reviewsDF.sentiment==reviewsDF.varthres_predict])/len(reviewsDF))}\")"
      ],
      "execution_count": 16,
      "outputs": [
        {
          "output_type": "stream",
          "name": "stdout",
          "text": [
            "Accuracy of weighted classification (with variable threshold): 0.6945\n"
          ]
        }
      ]
    },
    {
      "cell_type": "markdown",
      "metadata": {
        "id": "LibV4nR89BXb"
      },
      "source": [
        "# Naive Bayes (9.5pts)"
      ]
    },
    {
      "cell_type": "markdown",
      "metadata": {
        "id": "fnF9adQnuwia"
      },
      "source": [
        "\n",
        "Your second task is to program a simple Machine Learning approach that operates\n",
        "on a simple Bag-of-Words (BoW) representation of the text data, as\n",
        "described by Pang et al. (2002). In this approach, the only features we\n",
        "will consider are the words in the text themselves, without bringing in\n",
        "external sources of information. The BoW model is a popular way of\n",
        "representing texts as vectors, making it\n",
        "easy to apply classical Machine Learning algorithms on NLP tasks.\n",
        "However, the BoW representation is also very crude, since it discards\n",
        "all information related to word order and grammatical structure in the\n",
        "original text—as the name suggests.\n",
        "\n",
        "## Writing your own classifier (4pts)\n",
        "\n",
        "Write your own code to implement the Naive Bayes (NB) classifier. As\n",
        "a reminder, the Naive Bayes classifier works according to the following\n",
        "equation:\n",
        "$$\\hat{c} = \\operatorname*{arg\\,max}_{c \\in C} P(c|\\bar{f}) = \\operatorname*{arg\\,max}_{c \\in C} P(c)\\prod^n_{i=1} P(f_i|c)$$\n",
        "where $C = \\{ \\text{POS}, \\text{NEG} \\}$ is the set of possible classes,\n",
        "$\\hat{c} \\in C$ is the most probable class, and $\\bar{f}$ is the feature\n",
        "vector. Remember that we use the log of these probabilities when making\n",
        "a prediction:\n",
        "$$\\hat{c} = \\operatorname*{arg\\,max}_{c \\in C} \\Big\\{\\log P(c) + \\sum^n_{i=1} \\log P(f_i|c)\\Big\\}$$\n",
        "\n",
        "You can find more details about Naive Bayes in [Jurafsky &\n",
        "Martin](https://web.stanford.edu/~jurafsky/slp3/). You can also look at\n",
        "this helpful\n",
        "[pseudo-code](https://nlp.stanford.edu/IR-book/html/htmledition/naive-bayes-text-classification-1.html).\n",
        "\n",
        "*Note: this section and the next aim to put you in a position to replicate\n",
        "    Pang et al.'s Naive Bayes results. However, your numerical results\n",
        "    will differ from theirs, as they used different data.*\n",
        "\n",
        "**You must write the Naive Bayes training and prediction code from\n",
        "scratch.** You will not be given credit for using off-the-shelf Machine\n",
        "Learning libraries.\n",
        "\n",
        "The data contains the text of the reviews, where each document consists\n",
        "of the sentences in the review, the sentiment of the review and an index\n",
        "(cv) that you will later use for cross-validation. The\n",
        "text has already been tokenised and POS-tagged for you. Your algorithm\n",
        "should read in the text, **lowercase it**, store the words and their\n",
        "frequencies in an appropriate data structure that allows for easy\n",
        "computation of the probabilities used in the Naive Bayes algorithm, and\n",
        "then make predictions for new instances.\n"
      ]
    },
    {
      "cell_type": "markdown",
      "metadata": {
        "id": "vEpyQSBSkb33"
      },
      "source": [
        "#### (Q2.1) Unseen words (1pt)\n",
        "The presence of words in the test dataset that\n",
        "have not been seen during training can cause probabilities in the Naive Bayes classifier to equal $0$.\n",
        "These can be words which are unseen in both positive and negative training reviews (case 1), but also words which are seen in reviews _of only one sentiment class_ in the training dataset (case 2). In both cases, **you should skip these words for both classes**.  What would be the problem instead with skipping words only for one class in case 2? "
      ]
    },
    {
      "cell_type": "markdown",
      "metadata": {
        "id": "BanFiYYnoxDW"
      },
      "source": [
        "Naive Bayes relies on the comparison of word distributions over different classes. If a word does not occur in one class, it has no distribution in that class and can therefore not be compared against the distribution in the other class. \n",
        "\n",
        "If you would still include the word, then this would lead to either:\n",
        "- you only add the log probability of that word to the total probability of the class where it occurs, but skip it for the class where it does not occur. Since these log probabilities are all negative, it would actually DECREASE the chance of the review belonging to that class\n",
        "- or you include a probability of 0 to the missing class, which leads to a total chance of 0 of that review belonging to that class (since we multiply probabilities).\n",
        "\n",
        "Both are not what we want, therefore we skip it. Which, by the way, is also not what we want, since realistically, nearly every word will occur sooner or later in every class, so it should have some distribution."
      ]
    },
    {
      "cell_type": "markdown",
      "metadata": {
        "id": "gsZRhaI3WvzC"
      },
      "source": [
        "#### (Q2.2) Train your classifier on (positive and negative) reviews with cv-value 000-899, and test it on the remaining (positive and negative) reviews cv900–cv999.  Report results using classification accuracy as your evaluation metric. Your  features are the word vocabulary. The value of a feature is the count of that feature (word) in the document. (2pts)\n"
      ]
    },
    {
      "cell_type": "code",
      "metadata": {
        "id": "G7zaJYGFvIJ3",
        "colab": {
          "base_uri": "https://localhost:8080/"
        },
        "outputId": "1a81a1b0-1fe4-4211-c79e-ffffb8322f5b"
      },
      "source": [
        "train = reviewsDF[reviewsDF['cv']<=899][['cv', 'sentiment', 'text', 'nr_tokens']]\n",
        "test = reviewsDF[(reviewsDF['cv']>=900)&(reviewsDF['cv']<=999)][['cv', 'sentiment', 'text', 'nr_tokens']]\n",
        "print(f\"length training set: {len(train)}, with {len(train[train['sentiment']=='POS'])} Positive reviews\")\n",
        "print(f\"length test set: {len(test)}, with {len(test[test['sentiment']=='POS'])} Positive reviews\")"
      ],
      "execution_count": 17,
      "outputs": [
        {
          "output_type": "stream",
          "name": "stdout",
          "text": [
            "length training set: 1800, with 900 Positive reviews\n",
            "length test set: 200, with 100 Positive reviews\n"
          ]
        }
      ]
    },
    {
      "cell_type": "code",
      "metadata": {
        "id": "B9u6-YezUc59"
      },
      "source": [
        "\"\"\"\n",
        "We start with creating two frequency dictionaries, one for words in the positive reviews, one for the negative ones.\n",
        "Of course, we only use the reviews in the training set, test set remains untouched. If a word is *not* in the \n",
        "training set, it is not in either dictionary. The text remains in its original form, except for making everything lowercase.\n",
        "Next, we create two probability dictionaries, that have these counts normalized and transformed to log likelihoods\n",
        "As a last step, the two priors are calculated.\n",
        "\"\"\"\n",
        "\n",
        "# step 1: create two dictionaries that only contain words from their own class:\n",
        "postexts = ''.join(train[train['sentiment']=='POS']['text'].str.lower()).split()\n",
        "lookup_POS = {t for t in postexts} # create a set to only have unique entries\n",
        "lookup_POS = {t:0 for t in lookup_POS} # change the set into a dictionary\n",
        "negtexts = ''.join(train[train['sentiment']=='NEG']['text'].str.lower()).split()\n",
        "lookup_NEG = {t for t in negtexts} \n",
        "lookup_NEG = {t:0 for t in lookup_NEG}\n",
        "\n",
        "# step 2: count the number of times these words occur in their own class only:\n",
        "for t in postexts:\n",
        "  lookup_POS[t] += 1\n",
        "for t in negtexts:\n",
        "  lookup_NEG[t] += 1\n",
        "\n",
        "# step 3: transform the counts into two new dictionaries with the normalized log-likelihoods per class:\n",
        "lookup_POSprob = dict(); lookup_NEGprob = dict()\n",
        "for word in lookup_POS:\n",
        "    lookup_POSprob[word] = np.log( lookup_POS[word] / (len(postexts)) ) \n",
        "for word in lookup_NEG:\n",
        "    lookup_NEGprob[word] = np.log( lookup_NEG[word] / (len(negtexts)) ) \n",
        "\n",
        "# step 4: create the two priors (both a probability)\n",
        "logprior_POS = np.log( len(train[train['sentiment']=='POS']) / len(train) )\n",
        "logprior_NEG = np.log( len(train[train['sentiment']=='NEG']) / len(train) )"
      ],
      "execution_count": 18,
      "outputs": []
    },
    {
      "cell_type": "code",
      "metadata": {
        "id": "K0H7mDFOLm2M"
      },
      "source": [
        "def calculate_class_prob_unsmoothed(text, lookup_POSprob=lookup_POSprob, lookup_NEGprob=lookup_NEGprob, \n",
        "                         logprior_POS=logprior_POS, logprior_NEG=logprior_NEG):\n",
        "  \"\"\"\n",
        "  A function to classify reviews into either a positive or a negative sentiment, based on premade\n",
        "  log probabilities per word and precalculated priors. It uses an unsmoothed version of\n",
        "  the Naive Bayes algorithm.\n",
        "\n",
        "  This function takes as input: \n",
        "  - raw text in string format\n",
        "  - two lookup dictionaries (one for each class) with normalized (natural) log probabilites for each word\n",
        "  - priors for both both classes (float format)\n",
        "\n",
        "  The function calculates the total likelihood of a text belonging to one of these two classes,\n",
        "  based on unsmoothed Naive Bayes. It returns a POS or NEG class prediction.\n",
        "  \"\"\"\n",
        "\n",
        "  prob_pos = logprior_POS; prob_neg = logprior_NEG\n",
        "  for token in text.split():\n",
        "    t=token.lower()\n",
        "    if t in lookup_POSprob and t in lookup_NEGprob: # only use tokens that occur in both classes (otherwise, skip this word)\n",
        "      prob_pos += lookup_POSprob[t]\n",
        "      prob_neg += lookup_NEGprob[t]\n",
        "    else:\n",
        "      continue\n",
        "      \n",
        "  if prob_pos > prob_neg:\n",
        "    return 'POS'\n",
        "  else:\n",
        "    return 'NEG'"
      ],
      "execution_count": 19,
      "outputs": []
    },
    {
      "cell_type": "code",
      "metadata": {
        "id": "qJ0zAjTuPI9b",
        "colab": {
          "base_uri": "https://localhost:8080/"
        },
        "outputId": "38dddb74-684c-4e54-8326-e2ce8b9516ec"
      },
      "source": [
        "# Predict the sentiment of the reviews in the testset\n",
        "test_predict = test['text'].apply(calculate_class_prob_unsmoothed)\n",
        "test_results=[]\n",
        "for true, predict in zip(test.sentiment,test_predict):\n",
        "  if true==predict:\n",
        "    test_results.append(1)\n",
        "  else:\n",
        "    test_results.append(0)\n",
        "accuracy=sum(test_results)/len(test_results)\n",
        "print(f\"Accuracy of unsmoothed Naive Bayes classification on test data: {accuracy}\")"
      ],
      "execution_count": 21,
      "outputs": [
        {
          "output_type": "stream",
          "name": "stdout",
          "text": [
            "Accuracy of unsmoothed Naive Bayes classification on test data: 0.83\n"
          ]
        }
      ]
    },
    {
      "cell_type": "markdown",
      "metadata": {
        "id": "0INK-PBoM6CB"
      },
      "source": [
        "#### (Q2.3) Would you consider accuracy to also be a good way to evaluate your classifier in a situation where 90% of your data instances are of positive movie reviews? (1pt)\n",
        "\n",
        "Simulate this scenario by keeping the positive reviews\n",
        "data unchanged, but only using negative reviews cv000–cv089 for\n",
        "training, and cv900–cv909 for testing. Calculate the classification\n",
        "accuracy, and explain what changed."
      ]
    },
    {
      "cell_type": "markdown",
      "metadata": {
        "id": "oFbcsYlipBAw"
      },
      "source": [
        "*Write your answer here.*\n",
        "The accuracy we obtained above is lower than 0.9. This means that if a classifier learns to predict every review as \"positive\", it will already have an accuracy of 90% and outperform our baseline. \n",
        "This means that a \"stupid\" algorithm can obtain a high accuracy; there is no need for the algorithm to learn. But the essence of Machine Learning is learning!\n",
        "This is the reason why we need other performance metrics for disbalanced classes. We better rely on metrics like the F1 score, or choose either precision or recall, depending on what kind of loss we want to minimize."
      ]
    },
    {
      "cell_type": "code",
      "metadata": {
        "id": "GWDkt5ZrrFGp",
        "colab": {
          "base_uri": "https://localhost:8080/"
        },
        "outputId": "6e908bb1-6ede-4960-c803-050ce9fa9df0"
      },
      "source": [
        "train2 = train[ ((train.sentiment=='NEG') & (train['cv']<=89)) | (train.sentiment=='POS') ].copy()\n",
        "print(f\"length of train2: {len(train2)}, with {len(train2[train2.sentiment=='POS'])} positive and {len(train2[train2.sentiment=='NEG'])} negative reviews\")\n",
        "test2 = test[ ((test.sentiment=='NEG') & (test.cv<=909)) | (test.sentiment=='POS') ].copy()\n",
        "print(f\"length of test2: {len(test2)}, with {len(test2[test2.sentiment=='POS'])} positive and {len(test2[test2.sentiment=='NEG'])} negative reviews\")"
      ],
      "execution_count": 22,
      "outputs": [
        {
          "output_type": "stream",
          "name": "stdout",
          "text": [
            "length of train2: 990, with 900 positive and 90 negative reviews\n",
            "length of test2: 110, with 100 positive and 10 negative reviews\n"
          ]
        }
      ]
    },
    {
      "cell_type": "code",
      "metadata": {
        "id": "ZEJyE9jvSAZU"
      },
      "source": [
        "# step 1: create two dictionaries that only contain words from their own class:\n",
        "postexts = ''.join(train2[train2['sentiment']=='POS']['text'].str.lower()).split()\n",
        "lookup_POS = {t for t in postexts} # create a set to only have unique entries\n",
        "lookup_POS = {t:0 for t in lookup_POS} # change the set into a dictionary\n",
        "negtexts = ''.join(train2[train2['sentiment']=='NEG']['text'].str.lower()).split()\n",
        "lookup_NEG = {t for t in negtexts}\n",
        "lookup_NEG = {t:0 for t in lookup_NEG} \n",
        "\n",
        "# step 2: fill the dictionaries with frequency counts of their own class' occurrence\n",
        "for t in postexts:\n",
        "  lookup_POS[t] += 1\n",
        "for t in negtexts:\n",
        "  lookup_NEG[t] += 1\n",
        "\n",
        "# step 3: transform the counts into two new dictionaries with the normalized log-likelihoods per class:\n",
        "lookup_POSprob = dict(); lookup_NEGprob = dict()\n",
        "for word in lookup_POS:\n",
        "    lookup_POSprob[word] = np.log( lookup_POS[word] / (len(postexts)) ) \n",
        "for word in lookup_NEG:\n",
        "    lookup_NEGprob[word] = np.log( lookup_NEG[word] / (len(negtexts)) ) \n",
        "\n",
        "# step 4: create the two priors (both a probability)\n",
        "logprior_POS = np.log( len(train2[train2['sentiment']=='POS']) / len(train2) )\n",
        "logprior_NEG = np.log( len(train2[train2['sentiment']=='NEG']) / len(train2) ) "
      ],
      "execution_count": 23,
      "outputs": []
    },
    {
      "cell_type": "code",
      "metadata": {
        "id": "7qpFxO9lSNOX",
        "colab": {
          "base_uri": "https://localhost:8080/",
          "height": 88
        },
        "outputId": "d69e73bd-235c-4c93-e151-5934a360e0d8"
      },
      "source": [
        "test2['predict_NB'] = test2['text'].apply(calculate_class_prob_unsmoothed)\n",
        "print(f\"Accuracy of unsmoothed Naive Bayes classification on disbalanced test data: {len(test2[test2.sentiment==test2.predict_unsmoothed_NB])/len(test2):.3f}\")\n",
        "\n",
        "# As it turns out, our NB classifier is not stupid, it has learned something. But using that learning on a disbalanced dataset does not do its\n",
        "# accuracy much good; its performance went down by 0.17.\n",
        "# Looking at what the algorithm does exactly, shows why it did not go for the easy \"everything positive\" prediction:\n",
        "# -1) when we transform the count dictionaries into probability dictionaries, we normalize by dividing by text length. \n",
        "# Since the length of all negative texts is much smaller than the length of all positive texts, the actual probabilities are not very different between the two classes, \n",
        "# if the underlying word counts are also not too different. \n",
        "# 2) Having so few negative examples means that the negative vocabulary also remains small. And this being an unsmoothed NB means that only this limited amount of\n",
        "# words is used for the comparison. A lot of these words will be words that are so common that they don't help to discern (like stop words). There is too little signal\n",
        "# left in the noise."
      ],
      "execution_count": null,
      "outputs": [
        {
          "output_type": "stream",
          "name": "stdout",
          "text": [
            "Accuracy of unsmoothed Naive Bayes classification on disbalanced test data: 0.773\n"
          ]
        },
        {
          "output_type": "execute_result",
          "data": {
            "application/vnd.google.colaboratory.intrinsic+json": {
              "type": "string"
            },
            "text/plain": [
              "'\\ndit klopt! Je hebt nl maar een hele kleine negative vocab en gebruikt alleen de woorden die in beide voorkomen, dus het grootste deel van wat je gebruikt is noise\\nEr zijn misschien een paar signaalwoorden voor negatieve teksten die toevallig ook een mention hebben in een positive tekst, maar dit is heel weinig signaal\\nSimone: het grote probleem waarom je classifier slecht performt is dat je hier nog geen smoothing doet. Bij smoothing krijg je hele andere uitkomsten.\\n\\n'"
            ]
          },
          "metadata": {},
          "execution_count": 21
        }
      ]
    },
    {
      "cell_type": "markdown",
      "metadata": {
        "id": "6wJzcHX3WUDm"
      },
      "source": [
        "## Smoothing (1pt)\n",
        "\n",
        "As mentioned above, the presence of words in the test dataset that\n",
        "have not been seen during training can cause probabilities in the Naive\n",
        "Bayes classifier to be $0$, thus making that particular test instance\n",
        "undecidable. The standard way to mitigate this effect (as well as to\n",
        "give more clout to rare words) is to use smoothing, in which the\n",
        "probability fraction\n",
        "$$\\frac{\\text{count}(w_i, c)}{\\sum\\limits_{w\\in V} \\text{count}(w, c)}$$ for a word\n",
        "$w_i$ becomes\n",
        "$$\\frac{\\text{count}(w_i, c) + \\text{smoothing}(w_i)}{\\sum\\limits_{w\\in V} \\text{count}(w, c) + \\sum\\limits_{w \\in V} \\text{smoothing}(w)}$$\n",
        "\n",
        "\n",
        "\n"
      ]
    },
    {
      "cell_type": "markdown",
      "metadata": {
        "id": "PBNIcbwUWphC"
      },
      "source": [
        "#### (Q2.4) Implement Laplace feature smoothing (1pt)\n",
        "Implement Laplace smoothing, i.e., smoothing with a constant value ($smoothing(w) = \\kappa, \\forall w \\in V$), in your Naive\n",
        "Bayes classifier’s code, and report the impact on performance. \n",
        "Use $\\kappa = 1$."
      ]
    },
    {
      "cell_type": "code",
      "metadata": {
        "id": "g03yflCc9kpW"
      },
      "source": [
        "train = reviewsDF[reviewsDF['cv']<=899][['cv', 'sentiment', 'text', 'nr_tokens']]\n",
        "test = reviewsDF[(reviewsDF['cv']>=900)&(reviewsDF['cv']<=999)][['cv', 'sentiment', 'text', 'nr_tokens']]\n",
        "\n",
        "\"\"\"\n",
        "We start with creating a full vocab of all tokens in the training set, with frequency set at 1,\n",
        "in order to enable comparisons over classes, giving them the same vocab size\n",
        "Next, we create two frequency dictionaries, one for words in the positive reviews, one for the negative ones.\n",
        "Finally, we create two probability dictionaries, that have these counts normalized and transformed to log likelihoods\n",
        "plus the two priors\n",
        "\"\"\"\n",
        "# step 1: instantiate two count dictionaries with all word counts set to 1\n",
        "vocab = {t for t in ' '.join(train['text'].str.lower()).split()}\n",
        "lookup_POS = {t:1 for t in vocab}; lookup_NEG = {t:1 for t in vocab}\n",
        "lookup_POS[\"UNK\"]=1; lookup_NEG[\"UNK\"]=1 # We add a key \"UNK\" to this dictionary with value 1\n",
        "\n",
        "# step 2: fill the two dictionaries with the word counts from the texts in their class:\n",
        "postexts = ''.join(train[train['sentiment']=='POS']['text'].str.lower()).split()\n",
        "for t in postexts:\n",
        "  lookup_POS[t] += 1\n",
        "negtexts = ''.join(train[train['sentiment']=='NEG']['text'].str.lower()).split()\n",
        "for t in negtexts:\n",
        "  lookup_NEG[t] += 1\n",
        "\n",
        "# step 3: create two new dictionaries with the normalized log-likelihoods of these counts per class:\n",
        "lookup_POSprob = dict(); lookup_NEGprob = dict()\n",
        "for word in lookup_POS:\n",
        "  lookup_POSprob[word] = np.log( lookup_POS[word] / (len(postexts)+len(vocab)) )\n",
        "for word in lookup_NEG:\n",
        "  lookup_NEGprob[word] = np.log( lookup_NEG[word] / (len(negtexts)+len(vocab)) )  \n",
        "\n",
        "# step 4: create the two priors (both a probability)\n",
        "logprior_POS = np.log( len(train[train['sentiment']=='POS']) / len(train) )\n",
        "logprior_NEG = np.log( len(train[train['sentiment']=='NEG']) / len(train) ) "
      ],
      "execution_count": 24,
      "outputs": []
    },
    {
      "cell_type": "code",
      "metadata": {
        "id": "Mj5vpbjyxnd6"
      },
      "source": [
        "def calculate_class_prob_smoothed(text, lookup_POSprob=lookup_POSprob, lookup_NEGprob=lookup_NEGprob, \n",
        "                         logprior_POS=logprior_POS, logprior_NEG=logprior_NEG):\n",
        "  \"\"\"\n",
        "  A function to classify reviews into either a positive or a negative sentiment, based on premade\n",
        "  log probabilities per word and precalculated priors. It uses an unsmoothed version of\n",
        "  the Naive Bayes algorithm.\n",
        "\n",
        "  This function takes as input: \n",
        "  - raw text in string format\n",
        "  - two lookup dictionaries (one for each class) with normalized (natural) log probabilites for each word\n",
        "  - log priors for both both classes (float format)\n",
        "\n",
        "  The function calculates the total likelihood of a text belonging to one of these two classes,\n",
        "  based on Naive Bayes with LaPlace smoothing. It returns a POS or NEG class prediction.\n",
        "  \"\"\"\n",
        "\n",
        "  prob_pos = logprior_POS; prob_neg = logprior_NEG\n",
        "  for token in text.split():\n",
        "    t=token.lower()\n",
        "    if t in lookup_POSprob: # if it is in one dictionary, it is also in the other\n",
        "      prob_pos += lookup_POSprob[t]\n",
        "      prob_neg += lookup_NEGprob[t]\n",
        "    else:\n",
        "      continue\n",
        "      \n",
        "  if prob_pos > prob_neg:\n",
        "    return 'POS'\n",
        "  else:\n",
        "    return 'NEG'"
      ],
      "execution_count": 33,
      "outputs": []
    },
    {
      "cell_type": "code",
      "metadata": {
        "id": "crB-AsPw1cG_",
        "colab": {
          "base_uri": "https://localhost:8080/"
        },
        "outputId": "2365b4f3-c0f0-4df9-8b90-3956bd7830de"
      },
      "source": [
        "test_predict = test['text'].apply(calculate_class_prob_smoothed)\n",
        "test_results=[]\n",
        "for true, predict in zip(test.sentiment,test_predict):\n",
        "  if true==predict:\n",
        "    test_results.append(1)\n",
        "  else:\n",
        "    test_results.append(0)\n",
        "print(f\"Accuracy of Naive Bayes classification with LaPlace smoothing on test data: {sum(test_results)/len(test_results)}\")"
      ],
      "execution_count": 34,
      "outputs": [
        {
          "output_type": "stream",
          "name": "stdout",
          "text": [
            "Accuracy of Naive Bayes classification with LaPlace smoothing on test data: 0.825\n"
          ]
        }
      ]
    },
    {
      "cell_type": "markdown",
      "metadata": {
        "id": "ZiGcgwba87D5"
      },
      "source": [
        "## Cross-Validation (1.5pts)\n",
        "\n",
        "A serious danger in using Machine Learning on small datasets, with many\n",
        "iterations of slightly different versions of the algorithms, is ending up with Type III errors, also called the “testing hypotheses\n",
        "suggested by the data” errors. This type of error occurs when we make\n",
        "repeated improvements to our classifiers by playing with features and\n",
        "their processing, but we don’t get a fresh, never-before seen test\n",
        "dataset every time. Thus, we risk developing a classifier that gets better\n",
        "and better on our data, but only gets worse at generalizing to new, unseen data. In other words, we risk developping a classifier that overfits.\n",
        "\n",
        "A simple method to guard against Type III errors is to use\n",
        "Cross-Validation. In **N-fold Cross-Validation**, we divide the data into N\n",
        "distinct chunks, or folds. Then, we repeat the experiment N times: each\n",
        "time holding out one of the folds for testing, training our classifier\n",
        "on the remaining N - 1 data folds, and reporting performance on the\n",
        "held-out fold. We can use different strategies for dividing the data:\n",
        "\n",
        "-   Consecutive splitting:\n",
        "  - cv000–cv099 = Split 1\n",
        "  - cv100–cv199 = Split 2\n",
        "  - etc.\n",
        "  \n",
        "-   Round-robin splitting (mod 10):\n",
        "  - cv000, cv010, cv020, … = Split 1\n",
        "  - cv001, cv011, cv021, … = Split 2\n",
        "  - etc.\n",
        "\n",
        "-   Random sampling/splitting\n",
        "  - Not used here (but you may choose to split this way in a non-educational situation)\n",
        "\n"
      ]
    },
    {
      "cell_type": "markdown",
      "metadata": {
        "id": "8OeLcbSauGtR"
      },
      "source": [
        "#### (Q2.5) Write the code to implement 10-fold cross-validation using round-robin splitting for your Naive Bayes classifier from Q2.4 and compute the 10 accuracies. Report the final performance, which is the average of the performances per fold. If all splits perform equally well, this is a good sign. (1pt)"
      ]
    },
    {
      "cell_type": "code",
      "metadata": {
        "id": "3KeCGPa7Nuzx",
        "colab": {
          "base_uri": "https://localhost:8080/"
        },
        "outputId": "bd166151-e2a3-4fd4-c092-d19bcee98bc7"
      },
      "source": [
        "accuracy_results = []\n",
        "NBdata = reviewsDF[['sentiment', 'text']]\n",
        "\n",
        "# Calculate log probabilities based on the training data\n",
        "for i in range(10):\n",
        "  val = NBdata[i::10]\n",
        "  train = NBdata[~NBdata.isin(val)].dropna()\n",
        "\n",
        "  alltext = {t for t in ' '.join(train['text'].str.lower()).split()}\n",
        "  lookup_POS = {t:1 for t in alltext}; lookup_NEG = {t:1 for t in alltext}\n",
        "  postexts = ''.join(train[train['sentiment']=='POS']['text'].str.lower()).split()\n",
        "  for t in postexts:\n",
        "    lookup_POS[t] += 1\n",
        "  negtexts = ''.join(train[train['sentiment']=='NEG']['text'].str.lower()).split()\n",
        "  for t in negtexts:\n",
        "    lookup_NEG[t] += 1\n",
        "  lookup_POSprobtrain = dict();   lookup_NEGprobtrain = dict()\n",
        "  for word in lookup_POS:\n",
        "    lookup_POSprobtrain[word] = np.log( lookup_POS[word] / (len(postexts)+len(alltext)) )\n",
        "  for word in lookup_NEG:\n",
        "    lookup_NEGprobtrain[word] = np.log( lookup_NEG[word] / (len(negtexts)+len(alltext)) )  \n",
        "  logprior_POStrain = np.log( len(train[train['sentiment']=='POS']) / len(train) )\n",
        "  logprior_NEGtrain = np.log( len(train[train['sentiment']=='NEG']) / len(train) )\n",
        "\n",
        "  # Calculate score for the held-out test set\n",
        "  val_predict = val['text'].apply(calculate_class_prob_smoothed, lookup_POSprob=lookup_POSprobtrain, lookup_NEGprob=lookup_NEGprobtrain, logprior_POS=logprior_POStrain, logprior_NEG=logprior_NEGtrain)\n",
        "  test_results=[]\n",
        "  for true, predict in zip(val.sentiment,val_predict):\n",
        "    if true==predict:\n",
        "      test_results.append(1)\n",
        "    else:\n",
        "      test_results.append(0)\n",
        "  print(f\"Accuracy of Naive Bayes classification (fold {i}): {sum(test_results)/len(test_results)}, with {sum(test_results)} correct\")\n",
        "  accuracy_results.append(sum(test_results)/len(test_results))"
      ],
      "execution_count": 35,
      "outputs": [
        {
          "output_type": "stream",
          "name": "stdout",
          "text": [
            "Accuracy of Naive Bayes classification (fold 0): 0.79, with 158 correct\n",
            "Accuracy of Naive Bayes classification (fold 1): 0.835, with 167 correct\n",
            "Accuracy of Naive Bayes classification (fold 2): 0.805, with 161 correct\n",
            "Accuracy of Naive Bayes classification (fold 3): 0.825, with 165 correct\n",
            "Accuracy of Naive Bayes classification (fold 4): 0.78, with 156 correct\n",
            "Accuracy of Naive Bayes classification (fold 5): 0.845, with 169 correct\n",
            "Accuracy of Naive Bayes classification (fold 6): 0.83, with 166 correct\n",
            "Accuracy of Naive Bayes classification (fold 7): 0.775, with 155 correct\n",
            "Accuracy of Naive Bayes classification (fold 8): 0.83, with 166 correct\n",
            "Accuracy of Naive Bayes classification (fold 9): 0.84, with 168 correct\n"
          ]
        }
      ]
    },
    {
      "cell_type": "markdown",
      "metadata": {
        "id": "otdlsDXBNyOa"
      },
      "source": [
        "#### (Q2.6) Report the variance of the 10 accuracy scores. (0.5pt)\n",
        "\n",
        "**Please report all future results using 10-fold cross-validation now\n",
        "(unless told to use the held-out test set).**"
      ]
    },
    {
      "cell_type": "code",
      "metadata": {
        "id": "ZoBQm1KuNzNR",
        "colab": {
          "base_uri": "https://localhost:8080/"
        },
        "outputId": "cc0f59c5-2d60-4161-90df-11c2f25245a6"
      },
      "source": [
        "print(f\"mean of 10-fold NB with smoothing: {np.mean(accuracy_results):.3f}, variance: {np.var(accuracy_results):.4f}\")\n",
        "print(f\"number of tokens in the last held-out training set: {len(alltext)}\")"
      ],
      "execution_count": 37,
      "outputs": [
        {
          "output_type": "stream",
          "name": "stdout",
          "text": [
            "mean of 10-fold NB with smoothing: 0.815, variance: 0.0006\n",
            "number of tokens in the last held-out training set: 45643\n"
          ]
        }
      ]
    },
    {
      "cell_type": "markdown",
      "metadata": {
        "id": "s6A2zX9_BRKm"
      },
      "source": [
        "## Features, overfitting, and the curse of dimensionality\n",
        "\n",
        "In the Bag-of-Words model, ideally we would like each distinct word in\n",
        "the text to be mapped to its own dimension in the output vector\n",
        "representation. However, real world text is messy, and we need to decide\n",
        "on what we consider to be a word. For example, is “`word`\" different\n",
        "from “`Word`\", from “`word`”, or from “`words`\"? Too strict a\n",
        "definition, and the number of features explodes, while our algorithm\n",
        "fails to learn anything generalisable. Too lax, and we risk destroying\n",
        "our learning signal. In the following section, you will learn about\n",
        "confronting the feature sparsity and the overfitting problems as they\n",
        "occur in NLP classification tasks."
      ]
    },
    {
      "cell_type": "markdown",
      "metadata": {
        "id": "EKK8FNt8VtcZ"
      },
      "source": [
        "### Stemming (1.5pts)\n",
        "\n",
        "To make your algorithm more robust, use stemming and hash different inflections of a word to the same feature in the BoW vector space. Please use the [Porter stemming\n",
        "    algorithm](http://www.nltk.org/howto/stem.html) from NLTK.\n",
        "\n"
      ]
    },
    {
      "cell_type": "code",
      "metadata": {
        "id": "ujU6oZk_UCBt"
      },
      "source": [
        "from nltk.stem.porter import *\n",
        "stemmer = PorterStemmer()"
      ],
      "execution_count": 38,
      "outputs": []
    },
    {
      "cell_type": "code",
      "metadata": {
        "id": "nUDs6iB1wygO"
      },
      "source": [
        "def calculate_class_prob_Porter(text, lookup_POSprob, lookup_NEGprob, \n",
        "                         logprior_POS, logprior_NEG):\n",
        "  \n",
        "  \"\"\"\n",
        "  A function to classify reviews into either a positive or a negative sentiment, based on premade\n",
        "  log probabilities per word and precalculated priors. It uses a smoothed version of\n",
        "  the Naive Bayes algorithm. As preprocessing, all tokens are lowercased and reduced to their Porter stem.\n",
        "\n",
        "  This function takes as input: \n",
        "  - text in string format\n",
        "  - two lookup dictionaries (one for each class) with normalized (natural) log probabilites for each word\n",
        "  - log priors for both both classes (float format)\n",
        "\n",
        "  The function calculates the total likelihood of a text belonging to one of these two classes. \n",
        "  It returns a POS or NEG class prediction.\n",
        "  \"\"\"\n",
        "\n",
        "  prob_pos = logprior_POS; prob_neg = logprior_NEG\n",
        "  tokenlist = [stemmer.stem(t.lower()) for t in text.split()]\n",
        "  for t in tokenlist:\n",
        "    if t in lookup_POSprob:\n",
        "      prob_pos += lookup_POSprob[t]\n",
        "      prob_neg += lookup_NEGprob[t]\n",
        "  if prob_pos > prob_neg:\n",
        "    return 'POS'\n",
        "  else:\n",
        "    return 'NEG'"
      ],
      "execution_count": 39,
      "outputs": []
    },
    {
      "cell_type": "markdown",
      "metadata": {
        "id": "6SrJ1BeLXTnk"
      },
      "source": [
        "#### (Q2.7): How does the performance of your classifier change when you use stemming on your training and test datasets? (1pt)\n",
        "Use cross-validation to evaluate the classifier. \n"
      ]
    },
    {
      "cell_type": "code",
      "metadata": {
        "colab": {
          "base_uri": "https://localhost:8080/"
        },
        "id": "_hhwsT3U0GCU",
        "outputId": "918e7df2-28eb-4135-9655-1952da594192"
      },
      "source": [
        "accuracy_results = []\n",
        "NBdata = reviewsDF[['sentiment', 'text']]\n",
        "\n",
        "for i in range(10):\n",
        "  val = NBdata[i::10].copy()\n",
        "  train = NBdata[~NBdata.isin(val)].dropna()\n",
        "\n",
        "  # Calculate log probabilities based on the training data\n",
        "  postexts = ''.join(train[train['sentiment']=='POS']['text'].str.lower()).split()\n",
        "  postexts = [stemmer.stem(t) for t in postexts]\n",
        "  negtexts = ''.join(train[train['sentiment']=='NEG']['text'].str.lower()).split()\n",
        "  negtexts = [stemmer.stem(t) for t in negtexts]\n",
        "  vocab = {t for t in postexts}\n",
        "  vocab.update({t for t in negtexts})\n",
        "  lookup_POS = {t:1 for t in vocab}; lookup_NEG = {t:1 for t in vocab}\n",
        "  for t in postexts:\n",
        "    lookup_POS[t] += 1\n",
        "  for t in negtexts:\n",
        "    lookup_NEG[t] += 1\n",
        "  lookup_POSprobtrain = dict(); lookup_NEGprobtrain = dict()\n",
        "  for word in lookup_POS:\n",
        "    lookup_POSprobtrain[word] = np.log( lookup_POS[word] / (len(postexts)+len(alltext)) )\n",
        "  for word in lookup_NEG:\n",
        "    lookup_NEGprobtrain[word] = np.log( lookup_NEG[word] / (len(negtexts)+len(alltext)) )  \n",
        "  logprior_POStrain = np.log( len(train[train['sentiment']=='POS']) / len(train) )\n",
        "  logprior_NEGtrain = np.log( len(train[train['sentiment']=='NEG']) / len(train) )\n",
        "\n",
        "  # Calculate score for the held-out test set\n",
        "  val_predict = val['text'].apply(calculate_class_prob_smoothed, lookup_POSprob=lookup_POSprobtrain, lookup_NEGprob=lookup_NEGprobtrain, logprior_POS=logprior_POStrain, logprior_NEG=logprior_NEGtrain)\n",
        "  test_results=[]\n",
        "  for true, predict in zip(val.sentiment,val_predict):\n",
        "    if true==predict:\n",
        "      test_results.append(1)\n",
        "    else:\n",
        "      test_results.append(0)\n",
        "  print(f\"Accuracy of Naive Bayes classification (fold {i}): {sum(test_results)/len(test_results)}, with {sum(test_results)} correct\")\n",
        "  accuracy_results.append(sum(test_results)/len(test_results)) "
      ],
      "execution_count": 40,
      "outputs": [
        {
          "output_type": "stream",
          "name": "stdout",
          "text": [
            "Accuracy of Naive Bayes classification (fold 0): 0.74, with 148 correct\n",
            "Accuracy of Naive Bayes classification (fold 1): 0.805, with 161 correct\n",
            "Accuracy of Naive Bayes classification (fold 2): 0.77, with 154 correct\n",
            "Accuracy of Naive Bayes classification (fold 3): 0.805, with 161 correct\n",
            "Accuracy of Naive Bayes classification (fold 4): 0.765, with 153 correct\n",
            "Accuracy of Naive Bayes classification (fold 5): 0.795, with 159 correct\n",
            "Accuracy of Naive Bayes classification (fold 6): 0.79, with 158 correct\n",
            "Accuracy of Naive Bayes classification (fold 7): 0.765, with 153 correct\n",
            "Accuracy of Naive Bayes classification (fold 8): 0.8, with 160 correct\n",
            "Accuracy of Naive Bayes classification (fold 9): 0.805, with 161 correct\n"
          ]
        }
      ]
    },
    {
      "cell_type": "code",
      "metadata": {
        "id": "SdeLoF1T56jD",
        "colab": {
          "base_uri": "https://localhost:8080/"
        },
        "outputId": "6436d610-d018-4746-c959-3ea43699a923"
      },
      "source": [
        "print(f\"mean of 10-fold NB with Porter Stemmer: {np.mean(accuracy_results):.3f}, variance: {np.var(accuracy_results):.4f}\")\n",
        "print(f\"number of tokens in the last held-out training set: {len(vocab)}\")"
      ],
      "execution_count": 41,
      "outputs": [
        {
          "output_type": "stream",
          "name": "stdout",
          "text": [
            "mean of 10-fold NB with Porter Stemmer: 0.784, variance: 0.0005\n",
            "number of tokens in the last held-out training set: 32668\n"
          ]
        }
      ]
    },
    {
      "cell_type": "markdown",
      "metadata": {
        "id": "JkDHVq_1XUVP"
      },
      "source": [
        "#### (Q2.8) What happens to the number of features (i.e., the size of the vocabulary) when using stemming as opposed to (Q2.4)? (0.5pt)\n",
        "Give actual numbers. You can use the held-out training set to determine these."
      ]
    },
    {
      "cell_type": "code",
      "metadata": {
        "id": "MA3vee5-rJyy",
        "colab": {
          "base_uri": "https://localhost:8080/"
        },
        "outputId": "909f1d5e-8c21-4458-d0f6-e9cea85f5fe8"
      },
      "source": [
        "print(f\"Number of different tokens in the last held-out training set with Porter stemmer: {len(vocab)}\")\n",
        "print(f\"Number of different tokens in the last held-out training set without Porter stemmer: {len(alltext)}\")\n",
        "print(f\"New set is {100*( (len(alltext)-len(vocab))/len(alltext) ):.2f}% smaller\")"
      ],
      "execution_count": 42,
      "outputs": [
        {
          "output_type": "stream",
          "name": "stdout",
          "text": [
            "Number of different tokens in the last held-out training set with Porter stemmer: 32668\n",
            "Number of different tokens in the last held-out training set without Porter stemmer: 45643\n",
            "New set is 28.43% smaller\n"
          ]
        }
      ]
    },
    {
      "cell_type": "markdown",
      "metadata": {
        "id": "SoazfxbNV5Lq"
      },
      "source": [
        "### N-grams (1.5pts)\n",
        "\n",
        "A simple way of retaining some of the word\n",
        "order information when using bag-of-words representations is to use **n-gram** features. \n",
        "\n",
        "\n",
        "\n",
        "\n"
      ]
    },
    {
      "cell_type": "markdown",
      "metadata": {
        "id": "OHjy3I7-qWiu"
      },
      "source": [
        "#### (Q2.9) Retrain your classifier from (Q2.4) using **unigrams+bigrams** and **unigrams+bigrams+trigrams** as features. (1pt)\n",
        "Report accuracy and compare it with that of the approaches you have previously implemented. You are allowed to use NLTK to build n-grams from sentences."
      ]
    },
    {
      "cell_type": "code",
      "metadata": {
        "id": "KpkRRSk_7NN3",
        "colab": {
          "base_uri": "https://localhost:8080/"
        },
        "outputId": "f76d72ec-3b15-40fa-f952-5efd80b99971"
      },
      "source": [
        "ngramdata = reviewsDF['text sentiment'.split()]\n",
        "\n",
        "# create ngram lists:\n",
        "ngramdata['unigrams']=[list(ngrams(txt.lower().split(),1)) for txt in ngramdata['text']]\n",
        "ngramdata['bigrams']=[list(ngrams(txt.lower().split(),2)) for txt in ngramdata['text']]\n",
        "ngramdata['trigrams']=[list(ngrams(txt.lower().split(),3)) for txt in ngramdata['text']]"
      ],
      "execution_count": 43,
      "outputs": [
        {
          "output_type": "stream",
          "name": "stderr",
          "text": [
            "/usr/local/lib/python3.7/dist-packages/ipykernel_launcher.py:4: SettingWithCopyWarning: \n",
            "A value is trying to be set on a copy of a slice from a DataFrame.\n",
            "Try using .loc[row_indexer,col_indexer] = value instead\n",
            "\n",
            "See the caveats in the documentation: https://pandas.pydata.org/pandas-docs/stable/user_guide/indexing.html#returning-a-view-versus-a-copy\n",
            "  after removing the cwd from sys.path.\n",
            "/usr/local/lib/python3.7/dist-packages/ipykernel_launcher.py:5: SettingWithCopyWarning: \n",
            "A value is trying to be set on a copy of a slice from a DataFrame.\n",
            "Try using .loc[row_indexer,col_indexer] = value instead\n",
            "\n",
            "See the caveats in the documentation: https://pandas.pydata.org/pandas-docs/stable/user_guide/indexing.html#returning-a-view-versus-a-copy\n",
            "  \"\"\"\n",
            "/usr/local/lib/python3.7/dist-packages/ipykernel_launcher.py:6: SettingWithCopyWarning: \n",
            "A value is trying to be set on a copy of a slice from a DataFrame.\n",
            "Try using .loc[row_indexer,col_indexer] = value instead\n",
            "\n",
            "See the caveats in the documentation: https://pandas.pydata.org/pandas-docs/stable/user_guide/indexing.html#returning-a-view-versus-a-copy\n",
            "  \n"
          ]
        }
      ]
    },
    {
      "cell_type": "code",
      "metadata": {
        "id": "OhySxajUcOIT"
      },
      "source": [
        "def create_prob_dicts(ngramlist_pos, ngramlist_neg, ngramset):\n",
        "  \"\"\"\n",
        "  function to create probability dictionaries\n",
        "  input is a list of ngram tuples per class + the set of ngrams over both classes\n",
        "  output is one dictionary per class with the log probability of each word in that class\n",
        "  the dictionaries are based on LaPlace smoothing (k=1)\n",
        "  \"\"\"\n",
        "  lookup_POS = {ngram:1 for ngram in ngramset}; lookup_NEG = {ngram:1 for ngram in ngramset}\n",
        "  ngramPOS_count = 0; ngramNEG_count = 0\n",
        "  full_ngram_length = len(ngramlist_pos)+len(ngramlist_neg)\n",
        "  prob_dictPOS=dict(); prob_dictNEG=dict()\n",
        "\n",
        "  for ngram in ngramlist_pos:\n",
        "      lookup_POS[ngram] += 1\n",
        "      ngramPOS_count += 1\n",
        "  for ngram in ngramlist_neg:\n",
        "      lookup_NEG[ngram] +=1\n",
        "      ngramNEG_count += 1\n",
        "  lookup_POS[\"UNK\"] = 1; lookup_NEG[\"UNK\"] = 1\n",
        "\n",
        "  for word in lookup_POS:\n",
        "    prob_dictPOS[word] = np.log( lookup_POS[word] / (ngramPOS_count+full_ngram_length))\n",
        "  for word in lookup_NEG:\n",
        "    prob_dictNEG[word] = np.log( lookup_NEG[word] / (ngramNEG_count+full_ngram_length))\n",
        "  \n",
        "  return prob_dictPOS, prob_dictNEG"
      ],
      "execution_count": 44,
      "outputs": []
    },
    {
      "cell_type": "code",
      "metadata": {
        "id": "HAYierhC9UEE"
      },
      "source": [
        "def calculate_class_prob_ngram(ngramlist, lookup_POSprob, lookup_NEGprob, \n",
        "                         logprior_POS, logprior_NEG):\n",
        "  \"\"\"\n",
        "  A function to classify reviews into either a positive or a negative sentiment, based on premade\n",
        "  log probabilities per word and precalculated priors. It uses a Laplace smoothed version of\n",
        "  the Naive Bayes algorithm. \n",
        "\n",
        "  This function takes as input: \n",
        "  - a list of ngrams of the review\n",
        "  - two lookup dictionaries (one for each class) with normalized (natural) log probabilites for each word\n",
        "  - priors for both negative and positive class (numeric value)\n",
        "  The function calculates a tuple with the summed log likelihood of a text belonging to each of these two classes.\n",
        "  \"\"\"\n",
        "  \n",
        "  prob_pos = logprior_POS; prob_neg = logprior_NEG\n",
        "  for ngram in ngramlist:\n",
        "    if ngram not in lookup_POSprob and ngram not in lookup_NEGprob:\n",
        "      prob_pos += lookup_POSprob[\"UNK\"]\n",
        "      prob_neg += lookup_NEGprob[\"UNK\"] \n",
        "    else:\n",
        "      prob_pos += lookup_POSprob[ngram]\n",
        "      prob_neg += lookup_NEGprob[ngram]\n",
        " \n",
        "  return prob_pos, prob_neg"
      ],
      "execution_count": 45,
      "outputs": []
    },
    {
      "cell_type": "code",
      "metadata": {
        "id": "qsCUm1CimpVa"
      },
      "source": [
        "def create_ngram_prediction(uniprobs,bigramprobs,trigramprobs,weights):\n",
        "  \"\"\"\n",
        "  This function creates a weighted prediction, where the user can define separate weights for each n-gram model\n",
        "  Input: \n",
        "  - tuples with probabilities for (positive,negative) sentiment for unigrams,bigrams and trigrams\n",
        "  - weights as an np.array (length 3) for unigram, bigram and trigram model\n",
        "  \"\"\"\n",
        "  totposarray = np.array([uniprobs[0],bigramprobs[0],trigramprobs[0]])\n",
        "  totpos = np.dot(weights,totposarray)\n",
        "  totnegarray = np.array([uniprobs[1],bigramprobs[1],trigramprobs[1]])\n",
        "  totneg = np.dot(weights,totnegarray)\n",
        "  if totpos>totneg:\n",
        "    return \"POS\"\n",
        "  else:\n",
        "    return \"NEG\""
      ],
      "execution_count": 46,
      "outputs": []
    },
    {
      "cell_type": "code",
      "metadata": {
        "colab": {
          "base_uri": "https://localhost:8080/"
        },
        "id": "qmcpTN_dXUzw",
        "outputId": "41cd4d65-adea-4aee-bb7b-1d23785f3e97"
      },
      "source": [
        "w1=np.array([1,1,0]); w2=np.array([1,1,1]); w3=np.array([1,5,10])\n",
        "w1_pred = []; w2_pred = []; w3_pred = []\n",
        "\n",
        "for i in range(10):\n",
        "  print(f\"processing fold {i+1} of 10\")\n",
        "  test = ngramdata[i::10].copy()\n",
        "  train = ngramdata[~ngramdata.isin(test)].dropna()\n",
        "\n",
        "  # create n-gram lists and their sets:\n",
        "  unigramset = set(); bigramset = set(); trigramset = set()\n",
        "  for unigramlist in train['unigrams']:\n",
        "    for unigram in unigramlist:\n",
        "      unigramset.add(unigram)\n",
        "  for bigramlist in train['bigrams']:\n",
        "    for bigram in bigramlist:\n",
        "      bigramset.add(bigram)\n",
        "  for trigramlist in train['trigrams']:\n",
        "    for trigram in trigramlist:\n",
        "      trigramset.add(trigram)\n",
        "  # create probability dictionaries\n",
        "  unigramlist_pos=[]; unigramlist_neg=[]\n",
        "  for unis in train[train.sentiment=='POS']['unigrams']:\n",
        "    unigramlist_pos.extend(unis)\n",
        "  for unis in train[train.sentiment=='NEG']['unigrams']:\n",
        "    unigramlist_neg.extend(unis)\n",
        "  bigramlist_pos=[]; bigramlist_neg=[]\n",
        "  for bis in train[train.sentiment=='POS']['bigrams']:\n",
        "    bigramlist_pos.extend(bis)\n",
        "  for bis in train[train.sentiment=='NEG']['bigrams']:\n",
        "    bigramlist_neg.extend(bis)\n",
        "  trigramlist_pos=[]; trigramlist_neg=[]\n",
        "  for tris in train[train.sentiment=='POS']['trigrams']:\n",
        "    trigramlist_pos.extend(tris)\n",
        "  for tris in train[train.sentiment=='NEG']['trigrams']:\n",
        "    trigramlist_neg.extend(tris)\n",
        "  lookup_POS1prob, lookup_NEG1prob = create_prob_dicts(unigramlist_pos, unigramlist_neg, unigramset)\n",
        "  lookup_POS2prob, lookup_NEG2prob = create_prob_dicts(bigramlist_pos, bigramlist_neg, bigramset)\n",
        "  lookup_POS3prob, lookup_NEG3prob = create_prob_dicts(trigramlist_pos, trigramlist_neg, trigramset)\n",
        "  logprior_POStrain = np.log( len(train[train['sentiment']=='POS']) / len(train) )\n",
        "  logprior_NEGtrain = np.log( len(train[train['sentiment']=='NEG']) / len(train) )\n",
        "\n",
        "  test['unigram_probs'] = test.apply(lambda row: calculate_class_prob_ngram(row.unigrams, lookup_POS1prob, lookup_NEG1prob, logprior_POStrain, logprior_NEGtrain), axis=1)\n",
        "  test['bigram_probs'] = test.apply(lambda row: calculate_class_prob_ngram(row.bigrams, lookup_POS2prob, lookup_NEG2prob, logprior_POStrain, logprior_NEGtrain), axis=1)\n",
        "  test['trigram_probs'] = test.apply(lambda row: calculate_class_prob_ngram(row.trigrams, lookup_POS3prob, lookup_NEG3prob, logprior_POStrain, logprior_NEGtrain), axis=1)\n",
        "  \n",
        "  val_predict = test.apply(lambda row: create_ngram_prediction(row.unigram_probs, row.bigram_probs, row.trigram_probs, weights=w1), axis=1)\n",
        "  test_results=[]\n",
        "  for true, predict in zip(test.sentiment,val_predict):\n",
        "    if true==predict:\n",
        "      test_results.append(1)\n",
        "    else:\n",
        "      test_results.append(0) \n",
        "  accuracy=sum(test_results)/len(test_results)\n",
        "  print(f\"accuracy based on unigrams and bigrams: {accuracy:.3f}\")\n",
        "  w1_pred.append(accuracy)\n",
        "  \n",
        "  val_predict = test.apply(lambda row: create_ngram_prediction(row.unigram_probs, row.bigram_probs, row.trigram_probs, weights=w2), axis=1)\n",
        "  test_results=[]\n",
        "  for true, predict in zip(test.sentiment,val_predict):\n",
        "    if true==predict:\n",
        "      test_results.append(1)\n",
        "    else:\n",
        "      test_results.append(0) \n",
        "  accuracy=sum(test_results)/len(test_results)\n",
        "  print(f\"accuracy based on unigrams, bigrams, trigrams: {accuracy:.3f}\")\n",
        "  w2_pred.append(accuracy)\n",
        "\n",
        "  val_predict = test.apply(lambda row: create_ngram_prediction(row.unigram_probs, row.bigram_probs, row.trigram_probs,weights=w3), axis=1)\n",
        "  test_results=[]\n",
        "  for true, predict in zip(test.sentiment,val_predict):\n",
        "    if true==predict:\n",
        "      test_results.append(1)\n",
        "    else:\n",
        "      test_results.append(0) \n",
        "  accuracy=sum(test_results)/len(test_results)\n",
        "  print(f\"accuracy based on weight w3: {accuracy:.3f}\")\n",
        "  w3_pred.append(accuracy)"
      ],
      "execution_count": 47,
      "outputs": [
        {
          "output_type": "stream",
          "name": "stdout",
          "text": [
            "processing fold 1 of 10\n",
            "accuracy based on unigrams and bigrams: 0.745\n",
            "accuracy based on unigrams, bigrams, trigrams: 0.770\n",
            "accuracy based on weight w3: 0.800\n",
            "processing fold 2 of 10\n",
            "accuracy based on unigrams and bigrams: 0.760\n",
            "accuracy based on unigrams, bigrams, trigrams: 0.800\n",
            "accuracy based on weight w3: 0.875\n",
            "processing fold 3 of 10\n",
            "accuracy based on unigrams and bigrams: 0.795\n",
            "accuracy based on unigrams, bigrams, trigrams: 0.835\n",
            "accuracy based on weight w3: 0.860\n",
            "processing fold 4 of 10\n",
            "accuracy based on unigrams and bigrams: 0.795\n",
            "accuracy based on unigrams, bigrams, trigrams: 0.850\n",
            "accuracy based on weight w3: 0.875\n",
            "processing fold 5 of 10\n",
            "accuracy based on unigrams and bigrams: 0.765\n",
            "accuracy based on unigrams, bigrams, trigrams: 0.815\n",
            "accuracy based on weight w3: 0.820\n",
            "processing fold 6 of 10\n",
            "accuracy based on unigrams and bigrams: 0.785\n",
            "accuracy based on unigrams, bigrams, trigrams: 0.840\n",
            "accuracy based on weight w3: 0.900\n",
            "processing fold 7 of 10\n",
            "accuracy based on unigrams and bigrams: 0.805\n",
            "accuracy based on unigrams, bigrams, trigrams: 0.835\n",
            "accuracy based on weight w3: 0.860\n",
            "processing fold 8 of 10\n",
            "accuracy based on unigrams and bigrams: 0.750\n",
            "accuracy based on unigrams, bigrams, trigrams: 0.815\n",
            "accuracy based on weight w3: 0.840\n",
            "processing fold 9 of 10\n",
            "accuracy based on unigrams and bigrams: 0.795\n",
            "accuracy based on unigrams, bigrams, trigrams: 0.825\n",
            "accuracy based on weight w3: 0.890\n",
            "processing fold 10 of 10\n",
            "accuracy based on unigrams and bigrams: 0.780\n",
            "accuracy based on unigrams, bigrams, trigrams: 0.810\n",
            "accuracy based on weight w3: 0.845\n"
          ]
        }
      ]
    },
    {
      "cell_type": "code",
      "metadata": {
        "colab": {
          "base_uri": "https://localhost:8080/"
        },
        "id": "3ddq9Va0mc3i",
        "outputId": "321734fc-1d1b-4258-94e9-d50ee3d76e19"
      },
      "source": [
        "print(f\"mean of 10-fold NB unigrams and bigrams: {np.mean(w1_pred):.3f}, variance: {np.var(w1_pred):.4f}\")\n",
        "print(f\"mean of 10-fold NB unigrams, bigrams and trigrams: {np.mean(w2_pred):.3f}, variance: {np.var(w2_pred):.4f}\")\n",
        "print(f\"mean of 10-fold NB of [1,5,10] weighted model: {np.mean(w3_pred):.3f}, variance: {np.var(w3_pred):.4f}\")\n",
        "\n",
        "# So we see that trigrams add considerably to the predictive power of the model. More context helps!"
      ],
      "execution_count": 48,
      "outputs": [
        {
          "output_type": "stream",
          "name": "stdout",
          "text": [
            "mean of 10-fold NB unigrams and bigrams: 0.778, variance: 0.0004\n",
            "mean of 10-fold NB unigrams, bigrams and trigrams: 0.820, variance: 0.0005\n",
            "mean of 10-fold NB of [1,5,10] weighted model: 0.856, variance: 0.0009\n"
          ]
        }
      ]
    },
    {
      "cell_type": "code",
      "metadata": {
        "id": "XRz1snwmcOIp"
      },
      "source": [
        ""
      ],
      "execution_count": null,
      "outputs": []
    },
    {
      "cell_type": "markdown",
      "metadata": {
        "id": "dVrGGArkrWoL"
      },
      "source": [
        "\n",
        "#### Q2.10: How many features does the BoW model have to take into account now? (0.5pt)\n",
        "How would you expect the number of features to increase theoretically (e.g., linear, square, cubed, exponential)? How does this number compare, in practice, to the number of features at (Q2.8)?\n",
        "\n",
        "Use the held-out training set once again for this.\n"
      ]
    },
    {
      "cell_type": "markdown",
      "metadata": {
        "id": "yEGZ9SV8pPaa"
      },
      "source": [
        "*Write your answer here.*\n",
        "\n",
        "Features is the same as the number of unique ngram elements we use in our model. So, in the case of the unigram+bigram model, the number of features is the number of elements in the unigram set, plus the number of elements in the bigram set.\n",
        "\n",
        "The maximum theoretical number of elements in the unigram set is the length of the full vocabulary (over both classes), which can only be reached in the very unlikely case that every token is different. \n",
        "Calculation: len(unigrams) / len(vocab)\n",
        "\n",
        "The maximum theoretical number of elements in the bigram set is unigram^2, which can only be reached in the very unlikely case that every unigram forms a combination with every other unigram (including itself). \n",
        "Calculation: len(bigrams) / (len(unigrams)^2)\n",
        "\n",
        "The maximum theoretical number of elements in the trigram set is unigram^3, which can only be reached in the very unlikely case that every unigram forms a combination with every other possible pair of unigrams (including three times itself). \n",
        "Calculation: len(trigrams) / (len(unigrams)^3)"
      ]
    },
    {
      "cell_type": "code",
      "metadata": {
        "id": "_z8sAJeUrdtM",
        "colab": {
          "base_uri": "https://localhost:8080/"
        },
        "outputId": "985311a1-dff2-463d-9880-5acaf194cec7"
      },
      "source": [
        "len_alltext = len(' '.join(train['text']).split())\n",
        "print(f\"number of unique tokens as percentage of total tokens: {((len(unigramset)/len_alltext)*100):.2f}%\")\n",
        "print(f\"number of unique bigrams as percentage of theoretical maximum: {(len(bigramset)/(len(unigramset)**2)*100):.2f}%\")\n",
        "print(f\"number of unique trigrams as percentage of theoretical maximum: {(len(trigramset)/(len(unigramset)**3)*100):.3f}%\")"
      ],
      "execution_count": 49,
      "outputs": [
        {
          "output_type": "stream",
          "name": "stdout",
          "text": [
            "number of unique tokens as percentage of total tokens: 3.35%\n",
            "number of unique bigrams as percentage of theoretical maximum: 0.02%\n",
            "number of unique trigrams as percentage of theoretical maximum: 0.000%\n"
          ]
        }
      ]
    },
    {
      "cell_type": "markdown",
      "metadata": {
        "id": "CHWKDL3YV6vh"
      },
      "source": [
        "# Support Vector Machines (4pts)"
      ]
    },
    {
      "cell_type": "markdown",
      "metadata": {
        "id": "hJSYhcVaoJGt"
      },
      "source": [
        "Though simple to understand, implement, and debug, one\n",
        "major problem with the Naive Bayes classifier is that its performance\n",
        "deteriorates (becomes skewed) when it is being used with features which\n",
        "are not independent (i.e., are correlated). Another popular classifier\n",
        "that doesn’t scale as well to big data, and is not as simple to debug as\n",
        "Naive Bayes, but that doesn’t assume feature independence is the Support\n",
        "Vector Machine (SVM) classifier.\n",
        "\n",
        "You can find more details about SVMs in Chapter 7 of Bishop: Pattern Recognition and Machine Learning.\n",
        "Other sources for learning SVM:\n",
        "* http://web.mit.edu/zoya/www/SVM.pdf\n",
        "* http://www.cs.columbia.edu/~kathy/cs4701/documents/jason_svm_tutorial.pdf\n",
        "* https://pythonprogramming.net/support-vector-machine-intro-machine-learning-tutorial/\n",
        "\n",
        "\n",
        "\n",
        "\n",
        "\n",
        "\n",
        "\n",
        "Use the scikit-learn implementation of \n",
        "[SVM](http://scikit-learn.org/stable/modules/svm.html) with the default parameters. (You are not expected to perform any hyperparameter tuning, but feel free to do it if you think it gives you good insights for the discussion in question 5.)\n",
        "\n"
      ]
    },
    {
      "cell_type": "markdown",
      "metadata": {
        "id": "0LnzNtQBV8gr"
      },
      "source": [
        "#### (Q3.1): Train SVM and compare to Naive Bayes (2pts)\n",
        "\n",
        "Train an SVM classifier (sklearn.svm.LinearSVC) using the features collected for Naive Bayes. Compare the\n",
        "classification performance of the SVM classifier to that of the Naive\n",
        "Bayes classifier with smoothing.\n",
        "Use cross-validation to evaluate the performance of the classifiers.\n",
        "\n"
      ]
    },
    {
      "cell_type": "code",
      "metadata": {
        "id": "4IYmi7d6d2of"
      },
      "source": [
        "from sklearn.feature_extraction.text import CountVectorizer, TfidfVectorizer\n",
        "from sklearn.svm import LinearSVC\n",
        "import warnings\n",
        "warnings.filterwarnings('ignore')"
      ],
      "execution_count": 50,
      "outputs": []
    },
    {
      "cell_type": "code",
      "metadata": {
        "id": "6_4Vt2wX7xNa",
        "colab": {
          "base_uri": "https://localhost:8080/"
        },
        "outputId": "58efbf20-6d77-4ff2-f653-ed79a0313104"
      },
      "source": [
        "SVMdata = reviewsDF[['sentiment', 'text']]\n",
        "cv = CountVectorizer(); tfidf = TfidfVectorizer()\n",
        "svm_CVresults = []; svm_TFIDFresults = []\n",
        "\n",
        "for i in range(10):\n",
        "  val = SVMdata[i::10].copy()\n",
        "  train = SVMdata[~SVMdata.isin(val)].dropna()\n",
        "\n",
        "  X_train = train[['text']]\n",
        "  y_train = train['sentiment'] # check of het [] of [[]] moet zijn\n",
        "  X_train_counts = cv.fit_transform(X_train['text'].str.lower())\n",
        "  X_train_TFIDF = tfidf.fit_transform(X_train['text'].str.lower())\n",
        "  svmCV = LinearSVC().fit(X_train_counts,y_train)\n",
        "  svmTFIDF = LinearSVC().fit(X_train_TFIDF, y_train)\n",
        "\n",
        "  X_val = val[['text']]\n",
        "  y_val = val['sentiment']\n",
        "  X_val_counts = cv.transform(X_val['text'].str.lower())\n",
        "  X_val_TFIDF = tfidf.transform(X_val['text'].str.lower())\n",
        "  y_val_predictCV = svmCV.predict(X_val_counts)\n",
        "  y_val_predictTFIDF = svmTFIDF.predict(X_val_TFIDF)\n",
        "\n",
        "  test_results=[]\n",
        "  for true, predict in zip(y_val,y_val_predictCV):\n",
        "    if true==predict:\n",
        "      test_results.append(1)\n",
        "    else:\n",
        "      test_results.append(0)\n",
        "  print(f\"Accuracy of SVM classification with CountVectorizer: {sum(test_results)/len(test_results)}\")\n",
        "  svm_CVresults.append(sum(test_results)/len(test_results))\n",
        "\n",
        "  test_results=[]\n",
        "  for true, predict in zip(y_val,y_val_predictTFIDF):\n",
        "    if true==predict:\n",
        "      test_results.append(1)\n",
        "    else:\n",
        "      test_results.append(0)\n",
        "  print(f\"Accuracy of SVM classification with TF_IDF Vectorizer: {sum(test_results)/len(test_results)}\")\n",
        "  svm_TFIDFresults.append(sum(test_results)/len(test_results))"
      ],
      "execution_count": 51,
      "outputs": [
        {
          "output_type": "stream",
          "name": "stdout",
          "text": [
            "Accuracy of SVM classification with CountVectorizer: 0.815\n",
            "Accuracy of SVM classification with TF_IDF Vectorizer: 0.835\n",
            "Accuracy of SVM classification with CountVectorizer: 0.815\n",
            "Accuracy of SVM classification with TF_IDF Vectorizer: 0.86\n",
            "Accuracy of SVM classification with CountVectorizer: 0.805\n",
            "Accuracy of SVM classification with TF_IDF Vectorizer: 0.855\n",
            "Accuracy of SVM classification with CountVectorizer: 0.855\n",
            "Accuracy of SVM classification with TF_IDF Vectorizer: 0.87\n",
            "Accuracy of SVM classification with CountVectorizer: 0.845\n",
            "Accuracy of SVM classification with TF_IDF Vectorizer: 0.85\n",
            "Accuracy of SVM classification with CountVectorizer: 0.835\n",
            "Accuracy of SVM classification with TF_IDF Vectorizer: 0.88\n",
            "Accuracy of SVM classification with CountVectorizer: 0.865\n",
            "Accuracy of SVM classification with TF_IDF Vectorizer: 0.86\n",
            "Accuracy of SVM classification with CountVectorizer: 0.84\n",
            "Accuracy of SVM classification with TF_IDF Vectorizer: 0.855\n",
            "Accuracy of SVM classification with CountVectorizer: 0.855\n",
            "Accuracy of SVM classification with TF_IDF Vectorizer: 0.875\n",
            "Accuracy of SVM classification with CountVectorizer: 0.81\n",
            "Accuracy of SVM classification with TF_IDF Vectorizer: 0.84\n"
          ]
        }
      ]
    },
    {
      "cell_type": "code",
      "metadata": {
        "colab": {
          "base_uri": "https://localhost:8080/"
        },
        "id": "IDMYuYg_tvdm",
        "outputId": "f05e929e-1e0e-486c-84c2-07b743e702ae"
      },
      "source": [
        "print(f\"Mean accuracy of Linear SVC with CountVectorizer: {np.mean(svm_CVresults)}\")\n",
        "print(f\"Mean accuracy of Linear SVC with TF_IDF Vectorizer: {np.mean(svm_TFIDFresults)}\")"
      ],
      "execution_count": 52,
      "outputs": [
        {
          "output_type": "stream",
          "name": "stdout",
          "text": [
            "Mean accuracy of Linear SVC with CountVectorizer: 0.834\n",
            "Mean accuracy of Linear SVC with TF_IDF Vectorizer: 0.858\n"
          ]
        }
      ]
    },
    {
      "cell_type": "markdown",
      "metadata": {
        "id": "ifXVWcK0V9qY"
      },
      "source": [
        "### POS disambiguation (2pts)\n",
        "\n",
        "Now add in part-of-speech features. You will find the\n",
        "movie review dataset has already been POS-tagged for you ([here](https://catalog.ldc.upenn.edu/docs/LDC99T42/tagguid1.pdf) you find the tagset). Try to\n",
        "replicate the results obtained by Pang et al. (2002).\n",
        "\n"
      ]
    },
    {
      "cell_type": "markdown",
      "metadata": {
        "id": "xA3I82o4oWGu"
      },
      "source": [
        "####(Q3.2) Replace your features with word+POS features, and report performance with the SVM. Use cross-validation to evaluate the classifier and compare the results with (Q3.1). Does part-of-speech information help? Explain why this may be the case. (1pt)\n"
      ]
    },
    {
      "cell_type": "code",
      "metadata": {
        "colab": {
          "base_uri": "https://localhost:8080/"
        },
        "id": "Ci6eSq0eJs1Z",
        "outputId": "b454f7ee-62e1-4251-90ea-17a439163033"
      },
      "source": [
        "SVMdata = reviewsDF[['sentiment', 'word_POS']]\n",
        "cv = CountVectorizer(); tfidf = TfidfVectorizer()\n",
        "svm_CVresults = []; svm_TFIDFresults = []\n",
        "\n",
        "for i in range(10):\n",
        "  val = SVMdata[i::10].copy()\n",
        "  train = SVMdata[~SVMdata.isin(val)].dropna()\n",
        "\n",
        "  X_train = train[['word_POS']]\n",
        "  y_train = train['sentiment'] # check of het [] of [[]] moet zijn\n",
        "  X_train_counts = cv.fit_transform(X_train['word_POS'].str.lower())\n",
        "  X_train_TFIDF = tfidf.fit_transform(X_train['word_POS'].str.lower())\n",
        "  svmCV = LinearSVC().fit(X_train_counts,y_train)\n",
        "  svmTFIDF = LinearSVC().fit(X_train_TFIDF, y_train)\n",
        "\n",
        "  X_val = val[['word_POS']]\n",
        "  y_val = val['sentiment']\n",
        "  X_val_counts = cv.transform(X_val['word_POS'].str.lower())\n",
        "  X_val_TFIDF = tfidf.transform(X_val['word_POS'].str.lower())\n",
        "  y_val_predictCV = svmCV.predict(X_val_counts)\n",
        "  y_val_predictTFIDF = svmTFIDF.predict(X_val_TFIDF)\n",
        "\n",
        "  test_results=[]\n",
        "  for true, predict in zip(y_val,y_val_predictCV):\n",
        "    if true==predict:\n",
        "      test_results.append(1)\n",
        "    else:\n",
        "      test_results.append(0)\n",
        "  print(f\"Accuracy of SVM classification with CountVectorizer: {sum(test_results)/len(test_results)}\")\n",
        "  svm_CVresults.append(sum(test_results)/len(test_results))\n",
        "\n",
        "  test_results=[]\n",
        "  for true, predict in zip(y_val,y_val_predictTFIDF):\n",
        "    if true==predict:\n",
        "      test_results.append(1)\n",
        "    else:\n",
        "      test_results.append(0)\n",
        "  print(f\"Accuracy of SVM classification with TF_IDF Vectorizer: {sum(test_results)/len(test_results)}\")\n",
        "  svm_TFIDFresults.append(sum(test_results)/len(test_results))"
      ],
      "execution_count": 53,
      "outputs": [
        {
          "output_type": "stream",
          "name": "stdout",
          "text": [
            "Accuracy of SVM classification with CountVectorizer: 0.82\n",
            "Accuracy of SVM classification with TF_IDF Vectorizer: 0.835\n",
            "Accuracy of SVM classification with CountVectorizer: 0.825\n",
            "Accuracy of SVM classification with TF_IDF Vectorizer: 0.855\n",
            "Accuracy of SVM classification with CountVectorizer: 0.835\n",
            "Accuracy of SVM classification with TF_IDF Vectorizer: 0.84\n",
            "Accuracy of SVM classification with CountVectorizer: 0.85\n",
            "Accuracy of SVM classification with TF_IDF Vectorizer: 0.86\n",
            "Accuracy of SVM classification with CountVectorizer: 0.835\n",
            "Accuracy of SVM classification with TF_IDF Vectorizer: 0.865\n",
            "Accuracy of SVM classification with CountVectorizer: 0.835\n",
            "Accuracy of SVM classification with TF_IDF Vectorizer: 0.865\n",
            "Accuracy of SVM classification with CountVectorizer: 0.855\n",
            "Accuracy of SVM classification with TF_IDF Vectorizer: 0.87\n",
            "Accuracy of SVM classification with CountVectorizer: 0.86\n",
            "Accuracy of SVM classification with TF_IDF Vectorizer: 0.855\n",
            "Accuracy of SVM classification with CountVectorizer: 0.85\n",
            "Accuracy of SVM classification with TF_IDF Vectorizer: 0.885\n",
            "Accuracy of SVM classification with CountVectorizer: 0.83\n",
            "Accuracy of SVM classification with TF_IDF Vectorizer: 0.83\n"
          ]
        }
      ]
    },
    {
      "cell_type": "code",
      "metadata": {
        "colab": {
          "base_uri": "https://localhost:8080/"
        },
        "id": "LP-GhsgfKCcB",
        "outputId": "0c0c837d-1029-466a-ef91-ca9a143bd530"
      },
      "source": [
        "print(f\"Mean accuracy of Linear SVC with POS disambiguation and CountVectorizer: {np.mean(svm_CVresults):.3f}\")\n",
        "print(f\"Mean accuracy of Linear SVC with disambiguation and TF_IDF Vectorizer: {np.mean(svm_TFIDFresults):.3f}\")"
      ],
      "execution_count": 54,
      "outputs": [
        {
          "output_type": "stream",
          "name": "stdout",
          "text": [
            "Mean accuracy of Linear SVC with POS disambiguation and CountVectorizer: 0.839\n",
            "Mean accuracy of Linear SVC with disambiguation and TF_IDF Vectorizer: 0.856\n"
          ]
        }
      ]
    },
    {
      "cell_type": "markdown",
      "metadata": {
        "id": "L0dt_oQupUNe"
      },
      "source": [
        "*Write your answer here.*\n",
        "\n",
        "We see that the accuracies are more or less the same as those in 3.1. This is surprising, since - as Pang et al also point out - a word like \"love\" can have different meanings, where its meaning as a Verb is expected to be related to positive reviews and its meaning as a Noun is more neutral."
      ]
    },
    {
      "cell_type": "markdown",
      "metadata": {
        "id": "Su-3w87eMW0w"
      },
      "source": [
        "#### (Q3.3) Discard all closed-class words from your data (keep only nouns, verbs, adjectives, and adverbs), and report performance. Does this help? Use cross-validation to evaluate the classifier and compare the results with (Q3.2). Are closed-class words detrimental to the classifier? Explain why this may be the case. (1pt)"
      ]
    },
    {
      "cell_type": "code",
      "metadata": {
        "id": "CCUPlPozCYUX",
        "colab": {
          "base_uri": "https://localhost:8080/"
        },
        "outputId": "29493ed0-0660-4404-eb00-132fdd388f14"
      },
      "source": [
        "# First, create a set of all tags that are allowed:\n",
        "allowed = set()\n",
        "for i in range(len(reviewsDF)):\n",
        "  for sent in reviewsDF['content'][i]:\n",
        "    for combi in sent:\n",
        "      POS = combi[1]\n",
        "      if POS.startswith('NN'):\n",
        "        allowed.add(POS)\n",
        "      if POS.startswith('VB'):\n",
        "        allowed.add(POS)\n",
        "      if POS.startswith('JJ'):\n",
        "        allowed.add(POS)\n",
        "      if POS.startswith('RB'):\n",
        "        allowed.add(POS)\n",
        "print(allowed)"
      ],
      "execution_count": 58,
      "outputs": [
        {
          "output_type": "stream",
          "name": "stdout",
          "text": [
            "{'VBD', 'VBG', 'VB', 'NNP', 'NN', 'RB', 'RBR', 'JJS', 'JJR', 'RBS', 'VBZ', 'NNS', 'JJ', 'VBN', 'VBP', 'NNPS'}\n"
          ]
        }
      ]
    },
    {
      "cell_type": "code",
      "metadata": {
        "id": "FwaYkbaG3Yn4"
      },
      "source": [
        "def content_to_POStext2(content):\n",
        "  text = ''\n",
        "  for sent in content:\n",
        "    for combi in sent:\n",
        "      if combi[1] in allowed:\n",
        "        word = combi[0]+'_'+combi[1]\n",
        "        text = text+' '+word\n",
        "  return text\n",
        "reviewsDF['word_POS2'] = reviewsDF['content'].apply(content_to_POStext2) "
      ],
      "execution_count": 59,
      "outputs": []
    },
    {
      "cell_type": "code",
      "metadata": {
        "colab": {
          "base_uri": "https://localhost:8080/"
        },
        "id": "2lGKVRWDKelJ",
        "outputId": "65c70859-3860-442d-cc2b-c2af5f9acdc1"
      },
      "source": [
        "SVMdata = reviewsDF[['sentiment', 'word_POS2']]\n",
        "cv = CountVectorizer(); tfidf = TfidfVectorizer()\n",
        "svm_CVresults = []; svm_TFIDFresults = []\n",
        "\n",
        "for i in range(10):\n",
        "  val = SVMdata[i::10].copy()\n",
        "  train = SVMdata[~SVMdata.isin(val)].dropna()\n",
        "\n",
        "  X_train = train[['word_POS2']]\n",
        "  y_train = train['sentiment'] # check of het [] of [[]] moet zijn\n",
        "  X_train_counts = cv.fit_transform(X_train['word_POS2'].str.lower())\n",
        "  X_train_TFIDF = tfidf.fit_transform(X_train['word_POS2'].str.lower())\n",
        "  svmCV = LinearSVC().fit(X_train_counts,y_train)\n",
        "  svmTFIDF = LinearSVC().fit(X_train_TFIDF, y_train)\n",
        "\n",
        "  X_val = val[['word_POS2']]\n",
        "  y_val = val['sentiment']\n",
        "  X_val_counts = cv.transform(X_val['word_POS2'].str.lower())\n",
        "  X_val_TFIDF = tfidf.transform(X_val['word_POS2'].str.lower())\n",
        "  y_val_predictCV = svmCV.predict(X_val_counts)\n",
        "  y_val_predictTFIDF = svmTFIDF.predict(X_val_TFIDF)\n",
        "\n",
        "  test_results=[]\n",
        "  for true, predict in zip(y_val,y_val_predictCV):\n",
        "    if true==predict:\n",
        "      test_results.append(1)\n",
        "    else:\n",
        "      test_results.append(0)\n",
        "  print(f\"Accuracy of SVM classification with CountVectorizer: {sum(test_results)/len(test_results)}\")\n",
        "  svm_CVresults.append(sum(test_results)/len(test_results))\n",
        "\n",
        "  test_results=[]\n",
        "  for true, predict in zip(y_val,y_val_predictTFIDF):\n",
        "    if true==predict:\n",
        "      test_results.append(1)\n",
        "    else:\n",
        "      test_results.append(0)\n",
        "  print(f\"Accuracy of SVM classification with TF_IDF Vectorizer: {sum(test_results)/len(test_results)}\")\n",
        "  svm_TFIDFresults.append(sum(test_results)/len(test_results))"
      ],
      "execution_count": 60,
      "outputs": [
        {
          "output_type": "stream",
          "name": "stdout",
          "text": [
            "Accuracy of SVM classification with CountVectorizer: 0.835\n",
            "Accuracy of SVM classification with TF_IDF Vectorizer: 0.85\n",
            "Accuracy of SVM classification with CountVectorizer: 0.835\n",
            "Accuracy of SVM classification with TF_IDF Vectorizer: 0.85\n",
            "Accuracy of SVM classification with CountVectorizer: 0.825\n",
            "Accuracy of SVM classification with TF_IDF Vectorizer: 0.83\n",
            "Accuracy of SVM classification with CountVectorizer: 0.835\n",
            "Accuracy of SVM classification with TF_IDF Vectorizer: 0.865\n",
            "Accuracy of SVM classification with CountVectorizer: 0.855\n",
            "Accuracy of SVM classification with TF_IDF Vectorizer: 0.885\n",
            "Accuracy of SVM classification with CountVectorizer: 0.825\n",
            "Accuracy of SVM classification with TF_IDF Vectorizer: 0.87\n",
            "Accuracy of SVM classification with CountVectorizer: 0.885\n",
            "Accuracy of SVM classification with TF_IDF Vectorizer: 0.895\n",
            "Accuracy of SVM classification with CountVectorizer: 0.855\n",
            "Accuracy of SVM classification with TF_IDF Vectorizer: 0.865\n",
            "Accuracy of SVM classification with CountVectorizer: 0.85\n",
            "Accuracy of SVM classification with TF_IDF Vectorizer: 0.88\n",
            "Accuracy of SVM classification with CountVectorizer: 0.835\n",
            "Accuracy of SVM classification with TF_IDF Vectorizer: 0.835\n"
          ]
        }
      ]
    },
    {
      "cell_type": "code",
      "metadata": {
        "colab": {
          "base_uri": "https://localhost:8080/"
        },
        "id": "c6vCnTUUNSlO",
        "outputId": "09f58e8f-cf6d-4cef-a1a5-c49f6eb2e52b"
      },
      "source": [
        "print(f\"Mean accuracy of Linear SVC with CountVectorizer: {np.mean(svm_CVresults):.3f}\")\n",
        "print(f\"Mean accuracy of Linear SVC with TF_IDF Vectorizer: {np.mean(svm_TFIDFresults):.3f}\")"
      ],
      "execution_count": 61,
      "outputs": [
        {
          "output_type": "stream",
          "name": "stdout",
          "text": [
            "Mean accuracy of Linear SVC with CountVectorizer: 0.843\n",
            "Mean accuracy of Linear SVC with TF_IDF Vectorizer: 0.863\n"
          ]
        }
      ]
    },
    {
      "cell_type": "markdown",
      "metadata": {
        "id": "YaxCVrs8pWSp"
      },
      "source": [
        "*Write your answer here.*\n",
        "\n",
        "We see a slight improvement in the performance of the classifier, and the tf-idf model has the best accuracy of all models tested. This makes sense intuitively, since - as Pang also points out - sentiment analysis is more subtle than topic classification. We are not looking for a few keywords but for nuances in the text that reveal the writer's sentiment and this itself can be a mixed bag too. \n",
        "So it makes sense that the open class words, that are the richest and most adaptive, work best to express one's sentiment and that they give the best signals, so that the signal to noise ratio is improved when we leave out the closed-class words."
      ]
    },
    {
      "cell_type": "markdown",
      "metadata": {
        "id": "nfwqOciAl2No"
      },
      "source": [
        "# (Q4) Discussion (max. 500 words). (5pts)\n",
        "\n",
        "> Based on your experiments, what are the effective features and techniques in sentiment analysis? What information do different features encode?\n",
        "Why is this important? What are the limitations of these features and techniques?\n",
        " \n"
      ]
    },
    {
      "cell_type": "markdown",
      "metadata": {
        "id": "ZYuse5WLmekZ"
      },
      "source": [
        "*Write your answer here in up to 500 words (-0.25pt for >50 extra words, -0.5 points for >100 extra words, ...)*.\n",
        "\n",
        "\n",
        "![Untitled.jpg](data:image/jpeg;base64,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)"
      ]
    },
    {
      "cell_type": "markdown",
      "metadata": {
        "id": "iwaKwfWQhRk_"
      },
      "source": [
        "# Submission \n"
      ]
    },
    {
      "cell_type": "code",
      "metadata": {
        "id": "aOUeaET5ijk-"
      },
      "source": [
        "# Write your names and student numbers here:\n",
        "# Linda Hovius 12205184\n",
        "# Elynn Weijland 13895958"
      ],
      "execution_count": null,
      "outputs": []
    },
    {
      "cell_type": "markdown",
      "metadata": {
        "id": "3A9K-H6Tii3X"
      },
      "source": [
        "**That's it!**\n",
        "\n",
        "- Check if you answered all questions fully and correctly. \n",
        "- Download your completed notebook using `File -> Download .ipynb` \n",
        "- Check if your answers are all included in the file you submit.\n",
        "- Submit your .ipynb file via *Canvas*. One submission per group. "
      ]
    }
  ]
}